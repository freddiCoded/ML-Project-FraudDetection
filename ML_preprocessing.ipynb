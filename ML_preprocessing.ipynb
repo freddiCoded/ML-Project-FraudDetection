{
 "cells": [
  {
   "attachments": {},
   "cell_type": "markdown",
   "metadata": {},
   "source": [
    "#EDA\n",
    "\n",
    "#\n",
    "\n",
    "--"
   ]
  },
  {
   "attachments": {},
   "cell_type": "markdown",
   "metadata": {},
   "source": [
    "#Import libraries"
   ]
  },
  {
   "cell_type": "code",
   "execution_count": 1,
   "metadata": {},
   "outputs": [
    {
     "name": "stderr",
     "output_type": "stream",
     "text": [
      "UsageError: unrecognized arguments: # show the plots on the online copy\n"
     ]
    }
   ],
   "source": [
    "import pandas as pd\n",
    "import numpy as np\n",
    "import matplotlib\n",
    "import matplotlib.pyplot as plt # run pip install plotly if error\n",
    "import seaborn\n",
    "import seaborn as sns\n",
    "import plotly.express as px # if error install in terminal : pip install plotly\n",
    "import warnings\n",
    "from imblearn.over_sampling import RandomOverSampler\n",
    "from sklearn.model_selection import GridSearchCV, RandomizedSearchCV\n",
    "from sklearn.model_selection import train_test_split, cross_val_score\n",
    "\n",
    "\n",
    "warnings.filterwarnings('ignore')\n",
    "\n",
    "%matplotlib inline # show the plots on the online copy\n"
   ]
  },
  {
   "cell_type": "code",
   "execution_count": 2,
   "metadata": {},
   "outputs": [
    {
     "data": {
      "text/html": [
       "<div>\n",
       "<style scoped>\n",
       "    .dataframe tbody tr th:only-of-type {\n",
       "        vertical-align: middle;\n",
       "    }\n",
       "\n",
       "    .dataframe tbody tr th {\n",
       "        vertical-align: top;\n",
       "    }\n",
       "\n",
       "    .dataframe thead th {\n",
       "        text-align: right;\n",
       "    }\n",
       "</style>\n",
       "<table border=\"1\" class=\"dataframe\">\n",
       "  <thead>\n",
       "    <tr style=\"text-align: right;\">\n",
       "      <th></th>\n",
       "      <th>disrict</th>\n",
       "      <th>client_id</th>\n",
       "      <th>client_catg</th>\n",
       "      <th>region</th>\n",
       "      <th>creation_date</th>\n",
       "      <th>target</th>\n",
       "      <th>invoice_date</th>\n",
       "      <th>tarif_type</th>\n",
       "      <th>counter_number</th>\n",
       "      <th>counter_statue</th>\n",
       "      <th>...</th>\n",
       "      <th>reading_remarque</th>\n",
       "      <th>counter_coefficient</th>\n",
       "      <th>consommation_level_1</th>\n",
       "      <th>consommation_level_2</th>\n",
       "      <th>consommation_level_3</th>\n",
       "      <th>consommation_level_4</th>\n",
       "      <th>old_index</th>\n",
       "      <th>new_index</th>\n",
       "      <th>months_number</th>\n",
       "      <th>counter_type</th>\n",
       "    </tr>\n",
       "  </thead>\n",
       "  <tbody>\n",
       "    <tr>\n",
       "      <th>0</th>\n",
       "      <td>60</td>\n",
       "      <td>train_Client_0</td>\n",
       "      <td>11</td>\n",
       "      <td>101</td>\n",
       "      <td>31/12/1994</td>\n",
       "      <td>0.0</td>\n",
       "      <td>2014-03-24</td>\n",
       "      <td>11</td>\n",
       "      <td>1335667</td>\n",
       "      <td>0</td>\n",
       "      <td>...</td>\n",
       "      <td>8</td>\n",
       "      <td>1</td>\n",
       "      <td>82</td>\n",
       "      <td>0</td>\n",
       "      <td>0</td>\n",
       "      <td>0</td>\n",
       "      <td>14302</td>\n",
       "      <td>14384</td>\n",
       "      <td>4</td>\n",
       "      <td>ELEC</td>\n",
       "    </tr>\n",
       "    <tr>\n",
       "      <th>1</th>\n",
       "      <td>60</td>\n",
       "      <td>train_Client_0</td>\n",
       "      <td>11</td>\n",
       "      <td>101</td>\n",
       "      <td>31/12/1994</td>\n",
       "      <td>0.0</td>\n",
       "      <td>2013-03-29</td>\n",
       "      <td>11</td>\n",
       "      <td>1335667</td>\n",
       "      <td>0</td>\n",
       "      <td>...</td>\n",
       "      <td>6</td>\n",
       "      <td>1</td>\n",
       "      <td>1200</td>\n",
       "      <td>184</td>\n",
       "      <td>0</td>\n",
       "      <td>0</td>\n",
       "      <td>12294</td>\n",
       "      <td>13678</td>\n",
       "      <td>4</td>\n",
       "      <td>ELEC</td>\n",
       "    </tr>\n",
       "    <tr>\n",
       "      <th>2</th>\n",
       "      <td>60</td>\n",
       "      <td>train_Client_0</td>\n",
       "      <td>11</td>\n",
       "      <td>101</td>\n",
       "      <td>31/12/1994</td>\n",
       "      <td>0.0</td>\n",
       "      <td>2015-03-23</td>\n",
       "      <td>11</td>\n",
       "      <td>1335667</td>\n",
       "      <td>0</td>\n",
       "      <td>...</td>\n",
       "      <td>8</td>\n",
       "      <td>1</td>\n",
       "      <td>123</td>\n",
       "      <td>0</td>\n",
       "      <td>0</td>\n",
       "      <td>0</td>\n",
       "      <td>14624</td>\n",
       "      <td>14747</td>\n",
       "      <td>4</td>\n",
       "      <td>ELEC</td>\n",
       "    </tr>\n",
       "  </tbody>\n",
       "</table>\n",
       "<p>3 rows × 21 columns</p>\n",
       "</div>"
      ],
      "text/plain": [
       "   disrict       client_id  client_catg  region creation_date  target  \\\n",
       "0       60  train_Client_0           11     101    31/12/1994     0.0   \n",
       "1       60  train_Client_0           11     101    31/12/1994     0.0   \n",
       "2       60  train_Client_0           11     101    31/12/1994     0.0   \n",
       "\n",
       "  invoice_date  tarif_type  counter_number counter_statue  ...  \\\n",
       "0   2014-03-24          11         1335667              0  ...   \n",
       "1   2013-03-29          11         1335667              0  ...   \n",
       "2   2015-03-23          11         1335667              0  ...   \n",
       "\n",
       "   reading_remarque  counter_coefficient  consommation_level_1  \\\n",
       "0                 8                    1                    82   \n",
       "1                 6                    1                  1200   \n",
       "2                 8                    1                   123   \n",
       "\n",
       "   consommation_level_2  consommation_level_3  consommation_level_4  \\\n",
       "0                     0                     0                     0   \n",
       "1                   184                     0                     0   \n",
       "2                     0                     0                     0   \n",
       "\n",
       "   old_index  new_index  months_number  counter_type  \n",
       "0      14302      14384              4          ELEC  \n",
       "1      12294      13678              4          ELEC  \n",
       "2      14624      14747              4          ELEC  \n",
       "\n",
       "[3 rows x 21 columns]"
      ]
     },
     "execution_count": 2,
     "metadata": {},
     "output_type": "execute_result"
    }
   ],
   "source": [
    "clients = pd.read_csv('/Users/kelechijohn/Neuefische/ML-Project-FraudDetection/data/train/client_train.csv')\n",
    "invoices = pd.read_csv('/Users/kelechijohn/Neuefische/ML-Project-FraudDetection/data/train/invoice_train.csv')\n",
    "data = pd.merge(clients, invoices, how='left', on='client_id')\n",
    "data.head(3)"
   ]
  },
  {
   "attachments": {},
   "cell_type": "markdown",
   "metadata": {},
   "source": [
    "# Data mining!\n",
    "\n",
    "1- date.time for dates tranformation\n",
    "2- "
   ]
  },
  {
   "cell_type": "code",
   "execution_count": 3,
   "metadata": {},
   "outputs": [
    {
     "name": "stdout",
     "output_type": "stream",
     "text": [
      "<class 'pandas.core.frame.DataFrame'>\n",
      "Int64Index: 4476749 entries, 0 to 4476748\n",
      "Data columns (total 21 columns):\n",
      " #   Column                Dtype  \n",
      "---  ------                -----  \n",
      " 0   disrict               int64  \n",
      " 1   client_id             object \n",
      " 2   client_catg           int64  \n",
      " 3   region                int64  \n",
      " 4   creation_date         object \n",
      " 5   target                float64\n",
      " 6   invoice_date          object \n",
      " 7   tarif_type            int64  \n",
      " 8   counter_number        int64  \n",
      " 9   counter_statue        object \n",
      " 10  counter_code          int64  \n",
      " 11  reading_remarque      int64  \n",
      " 12  counter_coefficient   int64  \n",
      " 13  consommation_level_1  int64  \n",
      " 14  consommation_level_2  int64  \n",
      " 15  consommation_level_3  int64  \n",
      " 16  consommation_level_4  int64  \n",
      " 17  old_index             int64  \n",
      " 18  new_index             int64  \n",
      " 19  months_number         int64  \n",
      " 20  counter_type          object \n",
      "dtypes: float64(1), int64(15), object(5)\n",
      "memory usage: 751.4+ MB\n"
     ]
    }
   ],
   "source": [
    "data.info()"
   ]
  },
  {
   "cell_type": "code",
   "execution_count": 4,
   "metadata": {},
   "outputs": [],
   "source": [
    "data['invoice_date'] = pd.to_datetime(data['invoice_date'], format='%Y/%m/%d')\n"
   ]
  },
  {
   "cell_type": "code",
   "execution_count": 5,
   "metadata": {},
   "outputs": [],
   "source": [
    "# Transforming to date.time type\n",
    "data['creation_date'] = pd.to_datetime(data['creation_date'], format='%d/%m/%Y')"
   ]
  },
  {
   "cell_type": "code",
   "execution_count": 6,
   "metadata": {},
   "outputs": [
    {
     "data": {
      "text/plain": [
       "disrict                          int64\n",
       "client_id                       object\n",
       "client_catg                      int64\n",
       "region                           int64\n",
       "creation_date           datetime64[ns]\n",
       "target                         float64\n",
       "invoice_date            datetime64[ns]\n",
       "tarif_type                       int64\n",
       "counter_number                   int64\n",
       "counter_statue                  object\n",
       "counter_code                     int64\n",
       "reading_remarque                 int64\n",
       "counter_coefficient              int64\n",
       "consommation_level_1             int64\n",
       "consommation_level_2             int64\n",
       "consommation_level_3             int64\n",
       "consommation_level_4             int64\n",
       "old_index                        int64\n",
       "new_index                        int64\n",
       "months_number                    int64\n",
       "counter_type                    object\n",
       "dtype: object"
      ]
     },
     "execution_count": 6,
     "metadata": {},
     "output_type": "execute_result"
    }
   ],
   "source": [
    "#\n",
    "data.dtypes"
   ]
  },
  {
   "cell_type": "code",
   "execution_count": 7,
   "metadata": {},
   "outputs": [
    {
     "data": {
      "text/plain": [
       "disrict                         object\n",
       "client_id                       object\n",
       "client_catg                     object\n",
       "region                          object\n",
       "creation_date           datetime64[ns]\n",
       "target                         float64\n",
       "invoice_date            datetime64[ns]\n",
       "tarif_type                      object\n",
       "counter_number                  object\n",
       "counter_statue                  object\n",
       "counter_code                    object\n",
       "reading_remarque                object\n",
       "counter_coefficient             object\n",
       "consommation_level_1             int64\n",
       "consommation_level_2             int64\n",
       "consommation_level_3             int64\n",
       "consommation_level_4             int64\n",
       "old_index                        int64\n",
       "new_index                        int64\n",
       "months_number                    int64\n",
       "counter_type                    object\n",
       "dtype: object"
      ]
     },
     "execution_count": 7,
     "metadata": {},
     "output_type": "execute_result"
    }
   ],
   "source": [
    "# Change datatypes\n",
    "data = data.astype({'disrict': str})\n",
    "data = data.astype({'client_catg': str})\n",
    "data = data.astype({'region': str})\n",
    "data = data.astype({'tarif_type': str})\n",
    "data = data.astype({'counter_number': str})\n",
    "data = data.astype({'counter_code': str})\n",
    "data = data.astype({'reading_remarque': str})\n",
    "data = data.astype({'counter_coefficient': str})\n",
    "data = data.astype({'counter_type': str})\n",
    "\n",
    "data.dtypes"
   ]
  },
  {
   "cell_type": "code",
   "execution_count": 8,
   "metadata": {},
   "outputs": [],
   "source": [
    "dist_cols = pd.get_dummies(data['disrict'], prefix='district_', drop_first=True)\n",
    "dist_cols1 = pd.get_dummies(data['client_catg'], prefix='client_catg_', drop_first=True)\n",
    "dist_cols2 = pd.get_dummies(data['region'], prefix='region_', drop_first=True)\n",
    "dist_cols3 = pd.get_dummies(data['tarif_type'], prefix='tarif_type_', drop_first=True)\n",
    "dist_cols4 = pd.get_dummies(data['counter_statue'], prefix='counter_statue_', drop_first=True)\n",
    "#dist_cols5 = pd.get_dummies(data['counter_code'], prefix='counter_code_', drop_first=True)\n",
    "dist_cols6 = pd.get_dummies(data['reading_remarque'], prefix='reading_remarque_', drop_first=True)\n",
    "dist_cols7 = pd.get_dummies(data['counter_coefficient'], prefix='counter_coefficient_', drop_first=True)\n",
    "dist_cols8 = pd.get_dummies(data['counter_type'], prefix='counter_type_', drop_first=True)\n",
    "\n",
    "# counter_number not\n"
   ]
  },
  {
   "cell_type": "code",
   "execution_count": 9,
   "metadata": {},
   "outputs": [],
   "source": [
    "data = pd.concat([data, dist_cols, dist_cols1, dist_cols2, dist_cols3 ], axis=1)\n",
    "data = pd.concat([data, dist_cols6,dist_cols4, dist_cols7, dist_cols8], axis=1)"
   ]
  },
  {
   "cell_type": "code",
   "execution_count": 10,
   "metadata": {},
   "outputs": [
    {
     "data": {
      "text/plain": [
       "Index(['disrict', 'client_id', 'client_catg', 'region', 'creation_date',\n",
       "       'target', 'invoice_date', 'tarif_type', 'counter_number',\n",
       "       'counter_statue',\n",
       "       ...\n",
       "       'counter_coefficient__30', 'counter_coefficient__33',\n",
       "       'counter_coefficient__4', 'counter_coefficient__40',\n",
       "       'counter_coefficient__5', 'counter_coefficient__50',\n",
       "       'counter_coefficient__6', 'counter_coefficient__8',\n",
       "       'counter_coefficient__9', 'counter_type__GAZ'],\n",
       "      dtype='object', length=104)"
      ]
     },
     "execution_count": 10,
     "metadata": {},
     "output_type": "execute_result"
    }
   ],
   "source": [
    "#data.head(1)\n",
    "#data.info()\n",
    "data.columns"
   ]
  },
  {
   "cell_type": "code",
   "execution_count": 11,
   "metadata": {},
   "outputs": [
    {
     "data": {
      "text/html": [
       "<div>\n",
       "<style scoped>\n",
       "    .dataframe tbody tr th:only-of-type {\n",
       "        vertical-align: middle;\n",
       "    }\n",
       "\n",
       "    .dataframe tbody tr th {\n",
       "        vertical-align: top;\n",
       "    }\n",
       "\n",
       "    .dataframe thead th {\n",
       "        text-align: right;\n",
       "    }\n",
       "</style>\n",
       "<table border=\"1\" class=\"dataframe\">\n",
       "  <thead>\n",
       "    <tr style=\"text-align: right;\">\n",
       "      <th></th>\n",
       "      <th>district__62</th>\n",
       "      <th>district__63</th>\n",
       "      <th>district__69</th>\n",
       "    </tr>\n",
       "  </thead>\n",
       "  <tbody>\n",
       "    <tr>\n",
       "      <th>0</th>\n",
       "      <td>0</td>\n",
       "      <td>0</td>\n",
       "      <td>0</td>\n",
       "    </tr>\n",
       "  </tbody>\n",
       "</table>\n",
       "</div>"
      ],
      "text/plain": [
       "   district__62  district__63  district__69\n",
       "0             0             0             0"
      ]
     },
     "execution_count": 11,
     "metadata": {},
     "output_type": "execute_result"
    }
   ],
   "source": [
    "dist_cols.head(1)"
   ]
  },
  {
   "cell_type": "code",
   "execution_count": 12,
   "metadata": {},
   "outputs": [
    {
     "data": {
      "text/plain": [
       "Index(['disrict', 'client_id', 'client_catg', 'region', 'creation_date',\n",
       "       'target', 'invoice_date', 'tarif_type', 'counter_number',\n",
       "       'counter_statue',\n",
       "       ...\n",
       "       'counter_coefficient__30', 'counter_coefficient__33',\n",
       "       'counter_coefficient__4', 'counter_coefficient__40',\n",
       "       'counter_coefficient__5', 'counter_coefficient__50',\n",
       "       'counter_coefficient__6', 'counter_coefficient__8',\n",
       "       'counter_coefficient__9', 'counter_type__GAZ'],\n",
       "      dtype='object', length=104)"
      ]
     },
     "execution_count": 12,
     "metadata": {},
     "output_type": "execute_result"
    }
   ],
   "source": [
    "data.columns"
   ]
  },
  {
   "cell_type": "code",
   "execution_count": 13,
   "metadata": {},
   "outputs": [],
   "source": [
    "data = data.drop(['disrict', 'client_catg', 'region', 'tarif_type', 'counter_statue', 'counter_code', 'reading_remarque', 'counter_coefficient','counter_type','counter_number'], axis=1)"
   ]
  },
  {
   "cell_type": "code",
   "execution_count": 14,
   "metadata": {},
   "outputs": [
    {
     "data": {
      "text/html": [
       "<div>\n",
       "<style scoped>\n",
       "    .dataframe tbody tr th:only-of-type {\n",
       "        vertical-align: middle;\n",
       "    }\n",
       "\n",
       "    .dataframe tbody tr th {\n",
       "        vertical-align: top;\n",
       "    }\n",
       "\n",
       "    .dataframe thead th {\n",
       "        text-align: right;\n",
       "    }\n",
       "</style>\n",
       "<table border=\"1\" class=\"dataframe\">\n",
       "  <thead>\n",
       "    <tr style=\"text-align: right;\">\n",
       "      <th></th>\n",
       "      <th>client_id</th>\n",
       "      <th>creation_date</th>\n",
       "      <th>target</th>\n",
       "      <th>invoice_date</th>\n",
       "      <th>consommation_level_1</th>\n",
       "      <th>consommation_level_2</th>\n",
       "      <th>consommation_level_3</th>\n",
       "      <th>consommation_level_4</th>\n",
       "      <th>old_index</th>\n",
       "      <th>new_index</th>\n",
       "      <th>...</th>\n",
       "      <th>counter_coefficient__30</th>\n",
       "      <th>counter_coefficient__33</th>\n",
       "      <th>counter_coefficient__4</th>\n",
       "      <th>counter_coefficient__40</th>\n",
       "      <th>counter_coefficient__5</th>\n",
       "      <th>counter_coefficient__50</th>\n",
       "      <th>counter_coefficient__6</th>\n",
       "      <th>counter_coefficient__8</th>\n",
       "      <th>counter_coefficient__9</th>\n",
       "      <th>counter_type__GAZ</th>\n",
       "    </tr>\n",
       "  </thead>\n",
       "  <tbody>\n",
       "    <tr>\n",
       "      <th>0</th>\n",
       "      <td>train_Client_0</td>\n",
       "      <td>1994-12-31</td>\n",
       "      <td>0.0</td>\n",
       "      <td>2014-03-24</td>\n",
       "      <td>82</td>\n",
       "      <td>0</td>\n",
       "      <td>0</td>\n",
       "      <td>0</td>\n",
       "      <td>14302</td>\n",
       "      <td>14384</td>\n",
       "      <td>...</td>\n",
       "      <td>0</td>\n",
       "      <td>0</td>\n",
       "      <td>0</td>\n",
       "      <td>0</td>\n",
       "      <td>0</td>\n",
       "      <td>0</td>\n",
       "      <td>0</td>\n",
       "      <td>0</td>\n",
       "      <td>0</td>\n",
       "      <td>0</td>\n",
       "    </tr>\n",
       "    <tr>\n",
       "      <th>1</th>\n",
       "      <td>train_Client_0</td>\n",
       "      <td>1994-12-31</td>\n",
       "      <td>0.0</td>\n",
       "      <td>2013-03-29</td>\n",
       "      <td>1200</td>\n",
       "      <td>184</td>\n",
       "      <td>0</td>\n",
       "      <td>0</td>\n",
       "      <td>12294</td>\n",
       "      <td>13678</td>\n",
       "      <td>...</td>\n",
       "      <td>0</td>\n",
       "      <td>0</td>\n",
       "      <td>0</td>\n",
       "      <td>0</td>\n",
       "      <td>0</td>\n",
       "      <td>0</td>\n",
       "      <td>0</td>\n",
       "      <td>0</td>\n",
       "      <td>0</td>\n",
       "      <td>0</td>\n",
       "    </tr>\n",
       "  </tbody>\n",
       "</table>\n",
       "<p>2 rows × 94 columns</p>\n",
       "</div>"
      ],
      "text/plain": [
       "        client_id creation_date  target invoice_date  consommation_level_1  \\\n",
       "0  train_Client_0    1994-12-31     0.0   2014-03-24                    82   \n",
       "1  train_Client_0    1994-12-31     0.0   2013-03-29                  1200   \n",
       "\n",
       "   consommation_level_2  consommation_level_3  consommation_level_4  \\\n",
       "0                     0                     0                     0   \n",
       "1                   184                     0                     0   \n",
       "\n",
       "   old_index  new_index  ...  counter_coefficient__30  \\\n",
       "0      14302      14384  ...                        0   \n",
       "1      12294      13678  ...                        0   \n",
       "\n",
       "   counter_coefficient__33  counter_coefficient__4  counter_coefficient__40  \\\n",
       "0                        0                       0                        0   \n",
       "1                        0                       0                        0   \n",
       "\n",
       "   counter_coefficient__5  counter_coefficient__50  counter_coefficient__6  \\\n",
       "0                       0                        0                       0   \n",
       "1                       0                        0                       0   \n",
       "\n",
       "   counter_coefficient__8  counter_coefficient__9  counter_type__GAZ  \n",
       "0                       0                       0                  0  \n",
       "1                       0                       0                  0  \n",
       "\n",
       "[2 rows x 94 columns]"
      ]
     },
     "execution_count": 14,
     "metadata": {},
     "output_type": "execute_result"
    }
   ],
   "source": [
    "data.head(2)"
   ]
  },
  {
   "cell_type": "code",
   "execution_count": null,
   "metadata": {},
   "outputs": [],
   "source": []
  },
  {
   "attachments": {},
   "cell_type": "markdown",
   "metadata": {},
   "source": [
    "# Split the data"
   ]
  },
  {
   "cell_type": "code",
   "execution_count": 16,
   "metadata": {},
   "outputs": [],
   "source": [
    "# Before we go on let's split the data into features and target label\n",
    "X = data.drop(['target','client_id', 'creation_date', 'invoice_date'], axis=1)\n",
    "y = data['target']# Y\n",
    "\n"
   ]
  },
  {
   "cell_type": "code",
   "execution_count": 17,
   "metadata": {},
   "outputs": [
    {
     "name": "stdout",
     "output_type": "stream",
     "text": [
      "Training set has 3133724 samples.\n",
      "Testing set has 1343025 samples.\n"
     ]
    }
   ],
   "source": [
    "# Import train_test_split\n",
    "from sklearn.model_selection import train_test_split\n",
    "\n",
    "X_train, X_test, y_train, y_test = train_test_split(X, y, stratify=y ,test_size=0.3, random_state=150)\n",
    "# Split the 'features' and 'income' data into training and testing sets\n",
    "\n",
    "# Show the results of the split\n",
    "print (\"Training set has {} samples.\".format(X_train.shape[0]))\n",
    "print (\"Testing set has {} samples.\".format(X_test.shape[0]))"
   ]
  },
  {
   "cell_type": "code",
   "execution_count": 18,
   "metadata": {},
   "outputs": [
    {
     "name": "stdout",
     "output_type": "stream",
     "text": [
      "<class 'pandas.core.frame.DataFrame'>\n",
      "Int64Index: 4476749 entries, 0 to 4476748\n",
      "Data columns (total 94 columns):\n",
      " #   Column                   Dtype         \n",
      "---  ------                   -----         \n",
      " 0   client_id                object        \n",
      " 1   creation_date            datetime64[ns]\n",
      " 2   target                   float64       \n",
      " 3   invoice_date             datetime64[ns]\n",
      " 4   consommation_level_1     int64         \n",
      " 5   consommation_level_2     int64         \n",
      " 6   consommation_level_3     int64         \n",
      " 7   consommation_level_4     int64         \n",
      " 8   old_index                int64         \n",
      " 9   new_index                int64         \n",
      " 10  months_number            int64         \n",
      " 11  district__62             uint8         \n",
      " 12  district__63             uint8         \n",
      " 13  district__69             uint8         \n",
      " 14  client_catg__12          uint8         \n",
      " 15  client_catg__51          uint8         \n",
      " 16  region__103              uint8         \n",
      " 17  region__104              uint8         \n",
      " 18  region__105              uint8         \n",
      " 19  region__106              uint8         \n",
      " 20  region__107              uint8         \n",
      " 21  region__199              uint8         \n",
      " 22  region__206              uint8         \n",
      " 23  region__301              uint8         \n",
      " 24  region__302              uint8         \n",
      " 25  region__303              uint8         \n",
      " 26  region__304              uint8         \n",
      " 27  region__305              uint8         \n",
      " 28  region__306              uint8         \n",
      " 29  region__307              uint8         \n",
      " 30  region__308              uint8         \n",
      " 31  region__309              uint8         \n",
      " 32  region__310              uint8         \n",
      " 33  region__311              uint8         \n",
      " 34  region__312              uint8         \n",
      " 35  region__313              uint8         \n",
      " 36  region__371              uint8         \n",
      " 37  region__372              uint8         \n",
      " 38  region__379              uint8         \n",
      " 39  region__399              uint8         \n",
      " 40  tarif_type__11           uint8         \n",
      " 41  tarif_type__12           uint8         \n",
      " 42  tarif_type__13           uint8         \n",
      " 43  tarif_type__14           uint8         \n",
      " 44  tarif_type__15           uint8         \n",
      " 45  tarif_type__18           uint8         \n",
      " 46  tarif_type__21           uint8         \n",
      " 47  tarif_type__24           uint8         \n",
      " 48  tarif_type__27           uint8         \n",
      " 49  tarif_type__29           uint8         \n",
      " 50  tarif_type__30           uint8         \n",
      " 51  tarif_type__40           uint8         \n",
      " 52  tarif_type__42           uint8         \n",
      " 53  tarif_type__45           uint8         \n",
      " 54  tarif_type__8            uint8         \n",
      " 55  tarif_type__9            uint8         \n",
      " 56  reading_remarque__207    uint8         \n",
      " 57  reading_remarque__413    uint8         \n",
      " 58  reading_remarque__5      uint8         \n",
      " 59  reading_remarque__6      uint8         \n",
      " 60  reading_remarque__7      uint8         \n",
      " 61  reading_remarque__8      uint8         \n",
      " 62  reading_remarque__9      uint8         \n",
      " 63  counter_statue__1        uint8         \n",
      " 64  counter_statue__2        uint8         \n",
      " 65  counter_statue__3        uint8         \n",
      " 66  counter_statue__4        uint8         \n",
      " 67  counter_statue__5        uint8         \n",
      " 68  counter_statue__46       uint8         \n",
      " 69  counter_statue__420      uint8         \n",
      " 70  counter_statue__618      uint8         \n",
      " 71  counter_statue__769      uint8         \n",
      " 72  counter_statue__269375   uint8         \n",
      " 73  counter_statue__0        uint8         \n",
      " 74  counter_statue__1        uint8         \n",
      " 75  counter_statue__4        uint8         \n",
      " 76  counter_statue__5        uint8         \n",
      " 77  counter_statue__A        uint8         \n",
      " 78  counter_coefficient__1   uint8         \n",
      " 79  counter_coefficient__10  uint8         \n",
      " 80  counter_coefficient__11  uint8         \n",
      " 81  counter_coefficient__2   uint8         \n",
      " 82  counter_coefficient__20  uint8         \n",
      " 83  counter_coefficient__3   uint8         \n",
      " 84  counter_coefficient__30  uint8         \n",
      " 85  counter_coefficient__33  uint8         \n",
      " 86  counter_coefficient__4   uint8         \n",
      " 87  counter_coefficient__40  uint8         \n",
      " 88  counter_coefficient__5   uint8         \n",
      " 89  counter_coefficient__50  uint8         \n",
      " 90  counter_coefficient__6   uint8         \n",
      " 91  counter_coefficient__8   uint8         \n",
      " 92  counter_coefficient__9   uint8         \n",
      " 93  counter_type__GAZ        uint8         \n",
      "dtypes: datetime64[ns](2), float64(1), int64(7), object(1), uint8(83)\n",
      "memory usage: 764.2+ MB\n"
     ]
    }
   ],
   "source": [
    "data.info()"
   ]
  },
  {
   "cell_type": "code",
   "execution_count": 19,
   "metadata": {},
   "outputs": [],
   "source": [
    "numerical = ['consommation_level_1', 'consommation_level_2', 'consommation_level_3', 'consommation_level_4', 'old_index', 'new_index', 'months_number' ]"
   ]
  },
  {
   "attachments": {},
   "cell_type": "markdown",
   "metadata": {},
   "source": [
    "disrict                          int64\n",
    "client_id                       object\n",
    "client_catg                      int64\n",
    "region                           int64\n",
    "creation_date           datetime64[ns]\n",
    "target                         float64\n",
    "invoice_date            datetime64[ns]\n",
    "tarif_type                       int64\n",
    "counter_number                   int64\n",
    "counter_statue                  object\n",
    "counter_code                     int64\n",
    "reading_remarque                 int64\n",
    "counter_coefficient              int64\n",
    "consommation_level_1             int64\n",
    "consommation_level_2             int64\n",
    "consommation_level_3             int64\n",
    "consommation_level_4             int64\n",
    "old_index                        int64\n",
    "new_index                        int64\n",
    "months_number                    int64\n",
    "counter_type                    object\n",
    "dtype: object"
   ]
  },
  {
   "cell_type": "code",
   "execution_count": 20,
   "metadata": {},
   "outputs": [
    {
     "data": {
      "text/html": [
       "<div>\n",
       "<style scoped>\n",
       "    .dataframe tbody tr th:only-of-type {\n",
       "        vertical-align: middle;\n",
       "    }\n",
       "\n",
       "    .dataframe tbody tr th {\n",
       "        vertical-align: top;\n",
       "    }\n",
       "\n",
       "    .dataframe thead th {\n",
       "        text-align: right;\n",
       "    }\n",
       "</style>\n",
       "<table border=\"1\" class=\"dataframe\">\n",
       "  <thead>\n",
       "    <tr style=\"text-align: right;\">\n",
       "      <th></th>\n",
       "      <th>consommation_level_1</th>\n",
       "      <th>consommation_level_2</th>\n",
       "      <th>consommation_level_3</th>\n",
       "      <th>consommation_level_4</th>\n",
       "      <th>old_index</th>\n",
       "      <th>new_index</th>\n",
       "      <th>months_number</th>\n",
       "    </tr>\n",
       "  </thead>\n",
       "  <tbody>\n",
       "    <tr>\n",
       "      <th>4079493</th>\n",
       "      <td>0.00069</td>\n",
       "      <td>0.0</td>\n",
       "      <td>0.0</td>\n",
       "      <td>0.0</td>\n",
       "      <td>0.000818</td>\n",
       "      <td>0.000829</td>\n",
       "      <td>0.000006</td>\n",
       "    </tr>\n",
       "  </tbody>\n",
       "</table>\n",
       "</div>"
      ],
      "text/plain": [
       "         consommation_level_1  consommation_level_2  consommation_level_3  \\\n",
       "4079493               0.00069                   0.0                   0.0   \n",
       "\n",
       "         consommation_level_4  old_index  new_index  months_number  \n",
       "4079493                   0.0   0.000818   0.000829       0.000006  "
      ]
     },
     "execution_count": 20,
     "metadata": {},
     "output_type": "execute_result"
    }
   ],
   "source": [
    "# Import sklearn.preprocessing.StandardScaler\n",
    "from sklearn.preprocessing import MinMaxScaler\n",
    "# Initialize a scaler, then apply it to the features\n",
    "scaler = MinMaxScaler()\n",
    "X_train[numerical] = scaler.fit_transform(X_train[numerical])\n",
    "X_test[numerical] = scaler.transform(X_test[numerical])\n",
    "# Show an example of a record with scaling applied\n",
    "X_train[numerical].sample(1)"
   ]
  },
  {
   "cell_type": "code",
   "execution_count": null,
   "metadata": {},
   "outputs": [],
   "source": [
    "train_scaled = pd.concat([X_train, y_train], axis=1)\n",
    "test_scaled = pd.concat([X_test, y_test], axis=1)\n",
    "data_scaled = pd.concat([train_scaled, test_scaled], axis=0)\n",
    "data_scaled.shape\n",
    "\n",
    "data_scaled.to_csv('./data/data_scaled.csv')\n"
   ]
  },
  {
   "cell_type": "code",
   "execution_count": null,
   "metadata": {},
   "outputs": [],
   "source": [
    "# Oversample training data\n",
    "#data_scaled_sample =data_scaled.sample(frac=0.2, replace=False, random_state=150)\n",
    "# X = data_scaled_sample.drop(['target'],axis=1)\n",
    "# y = data_scaled_sample.target\n",
    "\n",
    "\n",
    "# X_train, X_test, y_train, y_test = train_test_split(X, y, stratify=y ,test_size=0.3, random_state=150)\n",
    "# ros = RandomOverSampler(random_state=150)\n",
    "\n",
    "\n",
    "# X_train_scaled_ros, y_train_ros = ros.fit_resample(X_train, y_train)\n",
    "# data_scaled_ros = pd.concat([X_train_scaled_ros, y_train_ros], axis=1)\n",
    "\n"
   ]
  },
  {
   "cell_type": "code",
   "execution_count": null,
   "metadata": {},
   "outputs": [
    {
     "name": "stderr",
     "output_type": "stream",
     "text": [
      "UsageError: Unknown variable 'X_train_scaled_ros'\n"
     ]
    }
   ],
   "source": [
    "%store X_train_scaled_ros\n",
    "%store y_train_ros\n",
    "%store X_test\n",
    "%store y_test"
   ]
  },
  {
   "cell_type": "code",
   "execution_count": null,
   "metadata": {},
   "outputs": [
    {
     "ename": "NameError",
     "evalue": "name 'data_scaled_ros' is not defined",
     "output_type": "error",
     "traceback": [
      "\u001b[0;31m---------------------------------------------------------------------------\u001b[0m",
      "\u001b[0;31mNameError\u001b[0m                                 Traceback (most recent call last)",
      "Cell \u001b[0;32mIn[21], line 2\u001b[0m\n\u001b[1;32m      1\u001b[0m test \u001b[39m=\u001b[39m pd\u001b[39m.\u001b[39mconcat([X_test, y_test], axis\u001b[39m=\u001b[39m\u001b[39m1\u001b[39m)\n\u001b[0;32m----> 2\u001b[0m data_ros \u001b[39m=\u001b[39m pd\u001b[39m.\u001b[39mconcat([data_scaled_ros, test], axis\u001b[39m=\u001b[39m\u001b[39m0\u001b[39m)\n\u001b[1;32m      3\u001b[0m data_ros\u001b[39m.\u001b[39mshape\n",
      "\u001b[0;31mNameError\u001b[0m: name 'data_scaled_ros' is not defined"
     ]
    }
   ],
   "source": [
    "test = pd.concat([X_test, y_test], axis=1)\n",
    "data_ros = pd.concat([data_scaled_ros, test], axis=0)\n",
    "data_ros.shape"
   ]
  },
  {
   "cell_type": "code",
   "execution_count": null,
   "metadata": {},
   "outputs": [
    {
     "name": "stdout",
     "output_type": "stream",
     "text": [
      "Stored 'data_ros' (DataFrame)\n"
     ]
    }
   ],
   "source": [
    "%store data_ros"
   ]
  },
  {
   "cell_type": "code",
   "execution_count": null,
   "metadata": {},
   "outputs": [
    {
     "data": {
      "text/plain": [
       "(1153924, 76)"
      ]
     },
     "execution_count": 191,
     "metadata": {},
     "output_type": "execute_result"
    },
    {
     "data": {
      "image/png": "[encoded data removed]",
      "text/plain": [
       "<Figure size 640x480 with 1 Axes>"
      ]
     },
     "metadata": {},
     "output_type": "display_data"
    }
   ],
   "source": [
    "sns.countplot(x=y_train_ros).set_title(\"Representation of resampled target variable\");\n",
    "data_scaled_ros.shape\n"
   ]
  },
  {
   "cell_type": "code",
   "execution_count": null,
   "metadata": {},
   "outputs": [
    {
     "name": "stdout",
     "output_type": "stream",
     "text": [
      "Recall:  0.5451979534427096\n",
      "Report:                precision    recall  f1-score   support\n",
      "\n",
      "         0.0       0.94      0.67      0.78   1237091\n",
      "         1.0       0.12      0.55      0.20    105934\n",
      "\n",
      "    accuracy                           0.66   1343025\n",
      "   macro avg       0.53      0.61      0.49   1343025\n",
      "weighted avg       0.88      0.66      0.73   1343025\n",
      "\n"
     ]
    },
    {
     "data": {
      "image/png": "[encoded data removed]",
      "text/plain": [
       "<Figure size 640x480 with 2 Axes>"
      ]
     },
     "metadata": {},
     "output_type": "display_data"
    }
   ],
   "source": [
    "# Modelling Decisiontree regression\n",
    "dtree = DecisionTreeClassifier(max_depth=10)\n",
    "dtree.fit(X_train_scaled_ros, y_train_ros)\n",
    "y_pred = dtree.predict(X_test)\n",
    "\n",
    "# Confusion matrix using confusion_matrix from sklearn\n",
    "cfm = metrics.confusion_matrix(y_test, y_pred)\n",
    "sns.heatmap(cfm, cmap='YlGnBu', annot=True, fmt='d', linewidths=.5);    \n",
    "print('Recall: ',metrics.recall_score(y_test, y_pred))\n",
    "print('Report: ',metrics.classification_report(y_test, y_pred))"
   ]
  },
  {
   "cell_type": "code",
   "execution_count": null,
   "metadata": {},
   "outputs": [
    {
     "name": "stdout",
     "output_type": "stream",
     "text": [
      "\u001b[0;31mInit signature:\u001b[0m\n",
      "\u001b[0mDecisionTreeClassifier\u001b[0m\u001b[0;34m(\u001b[0m\u001b[0;34m\u001b[0m\n",
      "\u001b[0;34m\u001b[0m    \u001b[0;34m*\u001b[0m\u001b[0;34m,\u001b[0m\u001b[0;34m\u001b[0m\n",
      "\u001b[0;34m\u001b[0m    \u001b[0mcriterion\u001b[0m\u001b[0;34m=\u001b[0m\u001b[0;34m'gini'\u001b[0m\u001b[0;34m,\u001b[0m\u001b[0;34m\u001b[0m\n",
      "\u001b[0;34m\u001b[0m    \u001b[0msplitter\u001b[0m\u001b[0;34m=\u001b[0m\u001b[0;34m'best'\u001b[0m\u001b[0;34m,\u001b[0m\u001b[0;34m\u001b[0m\n",
      "\u001b[0;34m\u001b[0m    \u001b[0mmax_depth\u001b[0m\u001b[0;34m=\u001b[0m\u001b[0;32mNone\u001b[0m\u001b[0;34m,\u001b[0m\u001b[0;34m\u001b[0m\n",
      "\u001b[0;34m\u001b[0m    \u001b[0mmin_samples_split\u001b[0m\u001b[0;34m=\u001b[0m\u001b[0;36m2\u001b[0m\u001b[0;34m,\u001b[0m\u001b[0;34m\u001b[0m\n",
      "\u001b[0;34m\u001b[0m    \u001b[0mmin_samples_leaf\u001b[0m\u001b[0;34m=\u001b[0m\u001b[0;36m1\u001b[0m\u001b[0;34m,\u001b[0m\u001b[0;34m\u001b[0m\n",
      "\u001b[0;34m\u001b[0m    \u001b[0mmin_weight_fraction_leaf\u001b[0m\u001b[0;34m=\u001b[0m\u001b[0;36m0.0\u001b[0m\u001b[0;34m,\u001b[0m\u001b[0;34m\u001b[0m\n",
      "\u001b[0;34m\u001b[0m    \u001b[0mmax_features\u001b[0m\u001b[0;34m=\u001b[0m\u001b[0;32mNone\u001b[0m\u001b[0;34m,\u001b[0m\u001b[0;34m\u001b[0m\n",
      "\u001b[0;34m\u001b[0m    \u001b[0mrandom_state\u001b[0m\u001b[0;34m=\u001b[0m\u001b[0;32mNone\u001b[0m\u001b[0;34m,\u001b[0m\u001b[0;34m\u001b[0m\n",
      "\u001b[0;34m\u001b[0m    \u001b[0mmax_leaf_nodes\u001b[0m\u001b[0;34m=\u001b[0m\u001b[0;32mNone\u001b[0m\u001b[0;34m,\u001b[0m\u001b[0;34m\u001b[0m\n",
      "\u001b[0;34m\u001b[0m    \u001b[0mmin_impurity_decrease\u001b[0m\u001b[0;34m=\u001b[0m\u001b[0;36m0.0\u001b[0m\u001b[0;34m,\u001b[0m\u001b[0;34m\u001b[0m\n",
      "\u001b[0;34m\u001b[0m    \u001b[0mclass_weight\u001b[0m\u001b[0;34m=\u001b[0m\u001b[0;32mNone\u001b[0m\u001b[0;34m,\u001b[0m\u001b[0;34m\u001b[0m\n",
      "\u001b[0;34m\u001b[0m    \u001b[0mccp_alpha\u001b[0m\u001b[0;34m=\u001b[0m\u001b[0;36m0.0\u001b[0m\u001b[0;34m,\u001b[0m\u001b[0;34m\u001b[0m\n",
      "\u001b[0;34m\u001b[0m\u001b[0;34m)\u001b[0m\u001b[0;34m\u001b[0m\u001b[0;34m\u001b[0m\u001b[0m\n",
      "\u001b[0;31mDocstring:\u001b[0m     \n",
      "A decision tree classifier.\n",
      "\n",
      "Read more in the :ref:`User Guide <tree>`.\n",
      "\n",
      "Parameters\n",
      "----------\n",
      "criterion : {\"gini\", \"entropy\"}, default=\"gini\"\n",
      "    The function to measure the quality of a split. Supported criteria are\n",
      "    \"gini\" for the Gini impurity and \"entropy\" for the information gain.\n",
      "\n",
      "splitter : {\"best\", \"random\"}, default=\"best\"\n",
      "    The strategy used to choose the split at each node. Supported\n",
      "    strategies are \"best\" to choose the best split and \"random\" to choose\n",
      "    the best random split.\n",
      "\n",
      "max_depth : int, default=None\n",
      "    The maximum depth of the tree. If None, then nodes are expanded until\n",
      "    all leaves are pure or until all leaves contain less than\n",
      "    min_samples_split samples.\n",
      "\n",
      "min_samples_split : int or float, default=2\n",
      "    The minimum number of samples required to split an internal node:\n",
      "\n",
      "    - If int, then consider `min_samples_split` as the minimum number.\n",
      "    - If float, then `min_samples_split` is a fraction and\n",
      "      `ceil(min_samples_split * n_samples)` are the minimum\n",
      "      number of samples for each split.\n",
      "\n",
      "    .. versionchanged:: 0.18\n",
      "       Added float values for fractions.\n",
      "\n",
      "min_samples_leaf : int or float, default=1\n",
      "    The minimum number of samples required to be at a leaf node.\n",
      "    A split point at any depth will only be considered if it leaves at\n",
      "    least ``min_samples_leaf`` training samples in each of the left and\n",
      "    right branches.  This may have the effect of smoothing the model,\n",
      "    especially in regression.\n",
      "\n",
      "    - If int, then consider `min_samples_leaf` as the minimum number.\n",
      "    - If float, then `min_samples_leaf` is a fraction and\n",
      "      `ceil(min_samples_leaf * n_samples)` are the minimum\n",
      "      number of samples for each node.\n",
      "\n",
      "    .. versionchanged:: 0.18\n",
      "       Added float values for fractions.\n",
      "\n",
      "min_weight_fraction_leaf : float, default=0.0\n",
      "    The minimum weighted fraction of the sum total of weights (of all\n",
      "    the input samples) required to be at a leaf node. Samples have\n",
      "    equal weight when sample_weight is not provided.\n",
      "\n",
      "max_features : int, float or {\"auto\", \"sqrt\", \"log2\"}, default=None\n",
      "    The number of features to consider when looking for the best split:\n",
      "\n",
      "        - If int, then consider `max_features` features at each split.\n",
      "        - If float, then `max_features` is a fraction and\n",
      "          `int(max_features * n_features)` features are considered at each\n",
      "          split.\n",
      "        - If \"auto\", then `max_features=sqrt(n_features)`.\n",
      "        - If \"sqrt\", then `max_features=sqrt(n_features)`.\n",
      "        - If \"log2\", then `max_features=log2(n_features)`.\n",
      "        - If None, then `max_features=n_features`.\n",
      "\n",
      "    Note: the search for a split does not stop until at least one\n",
      "    valid partition of the node samples is found, even if it requires to\n",
      "    effectively inspect more than ``max_features`` features.\n",
      "\n",
      "random_state : int, RandomState instance or None, default=None\n",
      "    Controls the randomness of the estimator. The features are always\n",
      "    randomly permuted at each split, even if ``splitter`` is set to\n",
      "    ``\"best\"``. When ``max_features < n_features``, the algorithm will\n",
      "    select ``max_features`` at random at each split before finding the best\n",
      "    split among them. But the best found split may vary across different\n",
      "    runs, even if ``max_features=n_features``. That is the case, if the\n",
      "    improvement of the criterion is identical for several splits and one\n",
      "    split has to be selected at random. To obtain a deterministic behaviour\n",
      "    during fitting, ``random_state`` has to be fixed to an integer.\n",
      "    See :term:`Glossary <random_state>` for details.\n",
      "\n",
      "max_leaf_nodes : int, default=None\n",
      "    Grow a tree with ``max_leaf_nodes`` in best-first fashion.\n",
      "    Best nodes are defined as relative reduction in impurity.\n",
      "    If None then unlimited number of leaf nodes.\n",
      "\n",
      "min_impurity_decrease : float, default=0.0\n",
      "    A node will be split if this split induces a decrease of the impurity\n",
      "    greater than or equal to this value.\n",
      "\n",
      "    The weighted impurity decrease equation is the following::\n",
      "\n",
      "        N_t / N * (impurity - N_t_R / N_t * right_impurity\n",
      "                            - N_t_L / N_t * left_impurity)\n",
      "\n",
      "    where ``N`` is the total number of samples, ``N_t`` is the number of\n",
      "    samples at the current node, ``N_t_L`` is the number of samples in the\n",
      "    left child, and ``N_t_R`` is the number of samples in the right child.\n",
      "\n",
      "    ``N``, ``N_t``, ``N_t_R`` and ``N_t_L`` all refer to the weighted sum,\n",
      "    if ``sample_weight`` is passed.\n",
      "\n",
      "    .. versionadded:: 0.19\n",
      "\n",
      "class_weight : dict, list of dict or \"balanced\", default=None\n",
      "    Weights associated with classes in the form ``{class_label: weight}``.\n",
      "    If None, all classes are supposed to have weight one. For\n",
      "    multi-output problems, a list of dicts can be provided in the same\n",
      "    order as the columns of y.\n",
      "\n",
      "    Note that for multioutput (including multilabel) weights should be\n",
      "    defined for each class of every column in its own dict. For example,\n",
      "    for four-class multilabel classification weights should be\n",
      "    [{0: 1, 1: 1}, {0: 1, 1: 5}, {0: 1, 1: 1}, {0: 1, 1: 1}] instead of\n",
      "    [{1:1}, {2:5}, {3:1}, {4:1}].\n",
      "\n",
      "    The \"balanced\" mode uses the values of y to automatically adjust\n",
      "    weights inversely proportional to class frequencies in the input data\n",
      "    as ``n_samples / (n_classes * np.bincount(y))``\n",
      "\n",
      "    For multi-output, the weights of each column of y will be multiplied.\n",
      "\n",
      "    Note that these weights will be multiplied with sample_weight (passed\n",
      "    through the fit method) if sample_weight is specified.\n",
      "\n",
      "ccp_alpha : non-negative float, default=0.0\n",
      "    Complexity parameter used for Minimal Cost-Complexity Pruning. The\n",
      "    subtree with the largest cost complexity that is smaller than\n",
      "    ``ccp_alpha`` will be chosen. By default, no pruning is performed. See\n",
      "    :ref:`minimal_cost_complexity_pruning` for details.\n",
      "\n",
      "    .. versionadded:: 0.22\n",
      "\n",
      "Attributes\n",
      "----------\n",
      "classes_ : ndarray of shape (n_classes,) or list of ndarray\n",
      "    The classes labels (single output problem),\n",
      "    or a list of arrays of class labels (multi-output problem).\n",
      "\n",
      "feature_importances_ : ndarray of shape (n_features,)\n",
      "    The impurity-based feature importances.\n",
      "    The higher, the more important the feature.\n",
      "    The importance of a feature is computed as the (normalized)\n",
      "    total reduction of the criterion brought by that feature.  It is also\n",
      "    known as the Gini importance [4]_.\n",
      "\n",
      "    Warning: impurity-based feature importances can be misleading for\n",
      "    high cardinality features (many unique values). See\n",
      "    :func:`sklearn.inspection.permutation_importance` as an alternative.\n",
      "\n",
      "max_features_ : int\n",
      "    The inferred value of max_features.\n",
      "\n",
      "n_classes_ : int or list of int\n",
      "    The number of classes (for single output problems),\n",
      "    or a list containing the number of classes for each\n",
      "    output (for multi-output problems).\n",
      "\n",
      "n_features_ : int\n",
      "    The number of features when ``fit`` is performed.\n",
      "\n",
      "    .. deprecated:: 1.0\n",
      "       `n_features_` is deprecated in 1.0 and will be removed in\n",
      "       1.2. Use `n_features_in_` instead.\n",
      "\n",
      "n_features_in_ : int\n",
      "    Number of features seen during :term:`fit`.\n",
      "\n",
      "    .. versionadded:: 0.24\n",
      "\n",
      "feature_names_in_ : ndarray of shape (`n_features_in_`,)\n",
      "    Names of features seen during :term:`fit`. Defined only when `X`\n",
      "    has feature names that are all strings.\n",
      "\n",
      "    .. versionadded:: 1.0\n",
      "\n",
      "n_outputs_ : int\n",
      "    The number of outputs when ``fit`` is performed.\n",
      "\n",
      "tree_ : Tree instance\n",
      "    The underlying Tree object. Please refer to\n",
      "    ``help(sklearn.tree._tree.Tree)`` for attributes of Tree object and\n",
      "    :ref:`sphx_glr_auto_examples_tree_plot_unveil_tree_structure.py`\n",
      "    for basic usage of these attributes.\n",
      "\n",
      "See Also\n",
      "--------\n",
      "DecisionTreeRegressor : A decision tree regressor.\n",
      "\n",
      "Notes\n",
      "-----\n",
      "The default values for the parameters controlling the size of the trees\n",
      "(e.g. ``max_depth``, ``min_samples_leaf``, etc.) lead to fully grown and\n",
      "unpruned trees which can potentially be very large on some data sets. To\n",
      "reduce memory consumption, the complexity and size of the trees should be\n",
      "controlled by setting those parameter values.\n",
      "\n",
      "The :meth:`predict` method operates using the :func:`numpy.argmax`\n",
      "function on the outputs of :meth:`predict_proba`. This means that in\n",
      "case the highest predicted probabilities are tied, the classifier will\n",
      "predict the tied class with the lowest index in :term:`classes_`.\n",
      "\n",
      "References\n",
      "----------\n",
      "\n",
      ".. [1] https://en.wikipedia.org/wiki/Decision_tree_learning\n",
      "\n",
      ".. [2] L. Breiman, J. Friedman, R. Olshen, and C. Stone, \"Classification\n",
      "       and Regression Trees\", Wadsworth, Belmont, CA, 1984.\n",
      "\n",
      ".. [3] T. Hastie, R. Tibshirani and J. Friedman. \"Elements of Statistical\n",
      "       Learning\", Springer, 2009.\n",
      "\n",
      ".. [4] L. Breiman, and A. Cutler, \"Random Forests\",\n",
      "       https://www.stat.berkeley.edu/~breiman/RandomForests/cc_home.htm\n",
      "\n",
      "Examples\n",
      "--------\n",
      ">>> from sklearn.datasets import load_iris\n",
      ">>> from sklearn.model_selection import cross_val_score\n",
      ">>> from sklearn.tree import DecisionTreeClassifier\n",
      ">>> clf = DecisionTreeClassifier(random_state=0)\n",
      ">>> iris = load_iris()\n",
      ">>> cross_val_score(clf, iris.data, iris.target, cv=10)\n",
      "...                             # doctest: +SKIP\n",
      "...\n",
      "array([ 1.     ,  0.93...,  0.86...,  0.93...,  0.93...,\n",
      "        0.93...,  0.93...,  1.     ,  0.93...,  1.      ])\n",
      "\u001b[0;31mFile:\u001b[0m           ~/neuefische/ML-Project-FraudDetection/.venv/lib/python3.9/site-packages/sklearn/tree/_classes.py\n",
      "\u001b[0;31mType:\u001b[0m           ABCMeta\n",
      "\u001b[0;31mSubclasses:\u001b[0m     ExtraTreeClassifier"
     ]
    }
   ],
   "source": [
    "dtree.get_params().keys()\n",
    "DecisionTreeClassifier?"
   ]
  },
  {
   "cell_type": "code",
   "execution_count": null,
   "metadata": {},
   "outputs": [
    {
     "name": "stdout",
     "output_type": "stream",
     "text": [
      "Fitting 5 folds for each of 56 candidates, totalling 280 fits\n"
     ]
    },
    {
     "ename": "KeyboardInterrupt",
     "evalue": "",
     "output_type": "error",
     "traceback": [
      "\u001b[0;31m---------------------------------------------------------------------------\u001b[0m",
      "\u001b[0;31mKeyboardInterrupt\u001b[0m                         Traceback (most recent call last)",
      "Cell \u001b[0;32mIn[194], line 11\u001b[0m\n\u001b[1;32m      7\u001b[0m \u001b[39m# Instantiate gridsearch and define the metric to optimize \u001b[39;00m\n\u001b[1;32m      8\u001b[0m gs \u001b[39m=\u001b[39m GridSearchCV(DecisionTreeClassifier(), param_grid, scoring\u001b[39m=\u001b[39m\u001b[39m'\u001b[39m\u001b[39mrecall\u001b[39m\u001b[39m'\u001b[39m,\n\u001b[1;32m      9\u001b[0m                   cv\u001b[39m=\u001b[39m\u001b[39m5\u001b[39m, verbose\u001b[39m=\u001b[39m\u001b[39m1\u001b[39m, n_jobs\u001b[39m=\u001b[39m\u001b[39m-\u001b[39m\u001b[39m1\u001b[39m)\n\u001b[0;32m---> 11\u001b[0m gs\u001b[39m.\u001b[39;49mfit(X_train_scaled_ros, y_train_ros)\n",
      "File \u001b[0;32m~/neuefische/ML-Project-FraudDetection/.venv/lib/python3.9/site-packages/sklearn/model_selection/_search.py:891\u001b[0m, in \u001b[0;36mBaseSearchCV.fit\u001b[0;34m(self, X, y, groups, **fit_params)\u001b[0m\n\u001b[1;32m    885\u001b[0m     results \u001b[39m=\u001b[39m \u001b[39mself\u001b[39m\u001b[39m.\u001b[39m_format_results(\n\u001b[1;32m    886\u001b[0m         all_candidate_params, n_splits, all_out, all_more_results\n\u001b[1;32m    887\u001b[0m     )\n\u001b[1;32m    889\u001b[0m     \u001b[39mreturn\u001b[39;00m results\n\u001b[0;32m--> 891\u001b[0m \u001b[39mself\u001b[39;49m\u001b[39m.\u001b[39;49m_run_search(evaluate_candidates)\n\u001b[1;32m    893\u001b[0m \u001b[39m# multimetric is determined here because in the case of a callable\u001b[39;00m\n\u001b[1;32m    894\u001b[0m \u001b[39m# self.scoring the return type is only known after calling\u001b[39;00m\n\u001b[1;32m    895\u001b[0m first_test_score \u001b[39m=\u001b[39m all_out[\u001b[39m0\u001b[39m][\u001b[39m\"\u001b[39m\u001b[39mtest_scores\u001b[39m\u001b[39m\"\u001b[39m]\n",
      "File \u001b[0;32m~/neuefische/ML-Project-FraudDetection/.venv/lib/python3.9/site-packages/sklearn/model_selection/_search.py:1392\u001b[0m, in \u001b[0;36mGridSearchCV._run_search\u001b[0;34m(self, evaluate_candidates)\u001b[0m\n\u001b[1;32m   1390\u001b[0m \u001b[39mdef\u001b[39;00m \u001b[39m_run_search\u001b[39m(\u001b[39mself\u001b[39m, evaluate_candidates):\n\u001b[1;32m   1391\u001b[0m \u001b[39m    \u001b[39m\u001b[39m\"\"\"Search all candidates in param_grid\"\"\"\u001b[39;00m\n\u001b[0;32m-> 1392\u001b[0m     evaluate_candidates(ParameterGrid(\u001b[39mself\u001b[39;49m\u001b[39m.\u001b[39;49mparam_grid))\n",
      "File \u001b[0;32m~/neuefische/ML-Project-FraudDetection/.venv/lib/python3.9/site-packages/sklearn/model_selection/_search.py:838\u001b[0m, in \u001b[0;36mBaseSearchCV.fit.<locals>.evaluate_candidates\u001b[0;34m(candidate_params, cv, more_results)\u001b[0m\n\u001b[1;32m    830\u001b[0m \u001b[39mif\u001b[39;00m \u001b[39mself\u001b[39m\u001b[39m.\u001b[39mverbose \u001b[39m>\u001b[39m \u001b[39m0\u001b[39m:\n\u001b[1;32m    831\u001b[0m     \u001b[39mprint\u001b[39m(\n\u001b[1;32m    832\u001b[0m         \u001b[39m\"\u001b[39m\u001b[39mFitting \u001b[39m\u001b[39m{0}\u001b[39;00m\u001b[39m folds for each of \u001b[39m\u001b[39m{1}\u001b[39;00m\u001b[39m candidates,\u001b[39m\u001b[39m\"\u001b[39m\n\u001b[1;32m    833\u001b[0m         \u001b[39m\"\u001b[39m\u001b[39m totalling \u001b[39m\u001b[39m{2}\u001b[39;00m\u001b[39m fits\u001b[39m\u001b[39m\"\u001b[39m\u001b[39m.\u001b[39mformat(\n\u001b[1;32m    834\u001b[0m             n_splits, n_candidates, n_candidates \u001b[39m*\u001b[39m n_splits\n\u001b[1;32m    835\u001b[0m         )\n\u001b[1;32m    836\u001b[0m     )\n\u001b[0;32m--> 838\u001b[0m out \u001b[39m=\u001b[39m parallel(\n\u001b[1;32m    839\u001b[0m     delayed(_fit_and_score)(\n\u001b[1;32m    840\u001b[0m         clone(base_estimator),\n\u001b[1;32m    841\u001b[0m         X,\n\u001b[1;32m    842\u001b[0m         y,\n\u001b[1;32m    843\u001b[0m         train\u001b[39m=\u001b[39;49mtrain,\n\u001b[1;32m    844\u001b[0m         test\u001b[39m=\u001b[39;49mtest,\n\u001b[1;32m    845\u001b[0m         parameters\u001b[39m=\u001b[39;49mparameters,\n\u001b[1;32m    846\u001b[0m         split_progress\u001b[39m=\u001b[39;49m(split_idx, n_splits),\n\u001b[1;32m    847\u001b[0m         candidate_progress\u001b[39m=\u001b[39;49m(cand_idx, n_candidates),\n\u001b[1;32m    848\u001b[0m         \u001b[39m*\u001b[39;49m\u001b[39m*\u001b[39;49mfit_and_score_kwargs,\n\u001b[1;32m    849\u001b[0m     )\n\u001b[1;32m    850\u001b[0m     \u001b[39mfor\u001b[39;49;00m (cand_idx, parameters), (split_idx, (train, test)) \u001b[39min\u001b[39;49;00m product(\n\u001b[1;32m    851\u001b[0m         \u001b[39menumerate\u001b[39;49m(candidate_params), \u001b[39menumerate\u001b[39;49m(cv\u001b[39m.\u001b[39;49msplit(X, y, groups))\n\u001b[1;32m    852\u001b[0m     )\n\u001b[1;32m    853\u001b[0m )\n\u001b[1;32m    855\u001b[0m \u001b[39mif\u001b[39;00m \u001b[39mlen\u001b[39m(out) \u001b[39m<\u001b[39m \u001b[39m1\u001b[39m:\n\u001b[1;32m    856\u001b[0m     \u001b[39mraise\u001b[39;00m \u001b[39mValueError\u001b[39;00m(\n\u001b[1;32m    857\u001b[0m         \u001b[39m\"\u001b[39m\u001b[39mNo fits were performed. \u001b[39m\u001b[39m\"\u001b[39m\n\u001b[1;32m    858\u001b[0m         \u001b[39m\"\u001b[39m\u001b[39mWas the CV iterator empty? \u001b[39m\u001b[39m\"\u001b[39m\n\u001b[1;32m    859\u001b[0m         \u001b[39m\"\u001b[39m\u001b[39mWere there no candidates?\u001b[39m\u001b[39m\"\u001b[39m\n\u001b[1;32m    860\u001b[0m     )\n",
      "File \u001b[0;32m~/neuefische/ML-Project-FraudDetection/.venv/lib/python3.9/site-packages/joblib/parallel.py:1098\u001b[0m, in \u001b[0;36mParallel.__call__\u001b[0;34m(self, iterable)\u001b[0m\n\u001b[1;32m   1095\u001b[0m     \u001b[39mself\u001b[39m\u001b[39m.\u001b[39m_iterating \u001b[39m=\u001b[39m \u001b[39mFalse\u001b[39;00m\n\u001b[1;32m   1097\u001b[0m \u001b[39mwith\u001b[39;00m \u001b[39mself\u001b[39m\u001b[39m.\u001b[39m_backend\u001b[39m.\u001b[39mretrieval_context():\n\u001b[0;32m-> 1098\u001b[0m     \u001b[39mself\u001b[39;49m\u001b[39m.\u001b[39;49mretrieve()\n\u001b[1;32m   1099\u001b[0m \u001b[39m# Make sure that we get a last message telling us we are done\u001b[39;00m\n\u001b[1;32m   1100\u001b[0m elapsed_time \u001b[39m=\u001b[39m time\u001b[39m.\u001b[39mtime() \u001b[39m-\u001b[39m \u001b[39mself\u001b[39m\u001b[39m.\u001b[39m_start_time\n",
      "File \u001b[0;32m~/neuefische/ML-Project-FraudDetection/.venv/lib/python3.9/site-packages/joblib/parallel.py:975\u001b[0m, in \u001b[0;36mParallel.retrieve\u001b[0;34m(self)\u001b[0m\n\u001b[1;32m    973\u001b[0m \u001b[39mtry\u001b[39;00m:\n\u001b[1;32m    974\u001b[0m     \u001b[39mif\u001b[39;00m \u001b[39mgetattr\u001b[39m(\u001b[39mself\u001b[39m\u001b[39m.\u001b[39m_backend, \u001b[39m'\u001b[39m\u001b[39msupports_timeout\u001b[39m\u001b[39m'\u001b[39m, \u001b[39mFalse\u001b[39;00m):\n\u001b[0;32m--> 975\u001b[0m         \u001b[39mself\u001b[39m\u001b[39m.\u001b[39m_output\u001b[39m.\u001b[39mextend(job\u001b[39m.\u001b[39;49mget(timeout\u001b[39m=\u001b[39;49m\u001b[39mself\u001b[39;49m\u001b[39m.\u001b[39;49mtimeout))\n\u001b[1;32m    976\u001b[0m     \u001b[39melse\u001b[39;00m:\n\u001b[1;32m    977\u001b[0m         \u001b[39mself\u001b[39m\u001b[39m.\u001b[39m_output\u001b[39m.\u001b[39mextend(job\u001b[39m.\u001b[39mget())\n",
      "File \u001b[0;32m~/neuefische/ML-Project-FraudDetection/.venv/lib/python3.9/site-packages/joblib/_parallel_backends.py:567\u001b[0m, in \u001b[0;36mLokyBackend.wrap_future_result\u001b[0;34m(future, timeout)\u001b[0m\n\u001b[1;32m    564\u001b[0m \u001b[39m\u001b[39m\u001b[39m\"\"\"Wrapper for Future.result to implement the same behaviour as\u001b[39;00m\n\u001b[1;32m    565\u001b[0m \u001b[39mAsyncResults.get from multiprocessing.\"\"\"\u001b[39;00m\n\u001b[1;32m    566\u001b[0m \u001b[39mtry\u001b[39;00m:\n\u001b[0;32m--> 567\u001b[0m     \u001b[39mreturn\u001b[39;00m future\u001b[39m.\u001b[39;49mresult(timeout\u001b[39m=\u001b[39;49mtimeout)\n\u001b[1;32m    568\u001b[0m \u001b[39mexcept\u001b[39;00m CfTimeoutError \u001b[39mas\u001b[39;00m e:\n\u001b[1;32m    569\u001b[0m     \u001b[39mraise\u001b[39;00m \u001b[39mTimeoutError\u001b[39;00m \u001b[39mfrom\u001b[39;00m \u001b[39me\u001b[39;00m\n",
      "File \u001b[0;32m~/.pyenv/versions/3.9.8/lib/python3.9/concurrent/futures/_base.py:440\u001b[0m, in \u001b[0;36mFuture.result\u001b[0;34m(self, timeout)\u001b[0m\n\u001b[1;32m    437\u001b[0m \u001b[39melif\u001b[39;00m \u001b[39mself\u001b[39m\u001b[39m.\u001b[39m_state \u001b[39m==\u001b[39m FINISHED:\n\u001b[1;32m    438\u001b[0m     \u001b[39mreturn\u001b[39;00m \u001b[39mself\u001b[39m\u001b[39m.\u001b[39m__get_result()\n\u001b[0;32m--> 440\u001b[0m \u001b[39mself\u001b[39;49m\u001b[39m.\u001b[39;49m_condition\u001b[39m.\u001b[39;49mwait(timeout)\n\u001b[1;32m    442\u001b[0m \u001b[39mif\u001b[39;00m \u001b[39mself\u001b[39m\u001b[39m.\u001b[39m_state \u001b[39min\u001b[39;00m [CANCELLED, CANCELLED_AND_NOTIFIED]:\n\u001b[1;32m    443\u001b[0m     \u001b[39mraise\u001b[39;00m CancelledError()\n",
      "File \u001b[0;32m~/.pyenv/versions/3.9.8/lib/python3.9/threading.py:312\u001b[0m, in \u001b[0;36mCondition.wait\u001b[0;34m(self, timeout)\u001b[0m\n\u001b[1;32m    310\u001b[0m \u001b[39mtry\u001b[39;00m:    \u001b[39m# restore state no matter what (e.g., KeyboardInterrupt)\u001b[39;00m\n\u001b[1;32m    311\u001b[0m     \u001b[39mif\u001b[39;00m timeout \u001b[39mis\u001b[39;00m \u001b[39mNone\u001b[39;00m:\n\u001b[0;32m--> 312\u001b[0m         waiter\u001b[39m.\u001b[39;49macquire()\n\u001b[1;32m    313\u001b[0m         gotit \u001b[39m=\u001b[39m \u001b[39mTrue\u001b[39;00m\n\u001b[1;32m    314\u001b[0m     \u001b[39melse\u001b[39;00m:\n",
      "\u001b[0;31mKeyboardInterrupt\u001b[0m: "
     ]
    }
   ],
   "source": [
    "# Defining parameter grid (as dictionary)\n",
    "param_grid = {\"ccp_alpha\" : [0.0, 0.1, 0.5, 1], #this actually defines the model you use\n",
    "              \"max_depth\" : [4,5,6,7 ,10, 15, 20,],\n",
    "              \"max_features\" : [\"sqrt\", \"none\"],\n",
    "             }\n",
    "\n",
    "# Instantiate gridsearch and define the metric to optimize \n",
    "gs = GridSearchCV(DecisionTreeClassifier(), param_grid, scoring='recall',\n",
    "                  cv=5, verbose=1, n_jobs=-1)\n",
    "\n",
    "gs.fit(X_train_scaled_ros, y_train_ros)\n"
   ]
  },
  {
   "cell_type": "code",
   "execution_count": null,
   "metadata": {},
   "outputs": [],
   "source": [
    "# Best score\n",
    "print('Best score:', round(gs.best_score_, 3))\n",
    "\n",
    "# Best parameters\n",
    "print('Best parameters:', gs.best_params_)"
   ]
  },
  {
   "cell_type": "code",
   "execution_count": null,
   "metadata": {},
   "outputs": [],
   "source": [
    "dtree_best = gs.best_estimator_"
   ]
  },
  {
   "cell_type": "code",
   "execution_count": null,
   "metadata": {},
   "outputs": [],
   "source": [
    "dtree_best.fit(X_train_scaled_ros, y_train_ros)\n",
    "y_pred_best = dtree_best.predict(X_test)\n",
    "\n",
    "# Confusion matrix using confusion_matrix from sklearn\n",
    "cfm = metrics.confusion_matrix(y_test, y_pred_best)\n",
    "sns.heatmap(cfm, cmap='YlGnBu', annot=True, fmt='d', linewidths=.5);    \n",
    "print('Recall: ',metrics.recall_score(y_test, y_pred_best))\n",
    "print('Report: ',metrics.classification_report(y_test, y_pred_best))"
   ]
  },
  {
   "cell_type": "code",
   "execution_count": null,
   "metadata": {},
   "outputs": [],
   "source": [
    "y_pred_train = dtree.predict(X_train_scaled_ros)\n",
    "\n",
    "# Confusion matrix using confusion_matrix from sklearn\n",
    "cfm = metrics.confusion_matrix(y_train_ros, y_pred_train)\n",
    "sns.heatmap(cfm, cmap='YlGnBu', annot=True, fmt='d', linewidths=.5);    \n",
    "print('Recall: ',metrics.recall_score(y_train_ros, y_pred_train))\n",
    "print('Report: ',metrics.classification_report(y_train_ros, y_pred_train))"
   ]
  },
  {
   "cell_type": "code",
   "execution_count": null,
   "metadata": {},
   "outputs": [],
   "source": [
    "X_train_scaled_ros.info()"
   ]
  },
  {
   "cell_type": "code",
   "execution_count": null,
   "metadata": {},
   "outputs": [],
   "source": [
    "%store data_scaled"
   ]
  },
  {
   "cell_type": "code",
   "execution_count": null,
   "metadata": {},
   "outputs": [],
   "source": [
    "X_train"
   ]
  },
  {
   "cell_type": "markdown",
   "metadata": {},
   "source": []
  },
  {
   "cell_type": "code",
   "execution_count": null,
   "metadata": {},
   "outputs": [],
   "source": [
    "# Decisiontree Basemodel\n",
    "# import necessary library  \n",
    "from sklearn.tree import plot_tree\n",
    "# import the regressor \n",
    "from sklearn.tree import DecisionTreeClassifier\n",
    "from sklearn import metrics\n",
    "from sklearn.metrics import confusion_matrix, classification_report, accuracy_score, f1_score, recall_score\n"
   ]
  },
  {
   "cell_type": "code",
   "execution_count": null,
   "metadata": {},
   "outputs": [
    {
     "name": "stdout",
     "output_type": "stream",
     "text": [
      "Recall:  0.18818320841278532\n",
      "Report:                precision    recall  f1-score   support\n",
      "\n",
      "         0.0       0.93      0.93      0.93   1237091\n",
      "         1.0       0.18      0.19      0.19    105934\n",
      "\n",
      "    accuracy                           0.87   1343025\n",
      "   macro avg       0.56      0.56      0.56   1343025\n",
      "weighted avg       0.87      0.87      0.87   1343025\n",
      "\n"
     ]
    },
    {
     "data": {
      "image/png": "[encoded data removed]",
      "text/plain": [
       "<Figure size 640x480 with 2 Axes>"
      ]
     },
     "metadata": {},
     "output_type": "display_data"
    }
   ],
   "source": [
    "\n",
    "# Modelling Decisiontree regression\n",
    "dtree = DecisionTreeClassifier()\n",
    "dtree.fit(X_train, y_train)\n",
    "y_pred = dtree.predict(X_test)\n",
    "\n",
    "# Confusion matrix using confusion_matrix from sklearn\n",
    "cfm = metrics.confusion_matrix(y_test, y_pred)\n",
    "ax= plt.subplot()\n",
    "\n",
    "sns.heatmap(cfm, cmap='YlGnBu', annot=True, fmt='d', linewidths=.5, ax=ax);\n",
    "ax.set_xlabel('Predicted labels');ax.set_ylabel('True labels'); \n",
    "ax.set_title('Confusion Matrix'); \n",
    "ax.xaxis.set_ticklabels(['0', '1']); ax.yaxis.set_ticklabels(['0', '1']);    \n",
    "print('Recall: ',metrics.recall_score(y_test, y_pred))\n",
    "print('Report: ',metrics.classification_report(y_test, y_pred))"
   ]
  },
  {
   "cell_type": "code",
   "execution_count": null,
   "metadata": {},
   "outputs": [
    {
     "name": "stdout",
     "output_type": "stream",
     "text": [
      "Recall:  0.9480900403757616\n",
      "Report:                precision    recall  f1-score   support\n",
      "\n",
      "         0.0       1.00      1.00      1.00   2886546\n",
      "         1.0       1.00      0.95      0.97    247178\n",
      "\n",
      "    accuracy                           1.00   3133724\n",
      "   macro avg       1.00      0.97      0.99   3133724\n",
      "weighted avg       1.00      1.00      1.00   3133724\n",
      "\n"
     ]
    },
    {
     "data": {
      "image/png": "[encoded data removed]",
      "text/plain": [
       "<Figure size 640x480 with 2 Axes>"
      ]
     },
     "metadata": {},
     "output_type": "display_data"
    }
   ],
   "source": [
    "y_pred_train = dtree.predict(X_train)\n",
    "\n",
    "# Confusion matrix using confusion_matrix from sklearn\n",
    "cfm = metrics.confusion_matrix(y_train, y_pred_train)\n",
    "sns.heatmap(cfm, cmap='YlGnBu', annot=True, fmt='d', linewidths=.5);    \n",
    "print('Recall: ',metrics.recall_score(y_train, y_pred_train))\n",
    "print('Report: ',metrics.classification_report(y_train, y_pred_train))"
   ]
  },
  {
   "cell_type": "code",
   "execution_count": null,
   "metadata": {},
   "outputs": [],
   "source": [
    "from sklearn.metrics import roc_curve\n",
    "from sklearn.metrics import precision_recall_curve\n",
    "\n",
    "fpr_RF, tpr_RF, thresholds_RF = precision_recall_curve(y_test, dtree.predict_proba(X_test)[:,1])"
   ]
  },
  {
   "cell_type": "code",
   "execution_count": null,
   "metadata": {},
   "outputs": [
    {
     "data": {
      "image/png": "[encoded data removed]",
      "text/plain": [
       "<Figure size 640x480 with 1 Axes>"
      ]
     },
     "metadata": {},
     "output_type": "display_data"
    }
   ],
   "source": [
    "plt.plot(fpr_RF, tpr_RF,'r-',label = 'RF')\n",
    "# plt.plot([0,1],[0,1],'k-',label='random')\n",
    "# plt.plot([0,0,1,1],[0,1,1,1],'g-',label='perfect')\n",
    "plt.legend()\n",
    "plt.xlabel('False Positive Rate')\n",
    "plt.ylabel('True Positive Rate')\n",
    "plt.show()"
   ]
  },
  {
   "cell_type": "code",
   "execution_count": null,
   "metadata": {},
   "outputs": [],
   "source": [
    "from matplotlib import pyplot\n",
    "importance = dtree.feature_importances_\n",
    "# summarize feature importance\n",
    "for i,v in enumerate(importance):\n",
    " print('Feature: %0d, Score: %.5f' % (i,v))\n",
    "# plot feature importance\n",
    "pyplot.bar([x for x in range(len(importance))], importance)\n",
    "pyplot.show()"
   ]
  },
  {
   "cell_type": "code",
   "execution_count": null,
   "metadata": {},
   "outputs": [],
   "source": [
    "%store X_train\n",
    "%store y_train\n",
    "%store X_test\n",
    "%store y_test\n",
    "\n"
   ]
  },
  {
   "cell_type": "code",
   "execution_count": null,
   "metadata": {},
   "outputs": [],
   "source": [
    "X_train.info()"
   ]
  },
  {
   "cell_type": "code",
   "execution_count": null,
   "metadata": {},
   "outputs": [],
   "source": [
    "data_scaled.head(10)"
   ]
  },
  {
   "cell_type": "code",
   "execution_count": null,
   "metadata": {},
   "outputs": [],
   "source": [
    "invoices.head()"
   ]
  },
  {
   "cell_type": "code",
   "execution_count": null,
   "metadata": {},
   "outputs": [],
   "source": [
    "X = data_scaled[['consommation_level_1', 'old_index', 'new_index']]\n",
    "y = data_scaled.target"
   ]
  },
  {
   "cell_type": "code",
   "execution_count": null,
   "metadata": {},
   "outputs": [],
   "source": [
    "X_train, X_test, y_train, y_test = train_test_split(X, y, stratify=y ,test_size=0.3, random_state=150)\n",
    "# Split the 'features' and 'income' data into training and testing sets\n",
    "\n",
    "# Show the results of the split\n",
    "print (\"Training set has {} samples.\".format(X_train.shape[0]))\n",
    "print (\"Testing set has {} samples.\".format(X_test.shape[0]))"
   ]
  },
  {
   "cell_type": "code",
   "execution_count": null,
   "metadata": {},
   "outputs": [],
   "source": [
    "# Modelling Decisiontree regression\n",
    "dtree = DecisionTreeClassifier()\n",
    "dtree.fit(X_train, y_train)\n",
    "y_pred = dtree.predict(X_test)\n",
    "\n",
    "# Confusion matrix using confusion_matrix from sklearn\n",
    "cfm = metrics.confusion_matrix(y_test, y_pred)\n",
    "sns.heatmap(cfm, cmap='YlGnBu', annot=True, fmt='d', linewidths=.5);    \n",
    "print('Recall: ',metrics.recall_score(y_test, y_pred))\n",
    "print('Report: ',metrics.classification_report(y_test, y_pred))"
   ]
  }
 ],
 "metadata": {
  "kernelspec": {
   "display_name": ".venv",
   "language": "python",
   "name": "python3"
  },
  "language_info": {
   "codemirror_mode": {
    "name": "ipython",
    "version": 3
   },
   "file_extension": ".py",
   "mimetype": "text/x-python",
   "name": "python",
   "nbconvert_exporter": "python",
   "pygments_lexer": "ipython3",
   "version": "3.9.8"
  },
  "orig_nbformat": 4,
  "vscode": {
   "interpreter": {
    "hash": "64fb117494e82236aa82b38cdb2cb1e3ea04e2accfa9b4d126e986f70a8569a0"
   }
  }
 },
 "nbformat": 4,
 "nbformat_minor": 2
}
