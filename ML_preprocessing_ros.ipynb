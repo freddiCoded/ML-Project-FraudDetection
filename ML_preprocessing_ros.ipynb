{
 "cells": [
  {
   "attachments": {},
   "cell_type": "markdown",
   "metadata": {},
   "source": [
    "#EDA\n",
    "\n",
    "#\n",
    "\n",
    "--"
   ]
  },
  {
   "attachments": {},
   "cell_type": "markdown",
   "metadata": {},
   "source": [
    "#Import libraries"
   ]
  },
  {
   "cell_type": "code",
   "execution_count": 146,
   "metadata": {},
   "outputs": [
    {
     "name": "stderr",
     "output_type": "stream",
     "text": [
      "UsageError: unrecognized arguments: # show the plots on the online copy\n"
     ]
    }
   ],
   "source": [
    "import pandas as pd\n",
    "import numpy as np\n",
    "import matplotlib\n",
    "import matplotlib.pyplot as plt # run pip install plotly if error\n",
    "import seaborn\n",
    "import seaborn as sns\n",
    "import plotly.express as px # if error install in terminal : pip install plotly\n",
    "import warnings\n",
    "from imblearn.over_sampling import RandomOverSampler\n",
    "from sklearn.model_selection import GridSearchCV, RandomizedSearchCV\n",
    "from sklearn.model_selection import train_test_split, cross_val_score\n",
    "\n",
    "warnings.filterwarnings('ignore')\n",
    "\n",
    "%matplotlib inline # show the plots on the online copy\n"
   ]
  },
  {
   "cell_type": "code",
   "execution_count": 147,
   "metadata": {},
   "outputs": [
    {
     "data": {
      "text/html": [
       "<div>\n",
       "<style scoped>\n",
       "    .dataframe tbody tr th:only-of-type {\n",
       "        vertical-align: middle;\n",
       "    }\n",
       "\n",
       "    .dataframe tbody tr th {\n",
       "        vertical-align: top;\n",
       "    }\n",
       "\n",
       "    .dataframe thead th {\n",
       "        text-align: right;\n",
       "    }\n",
       "</style>\n",
       "<table border=\"1\" class=\"dataframe\">\n",
       "  <thead>\n",
       "    <tr style=\"text-align: right;\">\n",
       "      <th></th>\n",
       "      <th>disrict</th>\n",
       "      <th>client_id</th>\n",
       "      <th>client_catg</th>\n",
       "      <th>region</th>\n",
       "      <th>creation_date</th>\n",
       "      <th>target</th>\n",
       "      <th>invoice_date</th>\n",
       "      <th>tarif_type</th>\n",
       "      <th>counter_number</th>\n",
       "      <th>counter_statue</th>\n",
       "      <th>...</th>\n",
       "      <th>reading_remarque</th>\n",
       "      <th>counter_coefficient</th>\n",
       "      <th>consommation_level_1</th>\n",
       "      <th>consommation_level_2</th>\n",
       "      <th>consommation_level_3</th>\n",
       "      <th>consommation_level_4</th>\n",
       "      <th>old_index</th>\n",
       "      <th>new_index</th>\n",
       "      <th>months_number</th>\n",
       "      <th>counter_type</th>\n",
       "    </tr>\n",
       "  </thead>\n",
       "  <tbody>\n",
       "    <tr>\n",
       "      <th>0</th>\n",
       "      <td>60</td>\n",
       "      <td>train_Client_0</td>\n",
       "      <td>11</td>\n",
       "      <td>101</td>\n",
       "      <td>31/12/1994</td>\n",
       "      <td>0.0</td>\n",
       "      <td>2014-03-24</td>\n",
       "      <td>11</td>\n",
       "      <td>1335667</td>\n",
       "      <td>0</td>\n",
       "      <td>...</td>\n",
       "      <td>8</td>\n",
       "      <td>1</td>\n",
       "      <td>82</td>\n",
       "      <td>0</td>\n",
       "      <td>0</td>\n",
       "      <td>0</td>\n",
       "      <td>14302</td>\n",
       "      <td>14384</td>\n",
       "      <td>4</td>\n",
       "      <td>ELEC</td>\n",
       "    </tr>\n",
       "    <tr>\n",
       "      <th>1</th>\n",
       "      <td>60</td>\n",
       "      <td>train_Client_0</td>\n",
       "      <td>11</td>\n",
       "      <td>101</td>\n",
       "      <td>31/12/1994</td>\n",
       "      <td>0.0</td>\n",
       "      <td>2013-03-29</td>\n",
       "      <td>11</td>\n",
       "      <td>1335667</td>\n",
       "      <td>0</td>\n",
       "      <td>...</td>\n",
       "      <td>6</td>\n",
       "      <td>1</td>\n",
       "      <td>1200</td>\n",
       "      <td>184</td>\n",
       "      <td>0</td>\n",
       "      <td>0</td>\n",
       "      <td>12294</td>\n",
       "      <td>13678</td>\n",
       "      <td>4</td>\n",
       "      <td>ELEC</td>\n",
       "    </tr>\n",
       "    <tr>\n",
       "      <th>2</th>\n",
       "      <td>60</td>\n",
       "      <td>train_Client_0</td>\n",
       "      <td>11</td>\n",
       "      <td>101</td>\n",
       "      <td>31/12/1994</td>\n",
       "      <td>0.0</td>\n",
       "      <td>2015-03-23</td>\n",
       "      <td>11</td>\n",
       "      <td>1335667</td>\n",
       "      <td>0</td>\n",
       "      <td>...</td>\n",
       "      <td>8</td>\n",
       "      <td>1</td>\n",
       "      <td>123</td>\n",
       "      <td>0</td>\n",
       "      <td>0</td>\n",
       "      <td>0</td>\n",
       "      <td>14624</td>\n",
       "      <td>14747</td>\n",
       "      <td>4</td>\n",
       "      <td>ELEC</td>\n",
       "    </tr>\n",
       "  </tbody>\n",
       "</table>\n",
       "<p>3 rows × 21 columns</p>\n",
       "</div>"
      ],
      "text/plain": [
       "   disrict       client_id  client_catg  region creation_date  target  \\\n",
       "0       60  train_Client_0           11     101    31/12/1994     0.0   \n",
       "1       60  train_Client_0           11     101    31/12/1994     0.0   \n",
       "2       60  train_Client_0           11     101    31/12/1994     0.0   \n",
       "\n",
       "  invoice_date  tarif_type  counter_number counter_statue  ...  \\\n",
       "0   2014-03-24          11         1335667              0  ...   \n",
       "1   2013-03-29          11         1335667              0  ...   \n",
       "2   2015-03-23          11         1335667              0  ...   \n",
       "\n",
       "   reading_remarque  counter_coefficient  consommation_level_1  \\\n",
       "0                 8                    1                    82   \n",
       "1                 6                    1                  1200   \n",
       "2                 8                    1                   123   \n",
       "\n",
       "   consommation_level_2  consommation_level_3  consommation_level_4  \\\n",
       "0                     0                     0                     0   \n",
       "1                   184                     0                     0   \n",
       "2                     0                     0                     0   \n",
       "\n",
       "   old_index  new_index  months_number  counter_type  \n",
       "0      14302      14384              4          ELEC  \n",
       "1      12294      13678              4          ELEC  \n",
       "2      14624      14747              4          ELEC  \n",
       "\n",
       "[3 rows x 21 columns]"
      ]
     },
     "execution_count": 147,
     "metadata": {},
     "output_type": "execute_result"
    }
   ],
   "source": [
    "clients = pd.read_csv('data/client_train.csv')\n",
    "invoices = pd.read_csv('data/invoice_train.csv')\n",
    "data = pd.merge(clients, invoices, how='left', on='client_id')\n",
    "data.head(3)"
   ]
  },
  {
   "attachments": {},
   "cell_type": "markdown",
   "metadata": {},
   "source": [
    "# Data mining!\n",
    "\n",
    "1- date.time for dates tranformation\n",
    "2- "
   ]
  },
  {
   "cell_type": "code",
   "execution_count": null,
   "metadata": {},
   "outputs": [],
   "source": [
    "data.info()"
   ]
  },
  {
   "cell_type": "code",
   "execution_count": 148,
   "metadata": {},
   "outputs": [],
   "source": [
    "data['invoice_date'] = pd.to_datetime(data['invoice_date'], format='%Y/%m/%d')\n"
   ]
  },
  {
   "cell_type": "code",
   "execution_count": 149,
   "metadata": {},
   "outputs": [],
   "source": [
    "# Transforming to date.time type\n",
    "data['creation_date'] = pd.to_datetime(data['creation_date'], format='%d/%m/%Y')"
   ]
  },
  {
   "cell_type": "code",
   "execution_count": null,
   "metadata": {},
   "outputs": [],
   "source": [
    "#\n",
    "data.dtypes"
   ]
  },
  {
   "cell_type": "code",
   "execution_count": 150,
   "metadata": {},
   "outputs": [
    {
     "data": {
      "text/plain": [
       "disrict                         object\n",
       "client_id                       object\n",
       "client_catg                     object\n",
       "region                          object\n",
       "creation_date           datetime64[ns]\n",
       "target                         float64\n",
       "invoice_date            datetime64[ns]\n",
       "tarif_type                      object\n",
       "counter_number                  object\n",
       "counter_statue                  object\n",
       "counter_code                    object\n",
       "reading_remarque                object\n",
       "counter_coefficient             object\n",
       "consommation_level_1             int64\n",
       "consommation_level_2             int64\n",
       "consommation_level_3             int64\n",
       "consommation_level_4             int64\n",
       "old_index                        int64\n",
       "new_index                        int64\n",
       "months_number                    int64\n",
       "counter_type                    object\n",
       "dtype: object"
      ]
     },
     "execution_count": 150,
     "metadata": {},
     "output_type": "execute_result"
    }
   ],
   "source": [
    "# Change datatypes\n",
    "data = data.astype({'disrict': str})\n",
    "data = data.astype({'client_catg': str})\n",
    "data = data.astype({'region': str})\n",
    "data = data.astype({'tarif_type': str})\n",
    "data = data.astype({'counter_number': str})\n",
    "data = data.astype({'counter_code': str})\n",
    "data = data.astype({'reading_remarque': str})\n",
    "data = data.astype({'counter_coefficient': str})\n",
    "data = data.astype({'counter_type': str})\n",
    "\n",
    "data.dtypes"
   ]
  },
  {
   "cell_type": "code",
   "execution_count": 151,
   "metadata": {},
   "outputs": [],
   "source": [
    "dist_cols = pd.get_dummies(data['disrict'], prefix='district_', drop_first=True)\n",
    "dist_cols1 = pd.get_dummies(data['client_catg'], prefix='client_catg_', drop_first=True)\n",
    "dist_cols2 = pd.get_dummies(data['region'], prefix='region_', drop_first=True)\n",
    "dist_cols3 = pd.get_dummies(data['tarif_type'], prefix='tarif_type_', drop_first=True)\n",
    "dist_cols4 = pd.get_dummies(data['counter_statue'], prefix='counter_statue_', drop_first=True)\n",
    "#dist_cols5 = pd.get_dummies(data['counter_code'], prefix='counter_code_', drop_first=True)\n",
    "dist_cols6 = pd.get_dummies(data['reading_remarque'], prefix='reading_remarque_', drop_first=True)\n",
    "dist_cols7 = pd.get_dummies(data['counter_coefficient'], prefix='counter_coefficient_', drop_first=True)\n",
    "dist_cols8 = pd.get_dummies(data['counter_type'], prefix='counter_type_', drop_first=True)\n",
    "\n",
    "# counter_number not\n"
   ]
  },
  {
   "cell_type": "code",
   "execution_count": 152,
   "metadata": {},
   "outputs": [],
   "source": [
    "data = pd.concat([data, dist_cols, dist_cols1, dist_cols2, dist_cols3 ], axis=1)\n",
    "data = pd.concat([data, dist_cols6, dist_cols7, dist_cols8], axis=1)"
   ]
  },
  {
   "cell_type": "code",
   "execution_count": null,
   "metadata": {},
   "outputs": [],
   "source": [
    "#data.head(1)\n",
    "#data.info()\n",
    "data.columns"
   ]
  },
  {
   "cell_type": "code",
   "execution_count": null,
   "metadata": {},
   "outputs": [],
   "source": [
    "dist_cols.head(1)"
   ]
  },
  {
   "cell_type": "code",
   "execution_count": null,
   "metadata": {},
   "outputs": [],
   "source": [
    "data.columns"
   ]
  },
  {
   "cell_type": "code",
   "execution_count": 153,
   "metadata": {},
   "outputs": [],
   "source": [
    "data = data.drop(['disrict', 'client_catg', 'region', 'tarif_type', 'counter_statue', 'counter_code', 'reading_remarque', 'counter_coefficient','counter_type'], axis=1)"
   ]
  },
  {
   "cell_type": "code",
   "execution_count": null,
   "metadata": {},
   "outputs": [],
   "source": [
    "data.head(2)"
   ]
  },
  {
   "cell_type": "code",
   "execution_count": null,
   "metadata": {},
   "outputs": [],
   "source": []
  },
  {
   "attachments": {},
   "cell_type": "markdown",
   "metadata": {},
   "source": [
    "# Split the data"
   ]
  },
  {
   "cell_type": "code",
   "execution_count": 154,
   "metadata": {},
   "outputs": [],
   "source": [
    "# Before we go on let's split the data into features and target label\n",
    "X = data.drop(['target','client_id', 'creation_date', 'invoice_date','counter_number'], axis=1)\n",
    "y = data['target']# Y\n",
    "\n"
   ]
  },
  {
   "cell_type": "code",
   "execution_count": 155,
   "metadata": {},
   "outputs": [
    {
     "name": "stdout",
     "output_type": "stream",
     "text": [
      "Training set has 3133724 samples.\n",
      "Testing set has 1343025 samples.\n"
     ]
    }
   ],
   "source": [
    "# Import train_test_split\n",
    "from sklearn.model_selection import train_test_split\n",
    "\n",
    "X_train, X_test, y_train, y_test = train_test_split(X, y, stratify=y ,test_size=0.3, random_state=150)\n",
    "# Split the 'features' and 'income' data into training and testing sets\n",
    "\n",
    "# Show the results of the split\n",
    "print (\"Training set has {} samples.\".format(X_train.shape[0]))\n",
    "print (\"Testing set has {} samples.\".format(X_test.shape[0]))"
   ]
  },
  {
   "cell_type": "code",
   "execution_count": null,
   "metadata": {},
   "outputs": [],
   "source": [
    "data.info()"
   ]
  },
  {
   "cell_type": "code",
   "execution_count": 156,
   "metadata": {},
   "outputs": [],
   "source": [
    "numerical = ['consommation_level_1', 'consommation_level_2', 'consommation_level_3', 'consommation_level_4', 'old_index', 'new_index', 'months_number' ]"
   ]
  },
  {
   "attachments": {},
   "cell_type": "markdown",
   "metadata": {},
   "source": [
    "disrict                          int64\n",
    "client_id                       object\n",
    "client_catg                      int64\n",
    "region                           int64\n",
    "creation_date           datetime64[ns]\n",
    "target                         float64\n",
    "invoice_date            datetime64[ns]\n",
    "tarif_type                       int64\n",
    "counter_number                   int64\n",
    "counter_statue                  object\n",
    "counter_code                     int64\n",
    "reading_remarque                 int64\n",
    "counter_coefficient              int64\n",
    "consommation_level_1             int64\n",
    "consommation_level_2             int64\n",
    "consommation_level_3             int64\n",
    "consommation_level_4             int64\n",
    "old_index                        int64\n",
    "new_index                        int64\n",
    "months_number                    int64\n",
    "counter_type                    object\n",
    "dtype: object"
   ]
  },
  {
   "cell_type": "code",
   "execution_count": 157,
   "metadata": {},
   "outputs": [
    {
     "data": {
      "text/html": [
       "<div>\n",
       "<style scoped>\n",
       "    .dataframe tbody tr th:only-of-type {\n",
       "        vertical-align: middle;\n",
       "    }\n",
       "\n",
       "    .dataframe tbody tr th {\n",
       "        vertical-align: top;\n",
       "    }\n",
       "\n",
       "    .dataframe thead th {\n",
       "        text-align: right;\n",
       "    }\n",
       "</style>\n",
       "<table border=\"1\" class=\"dataframe\">\n",
       "  <thead>\n",
       "    <tr style=\"text-align: right;\">\n",
       "      <th></th>\n",
       "      <th>consommation_level_1</th>\n",
       "      <th>consommation_level_2</th>\n",
       "      <th>consommation_level_3</th>\n",
       "      <th>consommation_level_4</th>\n",
       "      <th>old_index</th>\n",
       "      <th>new_index</th>\n",
       "      <th>months_number</th>\n",
       "    </tr>\n",
       "  </thead>\n",
       "  <tbody>\n",
       "    <tr>\n",
       "      <th>2245680</th>\n",
       "      <td>0.00268</td>\n",
       "      <td>0.0</td>\n",
       "      <td>0.0</td>\n",
       "      <td>0.0</td>\n",
       "      <td>0.014451</td>\n",
       "      <td>0.014213</td>\n",
       "      <td>0.000006</td>\n",
       "    </tr>\n",
       "  </tbody>\n",
       "</table>\n",
       "</div>"
      ],
      "text/plain": [
       "         consommation_level_1  consommation_level_2  consommation_level_3  \\\n",
       "2245680               0.00268                   0.0                   0.0   \n",
       "\n",
       "         consommation_level_4  old_index  new_index  months_number  \n",
       "2245680                   0.0   0.014451   0.014213       0.000006  "
      ]
     },
     "execution_count": 157,
     "metadata": {},
     "output_type": "execute_result"
    }
   ],
   "source": [
    "# Import sklearn.preprocessing.StandardScaler\n",
    "from sklearn.preprocessing import MinMaxScaler\n",
    "# Initialize a scaler, then apply it to the features\n",
    "scaler = MinMaxScaler()\n",
    "X_train[numerical] = scaler.fit_transform(X_train[numerical])\n",
    "X_test[numerical] = scaler.transform(X_test[numerical])\n",
    "# Show an example of a record with scaling applied\n",
    "X_train[numerical].sample(1)"
   ]
  },
  {
   "cell_type": "code",
   "execution_count": 158,
   "metadata": {},
   "outputs": [
    {
     "data": {
      "text/html": [
       "<div>\n",
       "<style scoped>\n",
       "    .dataframe tbody tr th:only-of-type {\n",
       "        vertical-align: middle;\n",
       "    }\n",
       "\n",
       "    .dataframe tbody tr th {\n",
       "        vertical-align: top;\n",
       "    }\n",
       "\n",
       "    .dataframe thead th {\n",
       "        text-align: right;\n",
       "    }\n",
       "</style>\n",
       "<table border=\"1\" class=\"dataframe\">\n",
       "  <thead>\n",
       "    <tr style=\"text-align: right;\">\n",
       "      <th></th>\n",
       "      <th>consommation_level_1</th>\n",
       "      <th>consommation_level_2</th>\n",
       "      <th>consommation_level_3</th>\n",
       "      <th>consommation_level_4</th>\n",
       "      <th>old_index</th>\n",
       "      <th>new_index</th>\n",
       "      <th>months_number</th>\n",
       "      <th>district__62</th>\n",
       "      <th>district__63</th>\n",
       "      <th>district__69</th>\n",
       "      <th>...</th>\n",
       "      <th>counter_coefficient__33</th>\n",
       "      <th>counter_coefficient__4</th>\n",
       "      <th>counter_coefficient__40</th>\n",
       "      <th>counter_coefficient__5</th>\n",
       "      <th>counter_coefficient__50</th>\n",
       "      <th>counter_coefficient__6</th>\n",
       "      <th>counter_coefficient__8</th>\n",
       "      <th>counter_coefficient__9</th>\n",
       "      <th>counter_type__GAZ</th>\n",
       "      <th>target</th>\n",
       "    </tr>\n",
       "  </thead>\n",
       "  <tbody>\n",
       "    <tr>\n",
       "      <th>1437963</th>\n",
       "      <td>0.004892</td>\n",
       "      <td>0.0</td>\n",
       "      <td>0.0</td>\n",
       "      <td>0.0</td>\n",
       "      <td>0.000749</td>\n",
       "      <td>0.000946</td>\n",
       "      <td>0.000006</td>\n",
       "      <td>0</td>\n",
       "      <td>0</td>\n",
       "      <td>0</td>\n",
       "      <td>...</td>\n",
       "      <td>0</td>\n",
       "      <td>0</td>\n",
       "      <td>0</td>\n",
       "      <td>0</td>\n",
       "      <td>0</td>\n",
       "      <td>0</td>\n",
       "      <td>0</td>\n",
       "      <td>0</td>\n",
       "      <td>0</td>\n",
       "      <td>0.0</td>\n",
       "    </tr>\n",
       "    <tr>\n",
       "      <th>164646</th>\n",
       "      <td>0.001086</td>\n",
       "      <td>0.0</td>\n",
       "      <td>0.0</td>\n",
       "      <td>0.0</td>\n",
       "      <td>0.000287</td>\n",
       "      <td>0.000328</td>\n",
       "      <td>0.000013</td>\n",
       "      <td>0</td>\n",
       "      <td>0</td>\n",
       "      <td>0</td>\n",
       "      <td>...</td>\n",
       "      <td>0</td>\n",
       "      <td>0</td>\n",
       "      <td>0</td>\n",
       "      <td>0</td>\n",
       "      <td>0</td>\n",
       "      <td>0</td>\n",
       "      <td>0</td>\n",
       "      <td>0</td>\n",
       "      <td>1</td>\n",
       "      <td>0.0</td>\n",
       "    </tr>\n",
       "    <tr>\n",
       "      <th>628500</th>\n",
       "      <td>0.001047</td>\n",
       "      <td>0.0</td>\n",
       "      <td>0.0</td>\n",
       "      <td>0.0</td>\n",
       "      <td>0.000554</td>\n",
       "      <td>0.000586</td>\n",
       "      <td>0.000006</td>\n",
       "      <td>0</td>\n",
       "      <td>0</td>\n",
       "      <td>0</td>\n",
       "      <td>...</td>\n",
       "      <td>0</td>\n",
       "      <td>0</td>\n",
       "      <td>0</td>\n",
       "      <td>0</td>\n",
       "      <td>0</td>\n",
       "      <td>0</td>\n",
       "      <td>0</td>\n",
       "      <td>0</td>\n",
       "      <td>1</td>\n",
       "      <td>0.0</td>\n",
       "    </tr>\n",
       "    <tr>\n",
       "      <th>1282184</th>\n",
       "      <td>0.005217</td>\n",
       "      <td>0.0</td>\n",
       "      <td>0.0</td>\n",
       "      <td>0.0</td>\n",
       "      <td>0.002439</td>\n",
       "      <td>0.002608</td>\n",
       "      <td>0.000006</td>\n",
       "      <td>0</td>\n",
       "      <td>0</td>\n",
       "      <td>1</td>\n",
       "      <td>...</td>\n",
       "      <td>0</td>\n",
       "      <td>0</td>\n",
       "      <td>0</td>\n",
       "      <td>0</td>\n",
       "      <td>0</td>\n",
       "      <td>0</td>\n",
       "      <td>0</td>\n",
       "      <td>0</td>\n",
       "      <td>0</td>\n",
       "      <td>0.0</td>\n",
       "    </tr>\n",
       "    <tr>\n",
       "      <th>681424</th>\n",
       "      <td>0.000143</td>\n",
       "      <td>0.0</td>\n",
       "      <td>0.0</td>\n",
       "      <td>0.0</td>\n",
       "      <td>0.000910</td>\n",
       "      <td>0.000894</td>\n",
       "      <td>0.000013</td>\n",
       "      <td>0</td>\n",
       "      <td>0</td>\n",
       "      <td>0</td>\n",
       "      <td>...</td>\n",
       "      <td>0</td>\n",
       "      <td>0</td>\n",
       "      <td>0</td>\n",
       "      <td>0</td>\n",
       "      <td>0</td>\n",
       "      <td>0</td>\n",
       "      <td>0</td>\n",
       "      <td>0</td>\n",
       "      <td>1</td>\n",
       "      <td>0.0</td>\n",
       "    </tr>\n",
       "  </tbody>\n",
       "</table>\n",
       "<p>5 rows × 76 columns</p>\n",
       "</div>"
      ],
      "text/plain": [
       "         consommation_level_1  consommation_level_2  consommation_level_3  \\\n",
       "1437963              0.004892                   0.0                   0.0   \n",
       "164646               0.001086                   0.0                   0.0   \n",
       "628500               0.001047                   0.0                   0.0   \n",
       "1282184              0.005217                   0.0                   0.0   \n",
       "681424               0.000143                   0.0                   0.0   \n",
       "\n",
       "         consommation_level_4  old_index  new_index  months_number  \\\n",
       "1437963                   0.0   0.000749   0.000946       0.000006   \n",
       "164646                    0.0   0.000287   0.000328       0.000013   \n",
       "628500                    0.0   0.000554   0.000586       0.000006   \n",
       "1282184                   0.0   0.002439   0.002608       0.000006   \n",
       "681424                    0.0   0.000910   0.000894       0.000013   \n",
       "\n",
       "         district__62  district__63  district__69  ...  \\\n",
       "1437963             0             0             0  ...   \n",
       "164646              0             0             0  ...   \n",
       "628500              0             0             0  ...   \n",
       "1282184             0             0             1  ...   \n",
       "681424              0             0             0  ...   \n",
       "\n",
       "         counter_coefficient__33  counter_coefficient__4  \\\n",
       "1437963                        0                       0   \n",
       "164646                         0                       0   \n",
       "628500                         0                       0   \n",
       "1282184                        0                       0   \n",
       "681424                         0                       0   \n",
       "\n",
       "         counter_coefficient__40  counter_coefficient__5  \\\n",
       "1437963                        0                       0   \n",
       "164646                         0                       0   \n",
       "628500                         0                       0   \n",
       "1282184                        0                       0   \n",
       "681424                         0                       0   \n",
       "\n",
       "         counter_coefficient__50  counter_coefficient__6  \\\n",
       "1437963                        0                       0   \n",
       "164646                         0                       0   \n",
       "628500                         0                       0   \n",
       "1282184                        0                       0   \n",
       "681424                         0                       0   \n",
       "\n",
       "         counter_coefficient__8  counter_coefficient__9  counter_type__GAZ  \\\n",
       "1437963                       0                       0                  0   \n",
       "164646                        0                       0                  1   \n",
       "628500                        0                       0                  1   \n",
       "1282184                       0                       0                  0   \n",
       "681424                        0                       0                  1   \n",
       "\n",
       "         target  \n",
       "1437963     0.0  \n",
       "164646      0.0  \n",
       "628500      0.0  \n",
       "1282184     0.0  \n",
       "681424      0.0  \n",
       "\n",
       "[5 rows x 76 columns]"
      ]
     },
     "execution_count": 158,
     "metadata": {},
     "output_type": "execute_result"
    }
   ],
   "source": [
    "train_scaled = pd.concat([X_train, y_train], axis=1)\n",
    "test_scaled = pd.concat([X_test, y_test], axis=1)\n",
    "data_scaled = pd.concat([train_scaled, test_scaled], axis=0)\n",
    "data_scaled.head()\n"
   ]
  },
  {
   "cell_type": "code",
   "execution_count": 159,
   "metadata": {},
   "outputs": [],
   "source": [
    "# Oversample training data\n",
    "data_scaled_sample =data_scaled.sample(frac=0.2, replace=False, random_state=150)\n",
    "X = data_scaled_sample.drop(['target'],axis=1)\n",
    "y = data_scaled_sample.target\n",
    "\n",
    "\n",
    "X_train, X_test, y_train, y_test = train_test_split(X, y, stratify=y ,test_size=0.3, random_state=150)\n",
    "ros = RandomOverSampler(random_state=150)\n",
    "\n",
    "\n",
    "X_train_scaled_ros, y_train_ros = ros.fit_resample(X_train, y_train)\n",
    "data_scaled_ros = pd.concat([X_train_scaled_ros, y_train_ros], axis=1)\n",
    "\n"
   ]
  },
  {
   "cell_type": "code",
   "execution_count": 160,
   "metadata": {},
   "outputs": [
    {
     "name": "stdout",
     "output_type": "stream",
     "text": [
      "Stored 'X_train_scaled_ros' (DataFrame)\n",
      "Stored 'y_train_ros' (Series)\n",
      "Stored 'X_test' (DataFrame)\n",
      "Stored 'y_test' (Series)\n"
     ]
    }
   ],
   "source": [
    "%store X_train_scaled_ros\n",
    "%store y_train_ros\n",
    "%store X_test\n",
    "%store y_test"
   ]
  },
  {
   "cell_type": "code",
   "execution_count": null,
   "metadata": {},
   "outputs": [],
   "source": [
    "test = pd.concat([X_test, y_test], axis=1)\n",
    "data_ros = pd.concat([data_scaled_ros, test], axis=0)\n",
    "data_ros.shape"
   ]
  },
  {
   "cell_type": "code",
   "execution_count": null,
   "metadata": {},
   "outputs": [],
   "source": [
    "%store data_ros"
   ]
  },
  {
   "cell_type": "code",
   "execution_count": null,
   "metadata": {},
   "outputs": [],
   "source": [
    "sns.countplot(x=y_train_ros).set_title(\"Representation of resampled target variable\");\n",
    "data_scaled_ros.shape\n"
   ]
  },
  {
   "cell_type": "code",
   "execution_count": null,
   "metadata": {},
   "outputs": [],
   "source": [
    "# Modelling Decisiontree regression\n",
    "dtree = DecisionTreeClassifier(max_depth=10)\n",
    "dtree.fit(X_train_scaled_ros, y_train_ros)\n",
    "y_pred = dtree.predict(X_test)\n",
    "\n",
    "# Confusion matrix using confusion_matrix from sklearn\n",
    "cfm = metrics.confusion_matrix(y_test, y_pred)\n",
    "sns.heatmap(cfm, cmap='YlGnBu', annot=True, fmt='d', linewidths=.5);    \n",
    "print('Recall: ',metrics.recall_score(y_test, y_pred))\n",
    "print('Report: ',metrics.classification_report(y_test, y_pred))"
   ]
  },
  {
   "cell_type": "code",
   "execution_count": null,
   "metadata": {},
   "outputs": [],
   "source": [
    "dtree.get_params().keys()\n",
    "DecisionTreeClassifier?"
   ]
  },
  {
   "cell_type": "code",
   "execution_count": null,
   "metadata": {},
   "outputs": [],
   "source": [
    "# Defining parameter grid (as dictionary)\n",
    "param_grid = {\"ccp_alpha\" : [0.0, 0.1, 0.5, 1], #this actually defines the model you use\n",
    "              \"max_depth\" : [4,5,6,7 ,10, 15, 20,],\n",
    "              \"max_features\" : [\"sqrt\", \"none\"],\n",
    "             }\n",
    "\n",
    "# Instantiate gridsearch and define the metric to optimize \n",
    "gs = GridSearchCV(DecisionTreeClassifier(), param_grid, scoring='recall',\n",
    "                  cv=5, verbose=1, n_jobs=-1)\n",
    "\n",
    "gs.fit(X_train_scaled_ros, y_train_ros)\n"
   ]
  },
  {
   "cell_type": "code",
   "execution_count": null,
   "metadata": {},
   "outputs": [],
   "source": [
    "# Best score\n",
    "print('Best score:', round(gs.best_score_, 3))\n",
    "\n",
    "# Best parameters\n",
    "print('Best parameters:', gs.best_params_)"
   ]
  },
  {
   "cell_type": "code",
   "execution_count": null,
   "metadata": {},
   "outputs": [],
   "source": [
    "dtree_best = gs.best_estimator_"
   ]
  },
  {
   "cell_type": "code",
   "execution_count": null,
   "metadata": {},
   "outputs": [],
   "source": [
    "dtree_best.fit(X_train_scaled_ros, y_train_ros)\n",
    "y_pred_best = dtree_best.predict(X_test)\n",
    "\n",
    "# Confusion matrix using confusion_matrix from sklearn\n",
    "cfm = metrics.confusion_matrix(y_test, y_pred_best)\n",
    "sns.heatmap(cfm, cmap='YlGnBu', annot=True, fmt='d', linewidths=.5);    \n",
    "print('Recall: ',metrics.recall_score(y_test, y_pred_best))\n",
    "print('Report: ',metrics.classification_report(y_test, y_pred_best))"
   ]
  },
  {
   "cell_type": "code",
   "execution_count": null,
   "metadata": {},
   "outputs": [],
   "source": [
    "y_pred_train = dtree.predict(X_train_scaled_ros)\n",
    "\n",
    "# Confusion matrix using confusion_matrix from sklearn\n",
    "cfm = metrics.confusion_matrix(y_train_ros, y_pred_train)\n",
    "sns.heatmap(cfm, cmap='YlGnBu', annot=True, fmt='d', linewidths=.5);    \n",
    "print('Recall: ',metrics.recall_score(y_train_ros, y_pred_train))\n",
    "print('Report: ',metrics.classification_report(y_train_ros, y_pred_train))"
   ]
  },
  {
   "cell_type": "code",
   "execution_count": null,
   "metadata": {},
   "outputs": [],
   "source": [
    "X_train_scaled_ros.info()"
   ]
  },
  {
   "cell_type": "code",
   "execution_count": null,
   "metadata": {},
   "outputs": [],
   "source": [
    "%store data_scaled"
   ]
  },
  {
   "cell_type": "code",
   "execution_count": null,
   "metadata": {},
   "outputs": [],
   "source": [
    "X_train"
   ]
  },
  {
   "cell_type": "markdown",
   "metadata": {},
   "source": []
  },
  {
   "cell_type": "code",
   "execution_count": null,
   "metadata": {},
   "outputs": [],
   "source": [
    "# Decisiontree Basemodel\n",
    "# import necessary library  \n",
    "from sklearn.tree import plot_tree\n",
    "# import the regressor \n",
    "from sklearn.tree import DecisionTreeClassifier\n",
    "from sklearn import metrics\n",
    "from sklearn.metrics import confusion_matrix, classification_report, accuracy_score, f1_score, recall_score\n"
   ]
  },
  {
   "cell_type": "code",
   "execution_count": null,
   "metadata": {},
   "outputs": [],
   "source": [
    "\n",
    "# Modelling Decisiontree regression\n",
    "dtree = DecisionTreeClassifier()\n",
    "dtree.fit(X_train, y_train)\n",
    "y_pred = dtree.predict(X_test)\n",
    "\n",
    "# Confusion matrix using confusion_matrix from sklearn\n",
    "cfm = metrics.confusion_matrix(y_test, y_pred)\n",
    "sns.heatmap(cfm, cmap='YlGnBu', annot=True, fmt='d', linewidths=.5);    \n",
    "print('Recall: ',metrics.recall_score(y_test, y_pred))\n",
    "print('Report: ',metrics.classification_report(y_test, y_pred))"
   ]
  },
  {
   "cell_type": "code",
   "execution_count": null,
   "metadata": {},
   "outputs": [],
   "source": [
    "y_pred_train = dtree.predict(X_train)\n",
    "\n",
    "# Confusion matrix using confusion_matrix from sklearn\n",
    "cfm = metrics.confusion_matrix(y_train, y_pred_train)\n",
    "sns.heatmap(cfm, cmap='YlGnBu', annot=True, fmt='d', linewidths=.5);    \n",
    "print('Recall: ',metrics.recall_score(y_train, y_pred_train))\n",
    "print('Report: ',metrics.classification_report(y_train, y_pred_train))"
   ]
  },
  {
   "cell_type": "code",
   "execution_count": null,
   "metadata": {},
   "outputs": [],
   "source": [
    "from matplotlib import pyplot\n",
    "importance = dtree.feature_importances_\n",
    "# summarize feature importance\n",
    "for i,v in enumerate(importance):\n",
    " print('Feature: %0d, Score: %.5f' % (i,v))\n",
    "# plot feature importance\n",
    "pyplot.bar([x for x in range(len(importance))], importance)\n",
    "pyplot.show()"
   ]
  },
  {
   "cell_type": "code",
   "execution_count": null,
   "metadata": {},
   "outputs": [],
   "source": [
    "%store X_train\n",
    "%store y_train\n",
    "%store X_test\n",
    "%store y_test\n",
    "\n"
   ]
  },
  {
   "cell_type": "code",
   "execution_count": null,
   "metadata": {},
   "outputs": [],
   "source": [
    "X_train.info()"
   ]
  },
  {
   "cell_type": "code",
   "execution_count": null,
   "metadata": {},
   "outputs": [],
   "source": [
    "data_scaled.head(10)"
   ]
  },
  {
   "cell_type": "code",
   "execution_count": null,
   "metadata": {},
   "outputs": [],
   "source": [
    "invoices.head()"
   ]
  },
  {
   "cell_type": "code",
   "execution_count": null,
   "metadata": {},
   "outputs": [],
   "source": [
    "X = data_scaled[['consommation_level_1', 'old_index', 'new_index']]\n",
    "y = data_scaled.target"
   ]
  },
  {
   "cell_type": "code",
   "execution_count": null,
   "metadata": {},
   "outputs": [],
   "source": [
    "X_train, X_test, y_train, y_test = train_test_split(X, y, stratify=y ,test_size=0.3, random_state=150)\n",
    "# Split the 'features' and 'income' data into training and testing sets\n",
    "\n",
    "# Show the results of the split\n",
    "print (\"Training set has {} samples.\".format(X_train.shape[0]))\n",
    "print (\"Testing set has {} samples.\".format(X_test.shape[0]))"
   ]
  },
  {
   "cell_type": "code",
   "execution_count": null,
   "metadata": {},
   "outputs": [],
   "source": [
    "# Modelling Decisiontree regression\n",
    "dtree = DecisionTreeClassifier()\n",
    "dtree.fit(X_train, y_train)\n",
    "y_pred = dtree.predict(X_test)\n",
    "\n",
    "# Confusion matrix using confusion_matrix from sklearn\n",
    "cfm = metrics.confusion_matrix(y_test, y_pred)\n",
    "sns.heatmap(cfm, cmap='YlGnBu', annot=True, fmt='d', linewidths=.5);    \n",
    "print('Recall: ',metrics.recall_score(y_test, y_pred))\n",
    "print('Report: ',metrics.classification_report(y_test, y_pred))"
   ]
  }
 ],
 "metadata": {
  "kernelspec": {
   "display_name": ".venv",
   "language": "python",
   "name": "python3"
  },
  "language_info": {
   "codemirror_mode": {
    "name": "ipython",
    "version": 3
   },
   "file_extension": ".py",
   "mimetype": "text/x-python",
   "name": "python",
   "nbconvert_exporter": "python",
   "pygments_lexer": "ipython3",
   "version": "3.9.8 (main, Jan 10 2023, 18:28:37) \n[Clang 14.0.0 (clang-1400.0.29.202)]"
  },
  "orig_nbformat": 4,
  "vscode": {
   "interpreter": {
    "hash": "fae802cab87d08da7abd04f07de0a2a4a52de9c0568ceede68f46ab7f01312d5"
   }
  }
 },
 "nbformat": 4,
 "nbformat_minor": 2
}
