{
 "cells": [
  {
   "cell_type": "code",
   "execution_count": 49,
   "metadata": {},
   "outputs": [],
   "source": [
    "import numpy as np\n",
    "import pandas as pd\n",
    "import matplotlib.pyplot as plt\n",
    "import seaborn as sns\n",
    "import plotly.express as px\n",
    "\n",
    "from sklearn.model_selection import train_test_split, cross_val_score\n",
    "from sklearn.metrics import confusion_matrix, classification_report, accuracy_score, f1_score, recall_score\n",
    "from sklearn.preprocessing import StandardScaler, MinMaxScaler\n",
    "from sklearn.model_selection import GridSearchCV, RandomizedSearchCV\n",
    "from sklearn.linear_model import LogisticRegression, SGDClassifier\n",
    "from sklearn.neighbors import KNeighborsClassifier\n",
    "from sklearn.ensemble import RandomForestClassifier\n",
    "from sklearn import metrics\n",
    "from xgboost import XGBClassifier"
   ]
  },
  {
   "cell_type": "code",
   "execution_count": 70,
   "metadata": {},
   "outputs": [],
   "source": [
    "%store -r data_scaled\n",
    "\n"
   ]
  },
  {
   "cell_type": "code",
   "execution_count": 73,
   "metadata": {},
   "outputs": [],
   "source": [
    "%store -r data_ros"
   ]
  },
  {
   "cell_type": "code",
   "execution_count": 72,
   "metadata": {},
   "outputs": [],
   "source": [
    "data_scaled=data_scaled.sample(frac=0.2, replace=False, random_state=150)\n",
    "X = data_scaled.drop(['target'],axis=1)\n",
    "y = data_scaled.target"
   ]
  },
  {
   "cell_type": "code",
   "execution_count": 67,
   "metadata": {},
   "outputs": [],
   "source": [
    "train, test, train_labels, test_labels = train_test_split(X, y, stratify=y ,test_size=0.3, random_state=150)"
   ]
  },
  {
   "cell_type": "code",
   "execution_count": 68,
   "metadata": {},
   "outputs": [
    {
     "name": "stdout",
     "output_type": "stream",
     "text": [
      "<class 'pandas.core.frame.DataFrame'>\n",
      "Int64Index: 626745 entries, 3312770 to 4278499\n",
      "Data columns (total 75 columns):\n",
      " #   Column                   Non-Null Count   Dtype  \n",
      "---  ------                   --------------   -----  \n",
      " 0   consommation_level_1     626745 non-null  float64\n",
      " 1   consommation_level_2     626745 non-null  float64\n",
      " 2   consommation_level_3     626745 non-null  float64\n",
      " 3   consommation_level_4     626745 non-null  float64\n",
      " 4   old_index                626745 non-null  float64\n",
      " 5   new_index                626745 non-null  float64\n",
      " 6   months_number            626745 non-null  float64\n",
      " 7   district__62             626745 non-null  uint8  \n",
      " 8   district__63             626745 non-null  uint8  \n",
      " 9   district__69             626745 non-null  uint8  \n",
      " 10  client_catg__12          626745 non-null  uint8  \n",
      " 11  client_catg__51          626745 non-null  uint8  \n",
      " 12  region__103              626745 non-null  uint8  \n",
      " 13  region__104              626745 non-null  uint8  \n",
      " 14  region__105              626745 non-null  uint8  \n",
      " 15  region__106              626745 non-null  uint8  \n",
      " 16  region__107              626745 non-null  uint8  \n",
      " 17  region__199              626745 non-null  uint8  \n",
      " 18  region__206              626745 non-null  uint8  \n",
      " 19  region__301              626745 non-null  uint8  \n",
      " 20  region__302              626745 non-null  uint8  \n",
      " 21  region__303              626745 non-null  uint8  \n",
      " 22  region__304              626745 non-null  uint8  \n",
      " 23  region__305              626745 non-null  uint8  \n",
      " 24  region__306              626745 non-null  uint8  \n",
      " 25  region__307              626745 non-null  uint8  \n",
      " 26  region__308              626745 non-null  uint8  \n",
      " 27  region__309              626745 non-null  uint8  \n",
      " 28  region__310              626745 non-null  uint8  \n",
      " 29  region__311              626745 non-null  uint8  \n",
      " 30  region__312              626745 non-null  uint8  \n",
      " 31  region__313              626745 non-null  uint8  \n",
      " 32  region__371              626745 non-null  uint8  \n",
      " 33  region__372              626745 non-null  uint8  \n",
      " 34  region__379              626745 non-null  uint8  \n",
      " 35  region__399              626745 non-null  uint8  \n",
      " 36  tarif_type__11           626745 non-null  uint8  \n",
      " 37  tarif_type__12           626745 non-null  uint8  \n",
      " 38  tarif_type__13           626745 non-null  uint8  \n",
      " 39  tarif_type__14           626745 non-null  uint8  \n",
      " 40  tarif_type__15           626745 non-null  uint8  \n",
      " 41  tarif_type__18           626745 non-null  uint8  \n",
      " 42  tarif_type__21           626745 non-null  uint8  \n",
      " 43  tarif_type__24           626745 non-null  uint8  \n",
      " 44  tarif_type__27           626745 non-null  uint8  \n",
      " 45  tarif_type__29           626745 non-null  uint8  \n",
      " 46  tarif_type__30           626745 non-null  uint8  \n",
      " 47  tarif_type__40           626745 non-null  uint8  \n",
      " 48  tarif_type__42           626745 non-null  uint8  \n",
      " 49  tarif_type__45           626745 non-null  uint8  \n",
      " 50  tarif_type__8            626745 non-null  uint8  \n",
      " 51  tarif_type__9            626745 non-null  uint8  \n",
      " 52  reading_remarque__207    626745 non-null  uint8  \n",
      " 53  reading_remarque__413    626745 non-null  uint8  \n",
      " 54  reading_remarque__5      626745 non-null  uint8  \n",
      " 55  reading_remarque__6      626745 non-null  uint8  \n",
      " 56  reading_remarque__7      626745 non-null  uint8  \n",
      " 57  reading_remarque__8      626745 non-null  uint8  \n",
      " 58  reading_remarque__9      626745 non-null  uint8  \n",
      " 59  counter_coefficient__1   626745 non-null  uint8  \n",
      " 60  counter_coefficient__10  626745 non-null  uint8  \n",
      " 61  counter_coefficient__11  626745 non-null  uint8  \n",
      " 62  counter_coefficient__2   626745 non-null  uint8  \n",
      " 63  counter_coefficient__20  626745 non-null  uint8  \n",
      " 64  counter_coefficient__3   626745 non-null  uint8  \n",
      " 65  counter_coefficient__30  626745 non-null  uint8  \n",
      " 66  counter_coefficient__33  626745 non-null  uint8  \n",
      " 67  counter_coefficient__4   626745 non-null  uint8  \n",
      " 68  counter_coefficient__40  626745 non-null  uint8  \n",
      " 69  counter_coefficient__5   626745 non-null  uint8  \n",
      " 70  counter_coefficient__50  626745 non-null  uint8  \n",
      " 71  counter_coefficient__6   626745 non-null  uint8  \n",
      " 72  counter_coefficient__8   626745 non-null  uint8  \n",
      " 73  counter_coefficient__9   626745 non-null  uint8  \n",
      " 74  counter_type__GAZ        626745 non-null  uint8  \n",
      "dtypes: float64(7), uint8(68)\n",
      "memory usage: 78.9 MB\n"
     ]
    }
   ],
   "source": [
    "train.info()"
   ]
  },
  {
   "cell_type": "code",
   "execution_count": 69,
   "metadata": {},
   "outputs": [
    {
     "name": "stdout",
     "output_type": "stream",
     "text": [
      "Recall:  0.07879071947504102\n",
      "              precision    recall  f1-score   support\n",
      "\n",
      "         0.0       0.93      0.99      0.96    247270\n",
      "         1.0       0.39      0.08      0.13     21335\n",
      "\n",
      "    accuracy                           0.92    268605\n",
      "   macro avg       0.66      0.53      0.54    268605\n",
      "weighted avg       0.88      0.92      0.89    268605\n",
      "\n"
     ]
    },
    {
     "data": {
      "text/plain": [
       "{'bootstrap': True,\n",
       " 'ccp_alpha': 0.0,\n",
       " 'class_weight': None,\n",
       " 'criterion': 'gini',\n",
       " 'max_depth': None,\n",
       " 'max_features': 'sqrt',\n",
       " 'max_leaf_nodes': None,\n",
       " 'max_samples': None,\n",
       " 'min_impurity_decrease': 0.0,\n",
       " 'min_samples_leaf': 1,\n",
       " 'min_samples_split': 2,\n",
       " 'min_weight_fraction_leaf': 0.0,\n",
       " 'n_estimators': 100,\n",
       " 'n_jobs': -1,\n",
       " 'oob_score': False,\n",
       " 'random_state': None,\n",
       " 'verbose': 0,\n",
       " 'warm_start': False}"
      ]
     },
     "execution_count": 69,
     "metadata": {},
     "output_type": "execute_result"
    },
    {
     "data": {
      "image/png": "[encoded data removed]",
      "text/plain": [
       "<Figure size 640x480 with 2 Axes>"
      ]
     },
     "metadata": {},
     "output_type": "display_data"
    }
   ],
   "source": [
    "rforest = RandomForestClassifier(n_jobs=-1, max_features='sqrt')\n",
    "rforest.fit(train, np.ravel(train_labels))\n",
    " \n",
    "y_pred_rforest = rforest.predict(test)\n",
    "\n",
    "cfm = metrics.confusion_matrix(test_labels, y_pred_rforest)\n",
    "sns.heatmap(cfm, cmap='YlGnBu', annot=True, fmt='d', linewidths=.5);    \n",
    "print('Recall: ',metrics.recall_score(test_labels, y_pred_rforest))\n",
    "print(metrics.classification_report(test_labels, y_pred_rforest))\n",
    "\n",
    "rforest.get_params()\n"
   ]
  },
  {
   "cell_type": "code",
   "execution_count": 57,
   "metadata": {},
   "outputs": [
    {
     "ename": "KeyboardInterrupt",
     "evalue": "",
     "output_type": "error",
     "traceback": [
      "\u001b[0;31m---------------------------------------------------------------------------\u001b[0m",
      "\u001b[0;31mKeyboardInterrupt\u001b[0m                         Traceback (most recent call last)",
      "Cell \u001b[0;32mIn[57], line 4\u001b[0m\n\u001b[1;32m      1\u001b[0m knn \u001b[39m=\u001b[39m KNeighborsClassifier(n_jobs\u001b[39m=\u001b[39m\u001b[39m-\u001b[39m\u001b[39m1\u001b[39m,n_neighbors\u001b[39m=\u001b[39m\u001b[39m5\u001b[39m)\n\u001b[1;32m      2\u001b[0m knn\u001b[39m.\u001b[39mfit(train, np\u001b[39m.\u001b[39mravel(train_labels))\n\u001b[0;32m----> 4\u001b[0m y_pred_knn \u001b[39m=\u001b[39m knn\u001b[39m.\u001b[39;49mpredict(test)\n\u001b[1;32m      6\u001b[0m cfm \u001b[39m=\u001b[39m metrics\u001b[39m.\u001b[39mconfusion_matrix(test_labels, y_pred_knn)\n\u001b[1;32m      7\u001b[0m sns\u001b[39m.\u001b[39mheatmap(cfm, cmap\u001b[39m=\u001b[39m\u001b[39m'\u001b[39m\u001b[39mYlGnBu\u001b[39m\u001b[39m'\u001b[39m, annot\u001b[39m=\u001b[39m\u001b[39mTrue\u001b[39;00m, fmt\u001b[39m=\u001b[39m\u001b[39m'\u001b[39m\u001b[39md\u001b[39m\u001b[39m'\u001b[39m, linewidths\u001b[39m=\u001b[39m\u001b[39m.5\u001b[39m);    \n",
      "File \u001b[0;32m~/neuefische/ML-Project-FraudDetection/.venv/lib/python3.9/site-packages/sklearn/neighbors/_classification.py:214\u001b[0m, in \u001b[0;36mKNeighborsClassifier.predict\u001b[0;34m(self, X)\u001b[0m\n\u001b[1;32m    200\u001b[0m \u001b[39mdef\u001b[39;00m \u001b[39mpredict\u001b[39m(\u001b[39mself\u001b[39m, X):\n\u001b[1;32m    201\u001b[0m \u001b[39m    \u001b[39m\u001b[39m\"\"\"Predict the class labels for the provided data.\u001b[39;00m\n\u001b[1;32m    202\u001b[0m \n\u001b[1;32m    203\u001b[0m \u001b[39m    Parameters\u001b[39;00m\n\u001b[0;32m   (...)\u001b[0m\n\u001b[1;32m    212\u001b[0m \u001b[39m        Class labels for each data sample.\u001b[39;00m\n\u001b[1;32m    213\u001b[0m \u001b[39m    \"\"\"\u001b[39;00m\n\u001b[0;32m--> 214\u001b[0m     neigh_dist, neigh_ind \u001b[39m=\u001b[39m \u001b[39mself\u001b[39;49m\u001b[39m.\u001b[39;49mkneighbors(X)\n\u001b[1;32m    215\u001b[0m     classes_ \u001b[39m=\u001b[39m \u001b[39mself\u001b[39m\u001b[39m.\u001b[39mclasses_\n\u001b[1;32m    216\u001b[0m     _y \u001b[39m=\u001b[39m \u001b[39mself\u001b[39m\u001b[39m.\u001b[39m_y\n",
      "File \u001b[0;32m~/neuefische/ML-Project-FraudDetection/.venv/lib/python3.9/site-packages/sklearn/neighbors/_base.py:752\u001b[0m, in \u001b[0;36mKNeighborsMixin.kneighbors\u001b[0;34m(self, X, n_neighbors, return_distance)\u001b[0m\n\u001b[1;32m    749\u001b[0m     \u001b[39melse\u001b[39;00m:\n\u001b[1;32m    750\u001b[0m         kwds \u001b[39m=\u001b[39m \u001b[39mself\u001b[39m\u001b[39m.\u001b[39meffective_metric_params_\n\u001b[0;32m--> 752\u001b[0m     chunked_results \u001b[39m=\u001b[39m \u001b[39mlist\u001b[39;49m(\n\u001b[1;32m    753\u001b[0m         pairwise_distances_chunked(\n\u001b[1;32m    754\u001b[0m             X,\n\u001b[1;32m    755\u001b[0m             \u001b[39mself\u001b[39;49m\u001b[39m.\u001b[39;49m_fit_X,\n\u001b[1;32m    756\u001b[0m             reduce_func\u001b[39m=\u001b[39;49mreduce_func,\n\u001b[1;32m    757\u001b[0m             metric\u001b[39m=\u001b[39;49m\u001b[39mself\u001b[39;49m\u001b[39m.\u001b[39;49meffective_metric_,\n\u001b[1;32m    758\u001b[0m             n_jobs\u001b[39m=\u001b[39;49mn_jobs,\n\u001b[1;32m    759\u001b[0m             \u001b[39m*\u001b[39;49m\u001b[39m*\u001b[39;49mkwds,\n\u001b[1;32m    760\u001b[0m         )\n\u001b[1;32m    761\u001b[0m     )\n\u001b[1;32m    763\u001b[0m \u001b[39melif\u001b[39;00m \u001b[39mself\u001b[39m\u001b[39m.\u001b[39m_fit_method \u001b[39min\u001b[39;00m [\u001b[39m\"\u001b[39m\u001b[39mball_tree\u001b[39m\u001b[39m\"\u001b[39m, \u001b[39m\"\u001b[39m\u001b[39mkd_tree\u001b[39m\u001b[39m\"\u001b[39m]:\n\u001b[1;32m    764\u001b[0m     \u001b[39mif\u001b[39;00m issparse(X):\n",
      "File \u001b[0;32m~/neuefische/ML-Project-FraudDetection/.venv/lib/python3.9/site-packages/sklearn/metrics/pairwise.py:1726\u001b[0m, in \u001b[0;36mpairwise_distances_chunked\u001b[0;34m(X, Y, reduce_func, metric, n_jobs, working_memory, **kwds)\u001b[0m\n\u001b[1;32m   1724\u001b[0m \u001b[39mif\u001b[39;00m reduce_func \u001b[39mis\u001b[39;00m \u001b[39mnot\u001b[39;00m \u001b[39mNone\u001b[39;00m:\n\u001b[1;32m   1725\u001b[0m     chunk_size \u001b[39m=\u001b[39m D_chunk\u001b[39m.\u001b[39mshape[\u001b[39m0\u001b[39m]\n\u001b[0;32m-> 1726\u001b[0m     D_chunk \u001b[39m=\u001b[39m reduce_func(D_chunk, sl\u001b[39m.\u001b[39;49mstart)\n\u001b[1;32m   1727\u001b[0m     _check_chunk_size(D_chunk, chunk_size)\n\u001b[1;32m   1728\u001b[0m \u001b[39myield\u001b[39;00m D_chunk\n",
      "File \u001b[0;32m~/neuefische/ML-Project-FraudDetection/.venv/lib/python3.9/site-packages/sklearn/neighbors/_base.py:634\u001b[0m, in \u001b[0;36mKNeighborsMixin._kneighbors_reduce_func\u001b[0;34m(self, dist, start, n_neighbors, return_distance)\u001b[0m\n\u001b[1;32m    607\u001b[0m \u001b[39m\u001b[39m\u001b[39m\"\"\"Reduce a chunk of distances to the nearest neighbors.\u001b[39;00m\n\u001b[1;32m    608\u001b[0m \n\u001b[1;32m    609\u001b[0m \u001b[39mCallback to :func:`sklearn.metrics.pairwise.pairwise_distances_chunked`\u001b[39;00m\n\u001b[0;32m   (...)\u001b[0m\n\u001b[1;32m    631\u001b[0m \u001b[39m    The neighbors indices.\u001b[39;00m\n\u001b[1;32m    632\u001b[0m \u001b[39m\"\"\"\u001b[39;00m\n\u001b[1;32m    633\u001b[0m sample_range \u001b[39m=\u001b[39m np\u001b[39m.\u001b[39marange(dist\u001b[39m.\u001b[39mshape[\u001b[39m0\u001b[39m])[:, \u001b[39mNone\u001b[39;00m]\n\u001b[0;32m--> 634\u001b[0m neigh_ind \u001b[39m=\u001b[39m np\u001b[39m.\u001b[39;49margpartition(dist, n_neighbors \u001b[39m-\u001b[39;49m \u001b[39m1\u001b[39;49m, axis\u001b[39m=\u001b[39;49m\u001b[39m1\u001b[39;49m)\n\u001b[1;32m    635\u001b[0m neigh_ind \u001b[39m=\u001b[39m neigh_ind[:, :n_neighbors]\n\u001b[1;32m    636\u001b[0m \u001b[39m# argpartition doesn't guarantee sorted order, so we sort again\u001b[39;00m\n",
      "File \u001b[0;32m<__array_function__ internals>:180\u001b[0m, in \u001b[0;36margpartition\u001b[0;34m(*args, **kwargs)\u001b[0m\n",
      "File \u001b[0;32m~/neuefische/ML-Project-FraudDetection/.venv/lib/python3.9/site-packages/numpy/core/fromnumeric.py:845\u001b[0m, in \u001b[0;36margpartition\u001b[0;34m(a, kth, axis, kind, order)\u001b[0m\n\u001b[1;32m    766\u001b[0m \u001b[39m@array_function_dispatch\u001b[39m(_argpartition_dispatcher)\n\u001b[1;32m    767\u001b[0m \u001b[39mdef\u001b[39;00m \u001b[39margpartition\u001b[39m(a, kth, axis\u001b[39m=\u001b[39m\u001b[39m-\u001b[39m\u001b[39m1\u001b[39m, kind\u001b[39m=\u001b[39m\u001b[39m'\u001b[39m\u001b[39mintroselect\u001b[39m\u001b[39m'\u001b[39m, order\u001b[39m=\u001b[39m\u001b[39mNone\u001b[39;00m):\n\u001b[1;32m    768\u001b[0m \u001b[39m    \u001b[39m\u001b[39m\"\"\"\u001b[39;00m\n\u001b[1;32m    769\u001b[0m \u001b[39m    Perform an indirect partition along the given axis using the\u001b[39;00m\n\u001b[1;32m    770\u001b[0m \u001b[39m    algorithm specified by the `kind` keyword. It returns an array of\u001b[39;00m\n\u001b[0;32m   (...)\u001b[0m\n\u001b[1;32m    843\u001b[0m \n\u001b[1;32m    844\u001b[0m \u001b[39m    \"\"\"\u001b[39;00m\n\u001b[0;32m--> 845\u001b[0m     \u001b[39mreturn\u001b[39;00m _wrapfunc(a, \u001b[39m'\u001b[39;49m\u001b[39margpartition\u001b[39;49m\u001b[39m'\u001b[39;49m, kth, axis\u001b[39m=\u001b[39;49maxis, kind\u001b[39m=\u001b[39;49mkind, order\u001b[39m=\u001b[39;49morder)\n",
      "File \u001b[0;32m~/neuefische/ML-Project-FraudDetection/.venv/lib/python3.9/site-packages/numpy/core/fromnumeric.py:57\u001b[0m, in \u001b[0;36m_wrapfunc\u001b[0;34m(obj, method, *args, **kwds)\u001b[0m\n\u001b[1;32m     54\u001b[0m     \u001b[39mreturn\u001b[39;00m _wrapit(obj, method, \u001b[39m*\u001b[39margs, \u001b[39m*\u001b[39m\u001b[39m*\u001b[39mkwds)\n\u001b[1;32m     56\u001b[0m \u001b[39mtry\u001b[39;00m:\n\u001b[0;32m---> 57\u001b[0m     \u001b[39mreturn\u001b[39;00m bound(\u001b[39m*\u001b[39;49margs, \u001b[39m*\u001b[39;49m\u001b[39m*\u001b[39;49mkwds)\n\u001b[1;32m     58\u001b[0m \u001b[39mexcept\u001b[39;00m \u001b[39mTypeError\u001b[39;00m:\n\u001b[1;32m     59\u001b[0m     \u001b[39m# A TypeError occurs if the object does have such a method in its\u001b[39;00m\n\u001b[1;32m     60\u001b[0m     \u001b[39m# class, but its signature is not identical to that of NumPy's. This\u001b[39;00m\n\u001b[0;32m   (...)\u001b[0m\n\u001b[1;32m     64\u001b[0m     \u001b[39m# Call _wrapit from within the except clause to ensure a potential\u001b[39;00m\n\u001b[1;32m     65\u001b[0m     \u001b[39m# exception has a traceback chain.\u001b[39;00m\n\u001b[1;32m     66\u001b[0m     \u001b[39mreturn\u001b[39;00m _wrapit(obj, method, \u001b[39m*\u001b[39margs, \u001b[39m*\u001b[39m\u001b[39m*\u001b[39mkwds)\n",
      "\u001b[0;31mKeyboardInterrupt\u001b[0m: "
     ]
    }
   ],
   "source": [
    "# knn = KNeighborsClassifier(n_jobs=-1,n_neighbors=5)\n",
    "# knn.fit(train, np.ravel(train_labels))\n",
    " \n",
    "# y_pred_knn = knn.predict(test)\n",
    "\n",
    "# cfm = metrics.confusion_matrix(test_labels, y_pred_knn)\n",
    "# sns.heatmap(cfm, cmap='YlGnBu', annot=True, fmt='d', linewidths=.5);    \n",
    "# print('Recall: ',metrics.recall_score(test_labels, y_pred_knn))\n",
    "# print('Report: ',metrics.classification_report(test_labels, y_pred_knn))\n",
    "# knn.get_params()\n",
    "\n"
   ]
  },
  {
   "cell_type": "code",
   "execution_count": 55,
   "metadata": {},
   "outputs": [
    {
     "data": {
      "text/plain": [
       "{'objective': 'binary:logistic',\n",
       " 'use_label_encoder': None,\n",
       " 'base_score': None,\n",
       " 'booster': None,\n",
       " 'callbacks': None,\n",
       " 'colsample_bylevel': None,\n",
       " 'colsample_bynode': None,\n",
       " 'colsample_bytree': None,\n",
       " 'early_stopping_rounds': None,\n",
       " 'enable_categorical': False,\n",
       " 'eval_metric': None,\n",
       " 'feature_types': None,\n",
       " 'gamma': None,\n",
       " 'gpu_id': None,\n",
       " 'grow_policy': None,\n",
       " 'importance_type': None,\n",
       " 'interaction_constraints': None,\n",
       " 'learning_rate': None,\n",
       " 'max_bin': None,\n",
       " 'max_cat_threshold': None,\n",
       " 'max_cat_to_onehot': None,\n",
       " 'max_delta_step': None,\n",
       " 'max_depth': None,\n",
       " 'max_leaves': None,\n",
       " 'min_child_weight': None,\n",
       " 'missing': nan,\n",
       " 'monotone_constraints': None,\n",
       " 'n_estimators': 100,\n",
       " 'n_jobs': None,\n",
       " 'num_parallel_tree': None,\n",
       " 'predictor': None,\n",
       " 'random_state': None,\n",
       " 'reg_alpha': None,\n",
       " 'reg_lambda': None,\n",
       " 'sampling_method': None,\n",
       " 'scale_pos_weight': None,\n",
       " 'subsample': None,\n",
       " 'tree_method': None,\n",
       " 'validate_parameters': None,\n",
       " 'verbosity': None}"
      ]
     },
     "execution_count": 55,
     "metadata": {},
     "output_type": "execute_result"
    }
   ],
   "source": [
    "xgb.get_params()"
   ]
  },
  {
   "cell_type": "code",
   "execution_count": 91,
   "metadata": {},
   "outputs": [
    {
     "ename": "XGBoostError",
     "evalue": "[11:09:51] /Users/runner/work/xgboost/xgboost/python-package/build/temp.macosx-11.0-arm64-cpython-38/xgboost/src/gbm/../common/common.h:239: XGBoost version not compiled with GPU support.\nStack trace:\n  [bt] (0) 1   libxgboost.dylib                    0x0000000282d26534 dmlc::LogMessageFatal::~LogMessageFatal() + 124\n  [bt] (1) 2   libxgboost.dylib                    0x0000000282e0b760 xgboost::gbm::GBTree::ConfigureUpdaters() + 476\n  [bt] (2) 3   libxgboost.dylib                    0x0000000282e068c0 xgboost::gbm::GBTree::Configure(std::__1::vector<std::__1::pair<std::__1::basic_string<char, std::__1::char_traits<char>, std::__1::allocator<char> >, std::__1::basic_string<char, std::__1::char_traits<char>, std::__1::allocator<char> > >, std::__1::allocator<std::__1::pair<std::__1::basic_string<char, std::__1::char_traits<char>, std::__1::allocator<char> >, std::__1::basic_string<char, std::__1::char_traits<char>, std::__1::allocator<char> > > > > const&) + 952\n  [bt] (3) 4   libxgboost.dylib                    0x0000000282e266f8 xgboost::LearnerConfiguration::Configure() + 1124\n  [bt] (4) 5   libxgboost.dylib                    0x0000000282e26a10 xgboost::LearnerImpl::UpdateOneIter(int, std::__1::shared_ptr<xgboost::DMatrix>) + 128\n  [bt] (5) 6   libxgboost.dylib                    0x0000000282d3fb1c XGBoosterUpdateOneIter + 144\n  [bt] (6) 7   libffi.dylib                        0x000000019ccce050 ffi_call_SYSV + 80\n  [bt] (7) 8   libffi.dylib                        0x000000019ccd6af4 ffi_call_int + 1208\n  [bt] (8) 9   _ctypes.cpython-39-darwin.so        0x0000000105827b60 _ctypes_callproc + 1392\n\n",
     "output_type": "error",
     "traceback": [
      "\u001b[0;31m---------------------------------------------------------------------------\u001b[0m",
      "\u001b[0;31mXGBoostError\u001b[0m                              Traceback (most recent call last)",
      "Cell \u001b[0;32mIn[91], line 3\u001b[0m\n\u001b[1;32m      1\u001b[0m \u001b[39m# Fit model to training data\u001b[39;00m\n\u001b[1;32m      2\u001b[0m xgb \u001b[39m=\u001b[39m XGBClassifier(tree_method\u001b[39m=\u001b[39m\u001b[39m\"\u001b[39m\u001b[39mgpu_hist\u001b[39m\u001b[39m\"\u001b[39m, enable_categorical\u001b[39m=\u001b[39m\u001b[39mTrue\u001b[39;00m)\n\u001b[0;32m----> 3\u001b[0m xgb\u001b[39m.\u001b[39;49mfit(train, train_labels)\n\u001b[1;32m      5\u001b[0m y_pred_xgb \u001b[39m=\u001b[39m xgb\u001b[39m.\u001b[39mpredict(test)\n\u001b[1;32m      8\u001b[0m cfm \u001b[39m=\u001b[39m metrics\u001b[39m.\u001b[39mconfusion_matrix(test_labels, y_pred_xgb)\n",
      "File \u001b[0;32m~/neuefische/ML-Project-FraudDetection/.venv/lib/python3.9/site-packages/xgboost/core.py:620\u001b[0m, in \u001b[0;36mrequire_keyword_args.<locals>.throw_if.<locals>.inner_f\u001b[0;34m(*args, **kwargs)\u001b[0m\n\u001b[1;32m    618\u001b[0m \u001b[39mfor\u001b[39;00m k, arg \u001b[39min\u001b[39;00m \u001b[39mzip\u001b[39m(sig\u001b[39m.\u001b[39mparameters, args):\n\u001b[1;32m    619\u001b[0m     kwargs[k] \u001b[39m=\u001b[39m arg\n\u001b[0;32m--> 620\u001b[0m \u001b[39mreturn\u001b[39;00m func(\u001b[39m*\u001b[39;49m\u001b[39m*\u001b[39;49mkwargs)\n",
      "File \u001b[0;32m~/neuefische/ML-Project-FraudDetection/.venv/lib/python3.9/site-packages/xgboost/sklearn.py:1490\u001b[0m, in \u001b[0;36mXGBClassifier.fit\u001b[0;34m(self, X, y, sample_weight, base_margin, eval_set, eval_metric, early_stopping_rounds, verbose, xgb_model, sample_weight_eval_set, base_margin_eval_set, feature_weights, callbacks)\u001b[0m\n\u001b[1;32m   1462\u001b[0m (\n\u001b[1;32m   1463\u001b[0m     model,\n\u001b[1;32m   1464\u001b[0m     metric,\n\u001b[0;32m   (...)\u001b[0m\n\u001b[1;32m   1469\u001b[0m     xgb_model, eval_metric, params, early_stopping_rounds, callbacks\n\u001b[1;32m   1470\u001b[0m )\n\u001b[1;32m   1471\u001b[0m train_dmatrix, evals \u001b[39m=\u001b[39m _wrap_evaluation_matrices(\n\u001b[1;32m   1472\u001b[0m     missing\u001b[39m=\u001b[39m\u001b[39mself\u001b[39m\u001b[39m.\u001b[39mmissing,\n\u001b[1;32m   1473\u001b[0m     X\u001b[39m=\u001b[39mX,\n\u001b[0;32m   (...)\u001b[0m\n\u001b[1;32m   1487\u001b[0m     feature_types\u001b[39m=\u001b[39m\u001b[39mself\u001b[39m\u001b[39m.\u001b[39mfeature_types,\n\u001b[1;32m   1488\u001b[0m )\n\u001b[0;32m-> 1490\u001b[0m \u001b[39mself\u001b[39m\u001b[39m.\u001b[39m_Booster \u001b[39m=\u001b[39m train(\n\u001b[1;32m   1491\u001b[0m     params,\n\u001b[1;32m   1492\u001b[0m     train_dmatrix,\n\u001b[1;32m   1493\u001b[0m     \u001b[39mself\u001b[39;49m\u001b[39m.\u001b[39;49mget_num_boosting_rounds(),\n\u001b[1;32m   1494\u001b[0m     evals\u001b[39m=\u001b[39;49mevals,\n\u001b[1;32m   1495\u001b[0m     early_stopping_rounds\u001b[39m=\u001b[39;49mearly_stopping_rounds,\n\u001b[1;32m   1496\u001b[0m     evals_result\u001b[39m=\u001b[39;49mevals_result,\n\u001b[1;32m   1497\u001b[0m     obj\u001b[39m=\u001b[39;49mobj,\n\u001b[1;32m   1498\u001b[0m     custom_metric\u001b[39m=\u001b[39;49mmetric,\n\u001b[1;32m   1499\u001b[0m     verbose_eval\u001b[39m=\u001b[39;49mverbose,\n\u001b[1;32m   1500\u001b[0m     xgb_model\u001b[39m=\u001b[39;49mmodel,\n\u001b[1;32m   1501\u001b[0m     callbacks\u001b[39m=\u001b[39;49mcallbacks,\n\u001b[1;32m   1502\u001b[0m )\n\u001b[1;32m   1504\u001b[0m \u001b[39mif\u001b[39;00m \u001b[39mnot\u001b[39;00m callable(\u001b[39mself\u001b[39m\u001b[39m.\u001b[39mobjective):\n\u001b[1;32m   1505\u001b[0m     \u001b[39mself\u001b[39m\u001b[39m.\u001b[39mobjective \u001b[39m=\u001b[39m params[\u001b[39m\"\u001b[39m\u001b[39mobjective\u001b[39m\u001b[39m\"\u001b[39m]\n",
      "File \u001b[0;32m~/neuefische/ML-Project-FraudDetection/.venv/lib/python3.9/site-packages/xgboost/core.py:620\u001b[0m, in \u001b[0;36mrequire_keyword_args.<locals>.throw_if.<locals>.inner_f\u001b[0;34m(*args, **kwargs)\u001b[0m\n\u001b[1;32m    618\u001b[0m \u001b[39mfor\u001b[39;00m k, arg \u001b[39min\u001b[39;00m \u001b[39mzip\u001b[39m(sig\u001b[39m.\u001b[39mparameters, args):\n\u001b[1;32m    619\u001b[0m     kwargs[k] \u001b[39m=\u001b[39m arg\n\u001b[0;32m--> 620\u001b[0m \u001b[39mreturn\u001b[39;00m func(\u001b[39m*\u001b[39;49m\u001b[39m*\u001b[39;49mkwargs)\n",
      "File \u001b[0;32m~/neuefische/ML-Project-FraudDetection/.venv/lib/python3.9/site-packages/xgboost/training.py:185\u001b[0m, in \u001b[0;36mtrain\u001b[0;34m(params, dtrain, num_boost_round, evals, obj, feval, maximize, early_stopping_rounds, evals_result, verbose_eval, xgb_model, callbacks, custom_metric)\u001b[0m\n\u001b[1;32m    183\u001b[0m \u001b[39mif\u001b[39;00m cb_container\u001b[39m.\u001b[39mbefore_iteration(bst, i, dtrain, evals):\n\u001b[1;32m    184\u001b[0m     \u001b[39mbreak\u001b[39;00m\n\u001b[0;32m--> 185\u001b[0m bst\u001b[39m.\u001b[39;49mupdate(dtrain, i, obj)\n\u001b[1;32m    186\u001b[0m \u001b[39mif\u001b[39;00m cb_container\u001b[39m.\u001b[39mafter_iteration(bst, i, dtrain, evals):\n\u001b[1;32m    187\u001b[0m     \u001b[39mbreak\u001b[39;00m\n",
      "File \u001b[0;32m~/neuefische/ML-Project-FraudDetection/.venv/lib/python3.9/site-packages/xgboost/core.py:1918\u001b[0m, in \u001b[0;36mBooster.update\u001b[0;34m(self, dtrain, iteration, fobj)\u001b[0m\n\u001b[1;32m   1915\u001b[0m \u001b[39mself\u001b[39m\u001b[39m.\u001b[39m_validate_dmatrix_features(dtrain)\n\u001b[1;32m   1917\u001b[0m \u001b[39mif\u001b[39;00m fobj \u001b[39mis\u001b[39;00m \u001b[39mNone\u001b[39;00m:\n\u001b[0;32m-> 1918\u001b[0m     _check_call(_LIB\u001b[39m.\u001b[39;49mXGBoosterUpdateOneIter(\u001b[39mself\u001b[39;49m\u001b[39m.\u001b[39;49mhandle,\n\u001b[1;32m   1919\u001b[0m                                             ctypes\u001b[39m.\u001b[39;49mc_int(iteration),\n\u001b[1;32m   1920\u001b[0m                                             dtrain\u001b[39m.\u001b[39;49mhandle))\n\u001b[1;32m   1921\u001b[0m \u001b[39melse\u001b[39;00m:\n\u001b[1;32m   1922\u001b[0m     pred \u001b[39m=\u001b[39m \u001b[39mself\u001b[39m\u001b[39m.\u001b[39mpredict(dtrain, output_margin\u001b[39m=\u001b[39m\u001b[39mTrue\u001b[39;00m, training\u001b[39m=\u001b[39m\u001b[39mTrue\u001b[39;00m)\n",
      "File \u001b[0;32m~/neuefische/ML-Project-FraudDetection/.venv/lib/python3.9/site-packages/xgboost/core.py:279\u001b[0m, in \u001b[0;36m_check_call\u001b[0;34m(ret)\u001b[0m\n\u001b[1;32m    268\u001b[0m \u001b[39m\u001b[39m\u001b[39m\"\"\"Check the return value of C API call\u001b[39;00m\n\u001b[1;32m    269\u001b[0m \n\u001b[1;32m    270\u001b[0m \u001b[39mThis function will raise exception when error occurs.\u001b[39;00m\n\u001b[0;32m   (...)\u001b[0m\n\u001b[1;32m    276\u001b[0m \u001b[39m    return value from API calls\u001b[39;00m\n\u001b[1;32m    277\u001b[0m \u001b[39m\"\"\"\u001b[39;00m\n\u001b[1;32m    278\u001b[0m \u001b[39mif\u001b[39;00m ret \u001b[39m!=\u001b[39m \u001b[39m0\u001b[39m:\n\u001b[0;32m--> 279\u001b[0m     \u001b[39mraise\u001b[39;00m XGBoostError(py_str(_LIB\u001b[39m.\u001b[39mXGBGetLastError()))\n",
      "\u001b[0;31mXGBoostError\u001b[0m: [11:09:51] /Users/runner/work/xgboost/xgboost/python-package/build/temp.macosx-11.0-arm64-cpython-38/xgboost/src/gbm/../common/common.h:239: XGBoost version not compiled with GPU support.\nStack trace:\n  [bt] (0) 1   libxgboost.dylib                    0x0000000282d26534 dmlc::LogMessageFatal::~LogMessageFatal() + 124\n  [bt] (1) 2   libxgboost.dylib                    0x0000000282e0b760 xgboost::gbm::GBTree::ConfigureUpdaters() + 476\n  [bt] (2) 3   libxgboost.dylib                    0x0000000282e068c0 xgboost::gbm::GBTree::Configure(std::__1::vector<std::__1::pair<std::__1::basic_string<char, std::__1::char_traits<char>, std::__1::allocator<char> >, std::__1::basic_string<char, std::__1::char_traits<char>, std::__1::allocator<char> > >, std::__1::allocator<std::__1::pair<std::__1::basic_string<char, std::__1::char_traits<char>, std::__1::allocator<char> >, std::__1::basic_string<char, std::__1::char_traits<char>, std::__1::allocator<char> > > > > const&) + 952\n  [bt] (3) 4   libxgboost.dylib                    0x0000000282e266f8 xgboost::LearnerConfiguration::Configure() + 1124\n  [bt] (4) 5   libxgboost.dylib                    0x0000000282e26a10 xgboost::LearnerImpl::UpdateOneIter(int, std::__1::shared_ptr<xgboost::DMatrix>) + 128\n  [bt] (5) 6   libxgboost.dylib                    0x0000000282d3fb1c XGBoosterUpdateOneIter + 144\n  [bt] (6) 7   libffi.dylib                        0x000000019ccce050 ffi_call_SYSV + 80\n  [bt] (7) 8   libffi.dylib                        0x000000019ccd6af4 ffi_call_int + 1208\n  [bt] (8) 9   _ctypes.cpython-39-darwin.so        0x0000000105827b60 _ctypes_callproc + 1392\n\n"
     ]
    }
   ],
   "source": [
    "# Fit model to training data\n",
    "xgb = XGBClassifier(tree_method=\"gpu_hist\", enable_categorical=True)\n",
    "xgb.fit(train, train_labels)\n",
    "\n",
    "y_pred_xgb = xgb.predict(test)\n",
    "\n",
    "\n",
    "cfm = metrics.confusion_matrix(test_labels, y_pred_xgb)\n",
    "sns.heatmap(cfm, cmap='YlGnBu', annot=True, fmt='d', linewidths=.5);    \n",
    "print('Recall: ',metrics.recall_score(test_labels, y_pred_xgb))\n",
    "print(metrics.classification_report(test_labels, y_pred_xgb))\n",
    "\n"
   ]
  },
  {
   "cell_type": "code",
   "execution_count": null,
   "metadata": {},
   "outputs": [],
   "source": [
    "y_pred_xgb = xgb.predict(train)\n",
    "\n",
    "\n",
    "cfm = metrics.confusion_matrix(train_labels, y_pred_xgb)\n",
    "sns.heatmap(cfm, cmap='YlGnBu', annot=True, fmt='d', linewidths=.5);    \n",
    "print('Recall: ',metrics.recall_score(train_labels, y_pred_xgb))\n",
    "print(metrics.classification_report(train_labels, y_pred_xgb))\n",
    "\n"
   ]
  },
  {
   "cell_type": "code",
   "execution_count": 74,
   "metadata": {},
   "outputs": [],
   "source": [
    "# X = data_ros.drop(['target'],axis=1)\n",
    "# y = data_ros.target\n",
    "# train, test, train_labels, test_labels = train_test_split(X, y, stratify=y ,test_size=0.3, random_state=150)\n",
    "\n"
   ]
  },
  {
   "cell_type": "code",
   "execution_count": 79,
   "metadata": {},
   "outputs": [],
   "source": [
    "%store -r X_train_scaled_ros\n",
    "%store -r y_train_ros\n",
    "%store -r X_test\n",
    "%store -r y_test"
   ]
  },
  {
   "cell_type": "code",
   "execution_count": 85,
   "metadata": {},
   "outputs": [
    {
     "data": {
      "text/plain": [
       "567191     0.0\n",
       "2116738    0.0\n",
       "1541518    1.0\n",
       "4290568    0.0\n",
       "505730     1.0\n",
       "Name: target, dtype: float64"
      ]
     },
     "execution_count": 85,
     "metadata": {},
     "output_type": "execute_result"
    }
   ],
   "source": [
    "X_train_scaled_ros.shape\n",
    "y_train_ros.shape\n",
    "X_test.shape\n",
    "y_test.head()"
   ]
  },
  {
   "cell_type": "code",
   "execution_count": 90,
   "metadata": {},
   "outputs": [
    {
     "name": "stdout",
     "output_type": "stream",
     "text": [
      "Recall:  0.5180689008671198\n",
      "              precision    recall  f1-score   support\n",
      "\n",
      "         0.0       0.95      0.73      0.82    247270\n",
      "         1.0       0.14      0.52      0.22     21335\n",
      "\n",
      "    accuracy                           0.71    268605\n",
      "   macro avg       0.54      0.62      0.52    268605\n",
      "weighted avg       0.88      0.71      0.77    268605\n",
      "\n"
     ]
    },
    {
     "data": {
      "text/plain": [
       "{'bootstrap': True,\n",
       " 'ccp_alpha': 0.0,\n",
       " 'class_weight': None,\n",
       " 'criterion': 'gini',\n",
       " 'max_depth': 15,\n",
       " 'max_features': 'auto',\n",
       " 'max_leaf_nodes': None,\n",
       " 'max_samples': None,\n",
       " 'min_impurity_decrease': 0.0,\n",
       " 'min_samples_leaf': 1,\n",
       " 'min_samples_split': 2,\n",
       " 'min_weight_fraction_leaf': 0.0,\n",
       " 'n_estimators': 100,\n",
       " 'n_jobs': -1,\n",
       " 'oob_score': False,\n",
       " 'random_state': None,\n",
       " 'verbose': 0,\n",
       " 'warm_start': False}"
      ]
     },
     "execution_count": 90,
     "metadata": {},
     "output_type": "execute_result"
    },
    {
     "data": {
      "image/png": "[encoded data removed]",
      "text/plain": [
       "<Figure size 640x480 with 2 Axes>"
      ]
     },
     "metadata": {},
     "output_type": "display_data"
    }
   ],
   "source": [
    "rforest = RandomForestClassifier(n_jobs=-1, max_depth=15)\n",
    "rforest.fit(X_train_scaled_ros, np.ravel(y_train_ros))\n",
    " \n",
    "y_pred_rforest = rforest.predict(X_test)\n",
    "\n",
    "cfm = metrics.confusion_matrix(y_test, y_pred_rforest)\n",
    "sns.heatmap(cfm, cmap='YlGnBu', annot=True, fmt='d', linewidths=.5);    \n",
    "print('Recall: ',metrics.recall_score(y_test, y_pred_rforest))\n",
    "print(metrics.classification_report(y_test, y_pred_rforest))\n",
    "\n",
    "rforest.get_params()"
   ]
  },
  {
   "cell_type": "code",
   "execution_count": 86,
   "metadata": {},
   "outputs": [
    {
     "name": "stdout",
     "output_type": "stream",
     "text": [
      "Recall:  0.9824893147209002\n",
      "              precision    recall  f1-score   support\n",
      "\n",
      "         0.0       0.98      0.99      0.98    576962\n",
      "         1.0       0.99      0.98      0.98    576962\n",
      "\n",
      "    accuracy                           0.98   1153924\n",
      "   macro avg       0.98      0.98      0.98   1153924\n",
      "weighted avg       0.98      0.98      0.98   1153924\n",
      "\n"
     ]
    },
    {
     "data": {
      "image/png": "[encoded data removed]",
      "text/plain": [
       "<Figure size 640x480 with 2 Axes>"
      ]
     },
     "metadata": {},
     "output_type": "display_data"
    }
   ],
   "source": [
    "y_pred_rforest = rforest.predict(X_train_scaled_ros)\n",
    "\n",
    "cfm = metrics.confusion_matrix(y_train_ros, y_pred_rforest)\n",
    "sns.heatmap(cfm, cmap='YlGnBu', annot=True, fmt='d', linewidths=.5);    \n",
    "print('Recall: ',metrics.recall_score(y_train_ros, y_pred_rforest))\n",
    "print(metrics.classification_report(y_train_ros, y_pred_rforest))"
   ]
  },
  {
   "cell_type": "markdown",
   "metadata": {},
   "source": []
  }
 ],
 "metadata": {
  "kernelspec": {
   "display_name": ".venv",
   "language": "python",
   "name": "python3"
  },
  "language_info": {
   "codemirror_mode": {
    "name": "ipython",
    "version": 3
   },
   "file_extension": ".py",
   "mimetype": "text/x-python",
   "name": "python",
   "nbconvert_exporter": "python",
   "pygments_lexer": "ipython3",
   "version": "3.9.8"
  },
  "vscode": {
   "interpreter": {
    "hash": "fae802cab87d08da7abd04f07de0a2a4a52de9c0568ceede68f46ab7f01312d5"
   }
  }
 },
 "nbformat": 4,
 "nbformat_minor": 4
}
