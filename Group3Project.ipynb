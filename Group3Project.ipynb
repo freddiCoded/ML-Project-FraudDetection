{
 "cells": [
  {
   "cell_type": "code",
   "execution_count": 3,
   "metadata": {},
   "outputs": [],
   "source": [
    "import pandas as pd\n",
    "import numpy as np\n",
    "import warnings\n",
    "warnings.filterwarnings('ignore')\n",
    "import matplotlib.pyplot as plt\n",
    "import seaborn as sns"
   ]
  },
  {
   "cell_type": "code",
   "execution_count": 4,
   "metadata": {},
   "outputs": [
    {
     "data": {
      "text/html": [
       "<div>\n",
       "<style scoped>\n",
       "    .dataframe tbody tr th:only-of-type {\n",
       "        vertical-align: middle;\n",
       "    }\n",
       "\n",
       "    .dataframe tbody tr th {\n",
       "        vertical-align: top;\n",
       "    }\n",
       "\n",
       "    .dataframe thead th {\n",
       "        text-align: right;\n",
       "    }\n",
       "</style>\n",
       "<table border=\"1\" class=\"dataframe\">\n",
       "  <thead>\n",
       "    <tr style=\"text-align: right;\">\n",
       "      <th></th>\n",
       "      <th>disrict</th>\n",
       "      <th>client_id</th>\n",
       "      <th>client_catg</th>\n",
       "      <th>region</th>\n",
       "      <th>creation_date</th>\n",
       "      <th>target</th>\n",
       "    </tr>\n",
       "  </thead>\n",
       "  <tbody>\n",
       "    <tr>\n",
       "      <th>0</th>\n",
       "      <td>60</td>\n",
       "      <td>train_Client_0</td>\n",
       "      <td>11</td>\n",
       "      <td>101</td>\n",
       "      <td>31/12/1994</td>\n",
       "      <td>0.0</td>\n",
       "    </tr>\n",
       "    <tr>\n",
       "      <th>1</th>\n",
       "      <td>69</td>\n",
       "      <td>train_Client_1</td>\n",
       "      <td>11</td>\n",
       "      <td>107</td>\n",
       "      <td>29/05/2002</td>\n",
       "      <td>0.0</td>\n",
       "    </tr>\n",
       "    <tr>\n",
       "      <th>2</th>\n",
       "      <td>62</td>\n",
       "      <td>train_Client_10</td>\n",
       "      <td>11</td>\n",
       "      <td>301</td>\n",
       "      <td>13/03/1986</td>\n",
       "      <td>0.0</td>\n",
       "    </tr>\n",
       "    <tr>\n",
       "      <th>3</th>\n",
       "      <td>69</td>\n",
       "      <td>train_Client_100</td>\n",
       "      <td>11</td>\n",
       "      <td>105</td>\n",
       "      <td>11/07/1996</td>\n",
       "      <td>0.0</td>\n",
       "    </tr>\n",
       "    <tr>\n",
       "      <th>4</th>\n",
       "      <td>62</td>\n",
       "      <td>train_Client_1000</td>\n",
       "      <td>11</td>\n",
       "      <td>303</td>\n",
       "      <td>14/10/2014</td>\n",
       "      <td>0.0</td>\n",
       "    </tr>\n",
       "  </tbody>\n",
       "</table>\n",
       "</div>"
      ],
      "text/plain": [
       "   disrict          client_id  client_catg  region creation_date  target\n",
       "0       60     train_Client_0           11     101    31/12/1994     0.0\n",
       "1       69     train_Client_1           11     107    29/05/2002     0.0\n",
       "2       62    train_Client_10           11     301    13/03/1986     0.0\n",
       "3       69   train_Client_100           11     105    11/07/1996     0.0\n",
       "4       62  train_Client_1000           11     303    14/10/2014     0.0"
      ]
     },
     "execution_count": 4,
     "metadata": {},
     "output_type": "execute_result"
    }
   ],
   "source": [
    "df_client = pd.read_csv('/Users/kelechijohn/Neuefische/ML-Project-FraudDetection/data/train/client_train.csv')\n",
    "df_client.head()"
   ]
  },
  {
   "cell_type": "code",
   "execution_count": 5,
   "metadata": {},
   "outputs": [],
   "source": [
    "df_invoice=pd.read_csv('/Users/kelechijohn/Neuefische/ML-Project-FraudDetection/data/train/invoice_train.csv')"
   ]
  },
  {
   "cell_type": "code",
   "execution_count": 6,
   "metadata": {},
   "outputs": [],
   "source": [
    "data = pd.merge(df_client, df_invoice, how='left', on='client_id')"
   ]
  },
  {
   "cell_type": "code",
   "execution_count": 7,
   "metadata": {},
   "outputs": [
    {
     "data": {
      "text/html": [
       "<div>\n",
       "<style scoped>\n",
       "    .dataframe tbody tr th:only-of-type {\n",
       "        vertical-align: middle;\n",
       "    }\n",
       "\n",
       "    .dataframe tbody tr th {\n",
       "        vertical-align: top;\n",
       "    }\n",
       "\n",
       "    .dataframe thead th {\n",
       "        text-align: right;\n",
       "    }\n",
       "</style>\n",
       "<table border=\"1\" class=\"dataframe\">\n",
       "  <thead>\n",
       "    <tr style=\"text-align: right;\">\n",
       "      <th></th>\n",
       "      <th>disrict</th>\n",
       "      <th>client_id</th>\n",
       "      <th>client_catg</th>\n",
       "      <th>region</th>\n",
       "      <th>creation_date</th>\n",
       "      <th>target</th>\n",
       "      <th>invoice_date</th>\n",
       "      <th>tarif_type</th>\n",
       "      <th>counter_number</th>\n",
       "      <th>counter_statue</th>\n",
       "      <th>...</th>\n",
       "      <th>reading_remarque</th>\n",
       "      <th>counter_coefficient</th>\n",
       "      <th>consommation_level_1</th>\n",
       "      <th>consommation_level_2</th>\n",
       "      <th>consommation_level_3</th>\n",
       "      <th>consommation_level_4</th>\n",
       "      <th>old_index</th>\n",
       "      <th>new_index</th>\n",
       "      <th>months_number</th>\n",
       "      <th>counter_type</th>\n",
       "    </tr>\n",
       "  </thead>\n",
       "  <tbody>\n",
       "    <tr>\n",
       "      <th>0</th>\n",
       "      <td>60</td>\n",
       "      <td>train_Client_0</td>\n",
       "      <td>11</td>\n",
       "      <td>101</td>\n",
       "      <td>31/12/1994</td>\n",
       "      <td>0.0</td>\n",
       "      <td>2014-03-24</td>\n",
       "      <td>11</td>\n",
       "      <td>1335667</td>\n",
       "      <td>0</td>\n",
       "      <td>...</td>\n",
       "      <td>8</td>\n",
       "      <td>1</td>\n",
       "      <td>82</td>\n",
       "      <td>0</td>\n",
       "      <td>0</td>\n",
       "      <td>0</td>\n",
       "      <td>14302</td>\n",
       "      <td>14384</td>\n",
       "      <td>4</td>\n",
       "      <td>ELEC</td>\n",
       "    </tr>\n",
       "    <tr>\n",
       "      <th>1</th>\n",
       "      <td>60</td>\n",
       "      <td>train_Client_0</td>\n",
       "      <td>11</td>\n",
       "      <td>101</td>\n",
       "      <td>31/12/1994</td>\n",
       "      <td>0.0</td>\n",
       "      <td>2013-03-29</td>\n",
       "      <td>11</td>\n",
       "      <td>1335667</td>\n",
       "      <td>0</td>\n",
       "      <td>...</td>\n",
       "      <td>6</td>\n",
       "      <td>1</td>\n",
       "      <td>1200</td>\n",
       "      <td>184</td>\n",
       "      <td>0</td>\n",
       "      <td>0</td>\n",
       "      <td>12294</td>\n",
       "      <td>13678</td>\n",
       "      <td>4</td>\n",
       "      <td>ELEC</td>\n",
       "    </tr>\n",
       "    <tr>\n",
       "      <th>2</th>\n",
       "      <td>60</td>\n",
       "      <td>train_Client_0</td>\n",
       "      <td>11</td>\n",
       "      <td>101</td>\n",
       "      <td>31/12/1994</td>\n",
       "      <td>0.0</td>\n",
       "      <td>2015-03-23</td>\n",
       "      <td>11</td>\n",
       "      <td>1335667</td>\n",
       "      <td>0</td>\n",
       "      <td>...</td>\n",
       "      <td>8</td>\n",
       "      <td>1</td>\n",
       "      <td>123</td>\n",
       "      <td>0</td>\n",
       "      <td>0</td>\n",
       "      <td>0</td>\n",
       "      <td>14624</td>\n",
       "      <td>14747</td>\n",
       "      <td>4</td>\n",
       "      <td>ELEC</td>\n",
       "    </tr>\n",
       "    <tr>\n",
       "      <th>3</th>\n",
       "      <td>60</td>\n",
       "      <td>train_Client_0</td>\n",
       "      <td>11</td>\n",
       "      <td>101</td>\n",
       "      <td>31/12/1994</td>\n",
       "      <td>0.0</td>\n",
       "      <td>2015-07-13</td>\n",
       "      <td>11</td>\n",
       "      <td>1335667</td>\n",
       "      <td>0</td>\n",
       "      <td>...</td>\n",
       "      <td>8</td>\n",
       "      <td>1</td>\n",
       "      <td>102</td>\n",
       "      <td>0</td>\n",
       "      <td>0</td>\n",
       "      <td>0</td>\n",
       "      <td>14747</td>\n",
       "      <td>14849</td>\n",
       "      <td>4</td>\n",
       "      <td>ELEC</td>\n",
       "    </tr>\n",
       "    <tr>\n",
       "      <th>4</th>\n",
       "      <td>60</td>\n",
       "      <td>train_Client_0</td>\n",
       "      <td>11</td>\n",
       "      <td>101</td>\n",
       "      <td>31/12/1994</td>\n",
       "      <td>0.0</td>\n",
       "      <td>2016-11-17</td>\n",
       "      <td>11</td>\n",
       "      <td>1335667</td>\n",
       "      <td>0</td>\n",
       "      <td>...</td>\n",
       "      <td>9</td>\n",
       "      <td>1</td>\n",
       "      <td>572</td>\n",
       "      <td>0</td>\n",
       "      <td>0</td>\n",
       "      <td>0</td>\n",
       "      <td>15066</td>\n",
       "      <td>15638</td>\n",
       "      <td>12</td>\n",
       "      <td>ELEC</td>\n",
       "    </tr>\n",
       "  </tbody>\n",
       "</table>\n",
       "<p>5 rows × 21 columns</p>\n",
       "</div>"
      ],
      "text/plain": [
       "   disrict       client_id  client_catg  region creation_date  target  \\\n",
       "0       60  train_Client_0           11     101    31/12/1994     0.0   \n",
       "1       60  train_Client_0           11     101    31/12/1994     0.0   \n",
       "2       60  train_Client_0           11     101    31/12/1994     0.0   \n",
       "3       60  train_Client_0           11     101    31/12/1994     0.0   \n",
       "4       60  train_Client_0           11     101    31/12/1994     0.0   \n",
       "\n",
       "  invoice_date  tarif_type  counter_number counter_statue  ...  \\\n",
       "0   2014-03-24          11         1335667              0  ...   \n",
       "1   2013-03-29          11         1335667              0  ...   \n",
       "2   2015-03-23          11         1335667              0  ...   \n",
       "3   2015-07-13          11         1335667              0  ...   \n",
       "4   2016-11-17          11         1335667              0  ...   \n",
       "\n",
       "   reading_remarque  counter_coefficient  consommation_level_1  \\\n",
       "0                 8                    1                    82   \n",
       "1                 6                    1                  1200   \n",
       "2                 8                    1                   123   \n",
       "3                 8                    1                   102   \n",
       "4                 9                    1                   572   \n",
       "\n",
       "   consommation_level_2  consommation_level_3  consommation_level_4  \\\n",
       "0                     0                     0                     0   \n",
       "1                   184                     0                     0   \n",
       "2                     0                     0                     0   \n",
       "3                     0                     0                     0   \n",
       "4                     0                     0                     0   \n",
       "\n",
       "   old_index  new_index  months_number  counter_type  \n",
       "0      14302      14384              4          ELEC  \n",
       "1      12294      13678              4          ELEC  \n",
       "2      14624      14747              4          ELEC  \n",
       "3      14747      14849              4          ELEC  \n",
       "4      15066      15638             12          ELEC  \n",
       "\n",
       "[5 rows x 21 columns]"
      ]
     },
     "execution_count": 7,
     "metadata": {},
     "output_type": "execute_result"
    }
   ],
   "source": [
    "data.head()"
   ]
  },
  {
   "cell_type": "code",
   "execution_count": 8,
   "metadata": {},
   "outputs": [
    {
     "data": {
      "text/html": [
       "<div>\n",
       "<style scoped>\n",
       "    .dataframe tbody tr th:only-of-type {\n",
       "        vertical-align: middle;\n",
       "    }\n",
       "\n",
       "    .dataframe tbody tr th {\n",
       "        vertical-align: top;\n",
       "    }\n",
       "\n",
       "    .dataframe thead th {\n",
       "        text-align: right;\n",
       "    }\n",
       "</style>\n",
       "<table border=\"1\" class=\"dataframe\">\n",
       "  <thead>\n",
       "    <tr style=\"text-align: right;\">\n",
       "      <th></th>\n",
       "      <th>disrict</th>\n",
       "      <th>client_catg</th>\n",
       "      <th>region</th>\n",
       "      <th>target</th>\n",
       "      <th>tarif_type</th>\n",
       "      <th>counter_number</th>\n",
       "      <th>counter_code</th>\n",
       "      <th>reading_remarque</th>\n",
       "      <th>counter_coefficient</th>\n",
       "      <th>consommation_level_1</th>\n",
       "      <th>consommation_level_2</th>\n",
       "      <th>consommation_level_3</th>\n",
       "      <th>consommation_level_4</th>\n",
       "      <th>old_index</th>\n",
       "      <th>new_index</th>\n",
       "      <th>months_number</th>\n",
       "    </tr>\n",
       "  </thead>\n",
       "  <tbody>\n",
       "    <tr>\n",
       "      <th>count</th>\n",
       "      <td>4.476749e+06</td>\n",
       "      <td>4.476749e+06</td>\n",
       "      <td>4.476749e+06</td>\n",
       "      <td>4.476749e+06</td>\n",
       "      <td>4.476749e+06</td>\n",
       "      <td>4.476749e+06</td>\n",
       "      <td>4.476749e+06</td>\n",
       "      <td>4.476749e+06</td>\n",
       "      <td>4.476749e+06</td>\n",
       "      <td>4.476749e+06</td>\n",
       "      <td>4.476749e+06</td>\n",
       "      <td>4.476749e+06</td>\n",
       "      <td>4.476749e+06</td>\n",
       "      <td>4.476749e+06</td>\n",
       "      <td>4.476749e+06</td>\n",
       "      <td>4.476749e+06</td>\n",
       "    </tr>\n",
       "    <tr>\n",
       "      <th>mean</th>\n",
       "      <td>6.348246e+01</td>\n",
       "      <td>1.194381e+01</td>\n",
       "      <td>2.103584e+02</td>\n",
       "      <td>7.887688e-02</td>\n",
       "      <td>2.012804e+01</td>\n",
       "      <td>1.230587e+11</td>\n",
       "      <td>1.724884e+02</td>\n",
       "      <td>7.321702e+00</td>\n",
       "      <td>1.003040e+00</td>\n",
       "      <td>4.109795e+02</td>\n",
       "      <td>1.093225e+02</td>\n",
       "      <td>2.030620e+01</td>\n",
       "      <td>5.292588e+01</td>\n",
       "      <td>1.776700e+04</td>\n",
       "      <td>1.834970e+04</td>\n",
       "      <td>4.483095e+01</td>\n",
       "    </tr>\n",
       "    <tr>\n",
       "      <th>std</th>\n",
       "      <td>3.273403e+00</td>\n",
       "      <td>6.022452e+00</td>\n",
       "      <td>1.035828e+02</td>\n",
       "      <td>2.695465e-01</td>\n",
       "      <td>1.347256e+01</td>\n",
       "      <td>1.657267e+12</td>\n",
       "      <td>1.338871e+02</td>\n",
       "      <td>1.571654e+00</td>\n",
       "      <td>3.083466e-01</td>\n",
       "      <td>7.573080e+02</td>\n",
       "      <td>1.220123e+03</td>\n",
       "      <td>1.574239e+02</td>\n",
       "      <td>8.754725e+02</td>\n",
       "      <td>4.036693e+04</td>\n",
       "      <td>4.095321e+04</td>\n",
       "      <td>3.128335e+03</td>\n",
       "    </tr>\n",
       "    <tr>\n",
       "      <th>min</th>\n",
       "      <td>6.000000e+01</td>\n",
       "      <td>1.100000e+01</td>\n",
       "      <td>1.010000e+02</td>\n",
       "      <td>0.000000e+00</td>\n",
       "      <td>8.000000e+00</td>\n",
       "      <td>0.000000e+00</td>\n",
       "      <td>0.000000e+00</td>\n",
       "      <td>5.000000e+00</td>\n",
       "      <td>0.000000e+00</td>\n",
       "      <td>0.000000e+00</td>\n",
       "      <td>0.000000e+00</td>\n",
       "      <td>0.000000e+00</td>\n",
       "      <td>0.000000e+00</td>\n",
       "      <td>0.000000e+00</td>\n",
       "      <td>0.000000e+00</td>\n",
       "      <td>0.000000e+00</td>\n",
       "    </tr>\n",
       "    <tr>\n",
       "      <th>25%</th>\n",
       "      <td>6.200000e+01</td>\n",
       "      <td>1.100000e+01</td>\n",
       "      <td>1.030000e+02</td>\n",
       "      <td>0.000000e+00</td>\n",
       "      <td>1.100000e+01</td>\n",
       "      <td>1.211080e+05</td>\n",
       "      <td>5.000000e+00</td>\n",
       "      <td>6.000000e+00</td>\n",
       "      <td>1.000000e+00</td>\n",
       "      <td>7.900000e+01</td>\n",
       "      <td>0.000000e+00</td>\n",
       "      <td>0.000000e+00</td>\n",
       "      <td>0.000000e+00</td>\n",
       "      <td>1.791000e+03</td>\n",
       "      <td>2.056000e+03</td>\n",
       "      <td>4.000000e+00</td>\n",
       "    </tr>\n",
       "    <tr>\n",
       "      <th>50%</th>\n",
       "      <td>6.200000e+01</td>\n",
       "      <td>1.100000e+01</td>\n",
       "      <td>3.010000e+02</td>\n",
       "      <td>0.000000e+00</td>\n",
       "      <td>1.100000e+01</td>\n",
       "      <td>4.945610e+05</td>\n",
       "      <td>2.030000e+02</td>\n",
       "      <td>8.000000e+00</td>\n",
       "      <td>1.000000e+00</td>\n",
       "      <td>2.740000e+02</td>\n",
       "      <td>0.000000e+00</td>\n",
       "      <td>0.000000e+00</td>\n",
       "      <td>0.000000e+00</td>\n",
       "      <td>7.690000e+03</td>\n",
       "      <td>8.192000e+03</td>\n",
       "      <td>4.000000e+00</td>\n",
       "    </tr>\n",
       "    <tr>\n",
       "      <th>75%</th>\n",
       "      <td>6.300000e+01</td>\n",
       "      <td>1.100000e+01</td>\n",
       "      <td>3.090000e+02</td>\n",
       "      <td>0.000000e+00</td>\n",
       "      <td>4.000000e+01</td>\n",
       "      <td>1.115161e+06</td>\n",
       "      <td>2.070000e+02</td>\n",
       "      <td>9.000000e+00</td>\n",
       "      <td>1.000000e+00</td>\n",
       "      <td>6.000000e+02</td>\n",
       "      <td>0.000000e+00</td>\n",
       "      <td>0.000000e+00</td>\n",
       "      <td>0.000000e+00</td>\n",
       "      <td>2.166000e+04</td>\n",
       "      <td>2.234300e+04</td>\n",
       "      <td>4.000000e+00</td>\n",
       "    </tr>\n",
       "    <tr>\n",
       "      <th>max</th>\n",
       "      <td>6.900000e+01</td>\n",
       "      <td>5.100000e+01</td>\n",
       "      <td>3.990000e+02</td>\n",
       "      <td>1.000000e+00</td>\n",
       "      <td>4.500000e+01</td>\n",
       "      <td>2.798115e+13</td>\n",
       "      <td>6.000000e+02</td>\n",
       "      <td>4.130000e+02</td>\n",
       "      <td>5.000000e+01</td>\n",
       "      <td>9.999100e+05</td>\n",
       "      <td>9.990730e+05</td>\n",
       "      <td>6.449200e+04</td>\n",
       "      <td>5.479460e+05</td>\n",
       "      <td>2.800280e+06</td>\n",
       "      <td>2.870972e+06</td>\n",
       "      <td>6.366240e+05</td>\n",
       "    </tr>\n",
       "  </tbody>\n",
       "</table>\n",
       "</div>"
      ],
      "text/plain": [
       "            disrict   client_catg        region        target    tarif_type  \\\n",
       "count  4.476749e+06  4.476749e+06  4.476749e+06  4.476749e+06  4.476749e+06   \n",
       "mean   6.348246e+01  1.194381e+01  2.103584e+02  7.887688e-02  2.012804e+01   \n",
       "std    3.273403e+00  6.022452e+00  1.035828e+02  2.695465e-01  1.347256e+01   \n",
       "min    6.000000e+01  1.100000e+01  1.010000e+02  0.000000e+00  8.000000e+00   \n",
       "25%    6.200000e+01  1.100000e+01  1.030000e+02  0.000000e+00  1.100000e+01   \n",
       "50%    6.200000e+01  1.100000e+01  3.010000e+02  0.000000e+00  1.100000e+01   \n",
       "75%    6.300000e+01  1.100000e+01  3.090000e+02  0.000000e+00  4.000000e+01   \n",
       "max    6.900000e+01  5.100000e+01  3.990000e+02  1.000000e+00  4.500000e+01   \n",
       "\n",
       "       counter_number  counter_code  reading_remarque  counter_coefficient  \\\n",
       "count    4.476749e+06  4.476749e+06      4.476749e+06         4.476749e+06   \n",
       "mean     1.230587e+11  1.724884e+02      7.321702e+00         1.003040e+00   \n",
       "std      1.657267e+12  1.338871e+02      1.571654e+00         3.083466e-01   \n",
       "min      0.000000e+00  0.000000e+00      5.000000e+00         0.000000e+00   \n",
       "25%      1.211080e+05  5.000000e+00      6.000000e+00         1.000000e+00   \n",
       "50%      4.945610e+05  2.030000e+02      8.000000e+00         1.000000e+00   \n",
       "75%      1.115161e+06  2.070000e+02      9.000000e+00         1.000000e+00   \n",
       "max      2.798115e+13  6.000000e+02      4.130000e+02         5.000000e+01   \n",
       "\n",
       "       consommation_level_1  consommation_level_2  consommation_level_3  \\\n",
       "count          4.476749e+06          4.476749e+06          4.476749e+06   \n",
       "mean           4.109795e+02          1.093225e+02          2.030620e+01   \n",
       "std            7.573080e+02          1.220123e+03          1.574239e+02   \n",
       "min            0.000000e+00          0.000000e+00          0.000000e+00   \n",
       "25%            7.900000e+01          0.000000e+00          0.000000e+00   \n",
       "50%            2.740000e+02          0.000000e+00          0.000000e+00   \n",
       "75%            6.000000e+02          0.000000e+00          0.000000e+00   \n",
       "max            9.999100e+05          9.990730e+05          6.449200e+04   \n",
       "\n",
       "       consommation_level_4     old_index     new_index  months_number  \n",
       "count          4.476749e+06  4.476749e+06  4.476749e+06   4.476749e+06  \n",
       "mean           5.292588e+01  1.776700e+04  1.834970e+04   4.483095e+01  \n",
       "std            8.754725e+02  4.036693e+04  4.095321e+04   3.128335e+03  \n",
       "min            0.000000e+00  0.000000e+00  0.000000e+00   0.000000e+00  \n",
       "25%            0.000000e+00  1.791000e+03  2.056000e+03   4.000000e+00  \n",
       "50%            0.000000e+00  7.690000e+03  8.192000e+03   4.000000e+00  \n",
       "75%            0.000000e+00  2.166000e+04  2.234300e+04   4.000000e+00  \n",
       "max            5.479460e+05  2.800280e+06  2.870972e+06   6.366240e+05  "
      ]
     },
     "execution_count": 8,
     "metadata": {},
     "output_type": "execute_result"
    }
   ],
   "source": [
    "data.describe()"
   ]
  },
  {
   "cell_type": "code",
   "execution_count": 9,
   "metadata": {},
   "outputs": [
    {
     "name": "stdout",
     "output_type": "stream",
     "text": [
      "<class 'pandas.core.frame.DataFrame'>\n",
      "Int64Index: 4476749 entries, 0 to 4476748\n",
      "Data columns (total 21 columns):\n",
      " #   Column                Dtype  \n",
      "---  ------                -----  \n",
      " 0   disrict               int64  \n",
      " 1   client_id             object \n",
      " 2   client_catg           int64  \n",
      " 3   region                int64  \n",
      " 4   creation_date         object \n",
      " 5   target                float64\n",
      " 6   invoice_date          object \n",
      " 7   tarif_type            int64  \n",
      " 8   counter_number        int64  \n",
      " 9   counter_statue        object \n",
      " 10  counter_code          int64  \n",
      " 11  reading_remarque      int64  \n",
      " 12  counter_coefficient   int64  \n",
      " 13  consommation_level_1  int64  \n",
      " 14  consommation_level_2  int64  \n",
      " 15  consommation_level_3  int64  \n",
      " 16  consommation_level_4  int64  \n",
      " 17  old_index             int64  \n",
      " 18  new_index             int64  \n",
      " 19  months_number         int64  \n",
      " 20  counter_type          object \n",
      "dtypes: float64(1), int64(15), object(5)\n",
      "memory usage: 751.4+ MB\n"
     ]
    }
   ],
   "source": [
    "data.info()"
   ]
  },
  {
   "cell_type": "code",
   "execution_count": 10,
   "metadata": {},
   "outputs": [
    {
     "data": {
      "text/plain": [
       "False    4476738\n",
       "True          11\n",
       "dtype: int64"
      ]
     },
     "execution_count": 10,
     "metadata": {},
     "output_type": "execute_result"
    }
   ],
   "source": [
    "data.duplicated().value_counts()"
   ]
  },
  {
   "cell_type": "code",
   "execution_count": 11,
   "metadata": {},
   "outputs": [
    {
     "data": {
      "text/plain": [
       "(4476749, 21)"
      ]
     },
     "execution_count": 11,
     "metadata": {},
     "output_type": "execute_result"
    }
   ],
   "source": [
    "data.shape"
   ]
  },
  {
   "cell_type": "code",
   "execution_count": 12,
   "metadata": {},
   "outputs": [
    {
     "data": {
      "text/plain": [
       "Index(['disrict', 'client_id', 'client_catg', 'region', 'creation_date',\n",
       "       'target', 'invoice_date', 'tarif_type', 'counter_number',\n",
       "       'counter_statue', 'counter_code', 'reading_remarque',\n",
       "       'counter_coefficient', 'consommation_level_1', 'consommation_level_2',\n",
       "       'consommation_level_3', 'consommation_level_4', 'old_index',\n",
       "       'new_index', 'months_number', 'counter_type'],\n",
       "      dtype='object')"
      ]
     },
     "execution_count": 12,
     "metadata": {},
     "output_type": "execute_result"
    }
   ],
   "source": [
    "data.columns"
   ]
  },
  {
   "cell_type": "code",
   "execution_count": 13,
   "metadata": {},
   "outputs": [
    {
     "data": {
      "text/html": [
       "<div>\n",
       "<style scoped>\n",
       "    .dataframe tbody tr th:only-of-type {\n",
       "        vertical-align: middle;\n",
       "    }\n",
       "\n",
       "    .dataframe tbody tr th {\n",
       "        vertical-align: top;\n",
       "    }\n",
       "\n",
       "    .dataframe thead th {\n",
       "        text-align: right;\n",
       "    }\n",
       "</style>\n",
       "<table border=\"1\" class=\"dataframe\">\n",
       "  <thead>\n",
       "    <tr style=\"text-align: right;\">\n",
       "      <th></th>\n",
       "      <th>old_index</th>\n",
       "      <th>new_index</th>\n",
       "      <th>months_number</th>\n",
       "      <th>invoice_date</th>\n",
       "      <th>counter_type</th>\n",
       "    </tr>\n",
       "  </thead>\n",
       "  <tbody>\n",
       "    <tr>\n",
       "      <th>0</th>\n",
       "      <td>14302</td>\n",
       "      <td>14384</td>\n",
       "      <td>4</td>\n",
       "      <td>2014-03-24</td>\n",
       "      <td>ELEC</td>\n",
       "    </tr>\n",
       "    <tr>\n",
       "      <th>1</th>\n",
       "      <td>12294</td>\n",
       "      <td>13678</td>\n",
       "      <td>4</td>\n",
       "      <td>2013-03-29</td>\n",
       "      <td>ELEC</td>\n",
       "    </tr>\n",
       "    <tr>\n",
       "      <th>2</th>\n",
       "      <td>14624</td>\n",
       "      <td>14747</td>\n",
       "      <td>4</td>\n",
       "      <td>2015-03-23</td>\n",
       "      <td>ELEC</td>\n",
       "    </tr>\n",
       "    <tr>\n",
       "      <th>3</th>\n",
       "      <td>14747</td>\n",
       "      <td>14849</td>\n",
       "      <td>4</td>\n",
       "      <td>2015-07-13</td>\n",
       "      <td>ELEC</td>\n",
       "    </tr>\n",
       "    <tr>\n",
       "      <th>4</th>\n",
       "      <td>15066</td>\n",
       "      <td>15638</td>\n",
       "      <td>12</td>\n",
       "      <td>2016-11-17</td>\n",
       "      <td>ELEC</td>\n",
       "    </tr>\n",
       "  </tbody>\n",
       "</table>\n",
       "</div>"
      ],
      "text/plain": [
       "   old_index  new_index  months_number invoice_date counter_type\n",
       "0      14302      14384              4   2014-03-24         ELEC\n",
       "1      12294      13678              4   2013-03-29         ELEC\n",
       "2      14624      14747              4   2015-03-23         ELEC\n",
       "3      14747      14849              4   2015-07-13         ELEC\n",
       "4      15066      15638             12   2016-11-17         ELEC"
      ]
     },
     "execution_count": 13,
     "metadata": {},
     "output_type": "execute_result"
    }
   ],
   "source": [
    "data1 = data[['old_index',\n",
    "       'new_index', 'months_number','invoice_date', 'counter_type']]\n",
    "data1.head()"
   ]
  },
  {
   "cell_type": "code",
   "execution_count": 14,
   "metadata": {},
   "outputs": [
    {
     "data": {
      "text/plain": [
       "4         3680478\n",
       "8          278772\n",
       "2          270909\n",
       "1          113266\n",
       "12          54328\n",
       "           ...   \n",
       "430834          1\n",
       "179002          1\n",
       "186166          1\n",
       "81499           1\n",
       "463554          1\n",
       "Name: months_number, Length: 1370, dtype: int64"
      ]
     },
     "execution_count": 14,
     "metadata": {},
     "output_type": "execute_result"
    }
   ],
   "source": [
    "data1['months_number'].value_counts()"
   ]
  },
  {
   "cell_type": "code",
   "execution_count": null,
   "metadata": {},
   "outputs": [
    {
     "data": {
      "text/plain": [
       "array(['ELEC', 'GAZ'], dtype=object)"
      ]
     },
     "execution_count": 27,
     "metadata": {},
     "output_type": "execute_result"
    }
   ],
   "source": [
    "data1['counter_type'].unique()\n"
   ]
  },
  {
   "cell_type": "code",
   "execution_count": null,
   "metadata": {},
   "outputs": [
    {
     "name": "stdout",
     "output_type": "stream",
     "text": [
      "<class 'pandas.core.frame.DataFrame'>\n",
      "Int64Index: 4476749 entries, 0 to 4476748\n",
      "Data columns (total 5 columns):\n",
      " #   Column         Dtype \n",
      "---  ------         ----- \n",
      " 0   old_index      int64 \n",
      " 1   new_index      int64 \n",
      " 2   months_number  int64 \n",
      " 3   invoice_date   object\n",
      " 4   counter_type   object\n",
      "dtypes: int64(3), object(2)\n",
      "memory usage: 204.9+ MB\n"
     ]
    }
   ],
   "source": [
    "data1.info()"
   ]
  },
  {
   "cell_type": "code",
   "execution_count": null,
   "metadata": {},
   "outputs": [
    {
     "data": {
      "image/png": "[encoded data removed]",
      "text/plain": [
       "<Figure size 640x480 with 2 Axes>"
      ]
     },
     "metadata": {},
     "output_type": "display_data"
    }
   ],
   "source": [
    "# Correlation heatmap \n",
    "correlations = data1.corr()\n",
    "mask = np.triu(correlations)\n",
    "sns.heatmap(correlations , vmax=1, vmin=-1, annot=True, mask=mask, cmap=\"YlGnBu\");"
   ]
  },
  {
   "cell_type": "code",
   "execution_count": 15,
   "metadata": {},
   "outputs": [],
   "source": [
    "import plotly.express as px\n",
    "fig = px.scatter_matrix(data1)\n",
    "\n",
    "fig.update_layout(\n",
    "    title='Fraud Detection in Electricity and Gas',\n",
    "    width=1000,\n",
    "    height=800,\n",
    ")\n",
    "\n",
    "fig.show()"
   ]
  },
  {
   "cell_type": "code",
   "execution_count": 19,
   "metadata": {},
   "outputs": [
    {
     "data": {
      "text/plain": [
       "True     4468474\n",
       "False       8275\n",
       "Name: invoice_date, dtype: int64"
      ]
     },
     "execution_count": 19,
     "metadata": {},
     "output_type": "execute_result"
    }
   ],
   "source": [
    "data1['invoice_date'].duplicated().value_counts()"
   ]
  },
  {
   "cell_type": "code",
   "execution_count": 16,
   "metadata": {},
   "outputs": [
    {
     "data": {
      "text/plain": [
       "disrict                 0\n",
       "client_id               0\n",
       "client_catg             0\n",
       "region                  0\n",
       "creation_date           0\n",
       "target                  0\n",
       "invoice_date            0\n",
       "tarif_type              0\n",
       "counter_number          0\n",
       "counter_statue          0\n",
       "counter_code            0\n",
       "reading_remarque        0\n",
       "counter_coefficient     0\n",
       "consommation_level_1    0\n",
       "consommation_level_2    0\n",
       "consommation_level_3    0\n",
       "consommation_level_4    0\n",
       "old_index               0\n",
       "new_index               0\n",
       "months_number           0\n",
       "counter_type            0\n",
       "dtype: int64"
      ]
     },
     "execution_count": 16,
     "metadata": {},
     "output_type": "execute_result"
    }
   ],
   "source": [
    "data.isna().sum()"
   ]
  },
  {
   "cell_type": "code",
   "execution_count": null,
   "metadata": {},
   "outputs": [],
   "source": [
    "#data.apply(pd.Series.value_counts)"
   ]
  },
  {
   "cell_type": "code",
   "execution_count": 18,
   "metadata": {},
   "outputs": [
    {
     "data": {
      "text/plain": [
       "array([101, 107, 301, 105, 303, 103, 309, 311, 304, 104, 312, 305, 306,\n",
       "       308, 372, 307, 313, 310, 371, 302, 106, 379, 399, 206, 199])"
      ]
     },
     "execution_count": 18,
     "metadata": {},
     "output_type": "execute_result"
    }
   ],
   "source": [
    "data['region'].unique()"
   ]
  },
  {
   "cell_type": "code",
   "execution_count": 17,
   "metadata": {},
   "outputs": [
    {
     "data": {
      "text/plain": [
       "array([[<AxesSubplot:title={'center':'old_index'}>,\n",
       "        <AxesSubplot:title={'center':'new_index'}>],\n",
       "       [<AxesSubplot:title={'center':'months_number'}>, <AxesSubplot:>]],\n",
       "      dtype=object)"
      ]
     },
     "execution_count": 17,
     "metadata": {},
     "output_type": "execute_result"
    },
    {
     "data": {
      "image/png": "[encoded data removed]",
      "text/plain": [
       "<Figure size 2000x3000 with 4 Axes>"
      ]
     },
     "metadata": {},
     "output_type": "display_data"
    }
   ],
   "source": [
    "data1.hist(bins=80, figsize=(20,30))# curious to see the distribution of my data values"
   ]
  },
  {
   "cell_type": "code",
   "execution_count": null,
   "metadata": {},
   "outputs": [],
   "source": [
    "#sns.pairplot(df_real, hue=\"heart_attack\", height=3);"
   ]
  }
 ],
 "metadata": {
  "kernelspec": {
   "display_name": ".venv",
   "language": "python",
   "name": "python3"
  },
  "language_info": {
   "codemirror_mode": {
    "name": "ipython",
    "version": 3
   },
   "file_extension": ".py",
   "mimetype": "text/x-python",
   "name": "python",
   "nbconvert_exporter": "python",
   "pygments_lexer": "ipython3",
   "version": "3.9.8"
  },
  "orig_nbformat": 4,
  "vscode": {
   "interpreter": {
    "hash": "64fb117494e82236aa82b38cdb2cb1e3ea04e2accfa9b4d126e986f70a8569a0"
   }
  }
 },
 "nbformat": 4,
 "nbformat_minor": 2
}
