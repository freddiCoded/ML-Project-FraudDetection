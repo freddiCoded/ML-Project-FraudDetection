{
 "cells": [
  {
   "attachments": {},
   "cell_type": "markdown",
   "metadata": {},
   "source": [
    "#EDA\n",
    "\n",
    "#\n",
    "\n",
    "--"
   ]
  },
  {
   "attachments": {},
   "cell_type": "markdown",
   "metadata": {},
   "source": [
    "#Import libraries"
   ]
  },
  {
   "cell_type": "code",
   "execution_count": 29,
   "metadata": {},
   "outputs": [
    {
     "name": "stderr",
     "output_type": "stream",
     "text": [
      "UsageError: unrecognized arguments: # show the plots on the online copy\n"
     ]
    }
   ],
   "source": [
    "import pandas as pd\n",
    "import numpy as np\n",
    "import matplotlib\n",
    "import matplotlib.pyplot as plt # run pip install plotly if error\n",
    "import seaborn\n",
    "import seaborn as sns\n",
    "import plotly.express as px # if error install in terminal : pip install plotly\n",
    "import warnings\n",
    "from imblearn.over_sampling import RandomOverSampler\n",
    "from sklearn.model_selection import GridSearchCV, RandomizedSearchCV\n",
    "from sklearn.model_selection import train_test_split, cross_val_score\n",
    "from sklearn.tree import DecisionTreeClassifier\n",
    "from sklearn.metrics import confusion_matrix, classification_report, accuracy_score, f1_score, recall_score\n",
    "\n",
    "warnings.filterwarnings('ignore')\n",
    "\n",
    "%matplotlib inline # show the plots on the online copy\n"
   ]
  },
  {
   "cell_type": "code",
   "execution_count": 2,
   "metadata": {},
   "outputs": [
    {
     "data": {
      "text/html": [
       "<div>\n",
       "<style scoped>\n",
       "    .dataframe tbody tr th:only-of-type {\n",
       "        vertical-align: middle;\n",
       "    }\n",
       "\n",
       "    .dataframe tbody tr th {\n",
       "        vertical-align: top;\n",
       "    }\n",
       "\n",
       "    .dataframe thead th {\n",
       "        text-align: right;\n",
       "    }\n",
       "</style>\n",
       "<table border=\"1\" class=\"dataframe\">\n",
       "  <thead>\n",
       "    <tr style=\"text-align: right;\">\n",
       "      <th></th>\n",
       "      <th>disrict</th>\n",
       "      <th>client_id</th>\n",
       "      <th>client_catg</th>\n",
       "      <th>region</th>\n",
       "      <th>creation_date</th>\n",
       "      <th>target</th>\n",
       "      <th>invoice_date</th>\n",
       "      <th>tarif_type</th>\n",
       "      <th>counter_number</th>\n",
       "      <th>counter_statue</th>\n",
       "      <th>...</th>\n",
       "      <th>reading_remarque</th>\n",
       "      <th>counter_coefficient</th>\n",
       "      <th>consommation_level_1</th>\n",
       "      <th>consommation_level_2</th>\n",
       "      <th>consommation_level_3</th>\n",
       "      <th>consommation_level_4</th>\n",
       "      <th>old_index</th>\n",
       "      <th>new_index</th>\n",
       "      <th>months_number</th>\n",
       "      <th>counter_type</th>\n",
       "    </tr>\n",
       "  </thead>\n",
       "  <tbody>\n",
       "    <tr>\n",
       "      <th>0</th>\n",
       "      <td>60</td>\n",
       "      <td>train_Client_0</td>\n",
       "      <td>11</td>\n",
       "      <td>101</td>\n",
       "      <td>31/12/1994</td>\n",
       "      <td>0.0</td>\n",
       "      <td>2014-03-24</td>\n",
       "      <td>11</td>\n",
       "      <td>1335667</td>\n",
       "      <td>0</td>\n",
       "      <td>...</td>\n",
       "      <td>8</td>\n",
       "      <td>1</td>\n",
       "      <td>82</td>\n",
       "      <td>0</td>\n",
       "      <td>0</td>\n",
       "      <td>0</td>\n",
       "      <td>14302</td>\n",
       "      <td>14384</td>\n",
       "      <td>4</td>\n",
       "      <td>ELEC</td>\n",
       "    </tr>\n",
       "    <tr>\n",
       "      <th>1</th>\n",
       "      <td>60</td>\n",
       "      <td>train_Client_0</td>\n",
       "      <td>11</td>\n",
       "      <td>101</td>\n",
       "      <td>31/12/1994</td>\n",
       "      <td>0.0</td>\n",
       "      <td>2013-03-29</td>\n",
       "      <td>11</td>\n",
       "      <td>1335667</td>\n",
       "      <td>0</td>\n",
       "      <td>...</td>\n",
       "      <td>6</td>\n",
       "      <td>1</td>\n",
       "      <td>1200</td>\n",
       "      <td>184</td>\n",
       "      <td>0</td>\n",
       "      <td>0</td>\n",
       "      <td>12294</td>\n",
       "      <td>13678</td>\n",
       "      <td>4</td>\n",
       "      <td>ELEC</td>\n",
       "    </tr>\n",
       "    <tr>\n",
       "      <th>2</th>\n",
       "      <td>60</td>\n",
       "      <td>train_Client_0</td>\n",
       "      <td>11</td>\n",
       "      <td>101</td>\n",
       "      <td>31/12/1994</td>\n",
       "      <td>0.0</td>\n",
       "      <td>2015-03-23</td>\n",
       "      <td>11</td>\n",
       "      <td>1335667</td>\n",
       "      <td>0</td>\n",
       "      <td>...</td>\n",
       "      <td>8</td>\n",
       "      <td>1</td>\n",
       "      <td>123</td>\n",
       "      <td>0</td>\n",
       "      <td>0</td>\n",
       "      <td>0</td>\n",
       "      <td>14624</td>\n",
       "      <td>14747</td>\n",
       "      <td>4</td>\n",
       "      <td>ELEC</td>\n",
       "    </tr>\n",
       "  </tbody>\n",
       "</table>\n",
       "<p>3 rows × 21 columns</p>\n",
       "</div>"
      ],
      "text/plain": [
       "   disrict       client_id  client_catg  region creation_date  target  \\\n",
       "0       60  train_Client_0           11     101    31/12/1994     0.0   \n",
       "1       60  train_Client_0           11     101    31/12/1994     0.0   \n",
       "2       60  train_Client_0           11     101    31/12/1994     0.0   \n",
       "\n",
       "  invoice_date  tarif_type  counter_number counter_statue  ...  \\\n",
       "0   2014-03-24          11         1335667              0  ...   \n",
       "1   2013-03-29          11         1335667              0  ...   \n",
       "2   2015-03-23          11         1335667              0  ...   \n",
       "\n",
       "   reading_remarque  counter_coefficient  consommation_level_1  \\\n",
       "0                 8                    1                    82   \n",
       "1                 6                    1                  1200   \n",
       "2                 8                    1                   123   \n",
       "\n",
       "   consommation_level_2  consommation_level_3  consommation_level_4  \\\n",
       "0                     0                     0                     0   \n",
       "1                   184                     0                     0   \n",
       "2                     0                     0                     0   \n",
       "\n",
       "   old_index  new_index  months_number  counter_type  \n",
       "0      14302      14384              4          ELEC  \n",
       "1      12294      13678              4          ELEC  \n",
       "2      14624      14747              4          ELEC  \n",
       "\n",
       "[3 rows x 21 columns]"
      ]
     },
     "execution_count": 2,
     "metadata": {},
     "output_type": "execute_result"
    }
   ],
   "source": [
    "clients = pd.read_csv('data/client_train.csv')\n",
    "invoices = pd.read_csv('data/invoice_train.csv')\n",
    "data = pd.merge(clients, invoices, how='left', on='client_id')\n",
    "data.head(3)"
   ]
  },
  {
   "attachments": {},
   "cell_type": "markdown",
   "metadata": {},
   "source": [
    "# Data mining!\n",
    "\n",
    "1- date.time for dates tranformation\n",
    "2- "
   ]
  },
  {
   "cell_type": "code",
   "execution_count": 3,
   "metadata": {},
   "outputs": [
    {
     "name": "stdout",
     "output_type": "stream",
     "text": [
      "<class 'pandas.core.frame.DataFrame'>\n",
      "Int64Index: 4476749 entries, 0 to 4476748\n",
      "Data columns (total 21 columns):\n",
      " #   Column                Dtype  \n",
      "---  ------                -----  \n",
      " 0   disrict               int64  \n",
      " 1   client_id             object \n",
      " 2   client_catg           int64  \n",
      " 3   region                int64  \n",
      " 4   creation_date         object \n",
      " 5   target                float64\n",
      " 6   invoice_date          object \n",
      " 7   tarif_type            int64  \n",
      " 8   counter_number        int64  \n",
      " 9   counter_statue        object \n",
      " 10  counter_code          int64  \n",
      " 11  reading_remarque      int64  \n",
      " 12  counter_coefficient   int64  \n",
      " 13  consommation_level_1  int64  \n",
      " 14  consommation_level_2  int64  \n",
      " 15  consommation_level_3  int64  \n",
      " 16  consommation_level_4  int64  \n",
      " 17  old_index             int64  \n",
      " 18  new_index             int64  \n",
      " 19  months_number         int64  \n",
      " 20  counter_type          object \n",
      "dtypes: float64(1), int64(15), object(5)\n",
      "memory usage: 751.4+ MB\n"
     ]
    }
   ],
   "source": [
    "data.info()"
   ]
  },
  {
   "cell_type": "code",
   "execution_count": 4,
   "metadata": {},
   "outputs": [],
   "source": [
    "data['invoice_date'] = pd.to_datetime(data['invoice_date'], format='%Y/%m/%d')\n"
   ]
  },
  {
   "cell_type": "code",
   "execution_count": 5,
   "metadata": {},
   "outputs": [],
   "source": [
    "# Transforming to date.time type\n",
    "data['creation_date'] = pd.to_datetime(data['creation_date'], format='%d/%m/%Y')"
   ]
  },
  {
   "cell_type": "code",
   "execution_count": 6,
   "metadata": {},
   "outputs": [
    {
     "data": {
      "text/plain": [
       "disrict                          int64\n",
       "client_id                       object\n",
       "client_catg                      int64\n",
       "region                           int64\n",
       "creation_date           datetime64[ns]\n",
       "target                         float64\n",
       "invoice_date            datetime64[ns]\n",
       "tarif_type                       int64\n",
       "counter_number                   int64\n",
       "counter_statue                  object\n",
       "counter_code                     int64\n",
       "reading_remarque                 int64\n",
       "counter_coefficient              int64\n",
       "consommation_level_1             int64\n",
       "consommation_level_2             int64\n",
       "consommation_level_3             int64\n",
       "consommation_level_4             int64\n",
       "old_index                        int64\n",
       "new_index                        int64\n",
       "months_number                    int64\n",
       "counter_type                    object\n",
       "dtype: object"
      ]
     },
     "execution_count": 6,
     "metadata": {},
     "output_type": "execute_result"
    }
   ],
   "source": [
    "#\n",
    "data.dtypes"
   ]
  },
  {
   "cell_type": "code",
   "execution_count": 7,
   "metadata": {},
   "outputs": [
    {
     "data": {
      "text/plain": [
       "disrict                         object\n",
       "client_id                       object\n",
       "client_catg                     object\n",
       "region                          object\n",
       "creation_date           datetime64[ns]\n",
       "target                         float64\n",
       "invoice_date            datetime64[ns]\n",
       "tarif_type                      object\n",
       "counter_number                  object\n",
       "counter_statue                  object\n",
       "counter_code                    object\n",
       "reading_remarque                object\n",
       "counter_coefficient             object\n",
       "consommation_level_1             int64\n",
       "consommation_level_2             int64\n",
       "consommation_level_3             int64\n",
       "consommation_level_4             int64\n",
       "old_index                        int64\n",
       "new_index                        int64\n",
       "months_number                    int64\n",
       "counter_type                    object\n",
       "dtype: object"
      ]
     },
     "execution_count": 7,
     "metadata": {},
     "output_type": "execute_result"
    }
   ],
   "source": [
    "# Change datatypes\n",
    "data = data.astype({'disrict': str})\n",
    "data = data.astype({'client_catg': str})\n",
    "data = data.astype({'region': str})\n",
    "data = data.astype({'tarif_type': str})\n",
    "data = data.astype({'counter_number': str})\n",
    "data = data.astype({'counter_code': str})\n",
    "data = data.astype({'reading_remarque': str})\n",
    "data = data.astype({'counter_coefficient': str})\n",
    "data = data.astype({'counter_type': str})\n",
    "\n",
    "data.dtypes"
   ]
  },
  {
   "cell_type": "code",
   "execution_count": 8,
   "metadata": {},
   "outputs": [],
   "source": [
    "dist_cols = pd.get_dummies(data['disrict'], prefix='district_', drop_first=True)\n",
    "dist_cols1 = pd.get_dummies(data['client_catg'], prefix='client_catg_', drop_first=True)\n",
    "dist_cols2 = pd.get_dummies(data['region'], prefix='region_', drop_first=True)\n",
    "dist_cols3 = pd.get_dummies(data['tarif_type'], prefix='tarif_type_', drop_first=True)\n",
    "dist_cols4 = pd.get_dummies(data['counter_statue'], prefix='counter_statue_', drop_first=True)\n",
    "#dist_cols5 = pd.get_dummies(data['counter_code'], prefix='counter_code_', drop_first=True)\n",
    "dist_cols6 = pd.get_dummies(data['reading_remarque'], prefix='reading_remarque_', drop_first=True)\n",
    "dist_cols7 = pd.get_dummies(data['counter_coefficient'], prefix='counter_coefficient_', drop_first=True)\n",
    "dist_cols8 = pd.get_dummies(data['counter_type'], prefix='counter_type_', drop_first=True)\n",
    "\n",
    "# counter_number not\n"
   ]
  },
  {
   "cell_type": "code",
   "execution_count": 9,
   "metadata": {},
   "outputs": [],
   "source": [
    "data = pd.concat([data, dist_cols, dist_cols1, dist_cols2, dist_cols3 ], axis=1)\n",
    "data = pd.concat([data, dist_cols6, dist_cols7, dist_cols8], axis=1)"
   ]
  },
  {
   "cell_type": "code",
   "execution_count": 10,
   "metadata": {},
   "outputs": [
    {
     "data": {
      "text/plain": [
       "Index(['disrict', 'client_id', 'client_catg', 'region', 'creation_date',\n",
       "       'target', 'invoice_date', 'tarif_type', 'counter_number',\n",
       "       'counter_statue', 'counter_code', 'reading_remarque',\n",
       "       'counter_coefficient', 'consommation_level_1', 'consommation_level_2',\n",
       "       'consommation_level_3', 'consommation_level_4', 'old_index',\n",
       "       'new_index', 'months_number', 'counter_type', 'district__62',\n",
       "       'district__63', 'district__69', 'client_catg__12', 'client_catg__51',\n",
       "       'region__103', 'region__104', 'region__105', 'region__106',\n",
       "       'region__107', 'region__199', 'region__206', 'region__301',\n",
       "       'region__302', 'region__303', 'region__304', 'region__305',\n",
       "       'region__306', 'region__307', 'region__308', 'region__309',\n",
       "       'region__310', 'region__311', 'region__312', 'region__313',\n",
       "       'region__371', 'region__372', 'region__379', 'region__399',\n",
       "       'tarif_type__11', 'tarif_type__12', 'tarif_type__13', 'tarif_type__14',\n",
       "       'tarif_type__15', 'tarif_type__18', 'tarif_type__21', 'tarif_type__24',\n",
       "       'tarif_type__27', 'tarif_type__29', 'tarif_type__30', 'tarif_type__40',\n",
       "       'tarif_type__42', 'tarif_type__45', 'tarif_type__8', 'tarif_type__9',\n",
       "       'reading_remarque__207', 'reading_remarque__413', 'reading_remarque__5',\n",
       "       'reading_remarque__6', 'reading_remarque__7', 'reading_remarque__8',\n",
       "       'reading_remarque__9', 'counter_coefficient__1',\n",
       "       'counter_coefficient__10', 'counter_coefficient__11',\n",
       "       'counter_coefficient__2', 'counter_coefficient__20',\n",
       "       'counter_coefficient__3', 'counter_coefficient__30',\n",
       "       'counter_coefficient__33', 'counter_coefficient__4',\n",
       "       'counter_coefficient__40', 'counter_coefficient__5',\n",
       "       'counter_coefficient__50', 'counter_coefficient__6',\n",
       "       'counter_coefficient__8', 'counter_coefficient__9',\n",
       "       'counter_type__GAZ'],\n",
       "      dtype='object')"
      ]
     },
     "execution_count": 10,
     "metadata": {},
     "output_type": "execute_result"
    }
   ],
   "source": [
    "#data.head(1)\n",
    "#data.info()\n",
    "data.columns"
   ]
  },
  {
   "cell_type": "code",
   "execution_count": 11,
   "metadata": {},
   "outputs": [
    {
     "data": {
      "text/html": [
       "<div>\n",
       "<style scoped>\n",
       "    .dataframe tbody tr th:only-of-type {\n",
       "        vertical-align: middle;\n",
       "    }\n",
       "\n",
       "    .dataframe tbody tr th {\n",
       "        vertical-align: top;\n",
       "    }\n",
       "\n",
       "    .dataframe thead th {\n",
       "        text-align: right;\n",
       "    }\n",
       "</style>\n",
       "<table border=\"1\" class=\"dataframe\">\n",
       "  <thead>\n",
       "    <tr style=\"text-align: right;\">\n",
       "      <th></th>\n",
       "      <th>district__62</th>\n",
       "      <th>district__63</th>\n",
       "      <th>district__69</th>\n",
       "    </tr>\n",
       "  </thead>\n",
       "  <tbody>\n",
       "    <tr>\n",
       "      <th>0</th>\n",
       "      <td>0</td>\n",
       "      <td>0</td>\n",
       "      <td>0</td>\n",
       "    </tr>\n",
       "  </tbody>\n",
       "</table>\n",
       "</div>"
      ],
      "text/plain": [
       "   district__62  district__63  district__69\n",
       "0             0             0             0"
      ]
     },
     "execution_count": 11,
     "metadata": {},
     "output_type": "execute_result"
    }
   ],
   "source": [
    "dist_cols.head(1)"
   ]
  },
  {
   "cell_type": "code",
   "execution_count": 12,
   "metadata": {},
   "outputs": [
    {
     "data": {
      "text/plain": [
       "Index(['disrict', 'client_id', 'client_catg', 'region', 'creation_date',\n",
       "       'target', 'invoice_date', 'tarif_type', 'counter_number',\n",
       "       'counter_statue', 'counter_code', 'reading_remarque',\n",
       "       'counter_coefficient', 'consommation_level_1', 'consommation_level_2',\n",
       "       'consommation_level_3', 'consommation_level_4', 'old_index',\n",
       "       'new_index', 'months_number', 'counter_type', 'district__62',\n",
       "       'district__63', 'district__69', 'client_catg__12', 'client_catg__51',\n",
       "       'region__103', 'region__104', 'region__105', 'region__106',\n",
       "       'region__107', 'region__199', 'region__206', 'region__301',\n",
       "       'region__302', 'region__303', 'region__304', 'region__305',\n",
       "       'region__306', 'region__307', 'region__308', 'region__309',\n",
       "       'region__310', 'region__311', 'region__312', 'region__313',\n",
       "       'region__371', 'region__372', 'region__379', 'region__399',\n",
       "       'tarif_type__11', 'tarif_type__12', 'tarif_type__13', 'tarif_type__14',\n",
       "       'tarif_type__15', 'tarif_type__18', 'tarif_type__21', 'tarif_type__24',\n",
       "       'tarif_type__27', 'tarif_type__29', 'tarif_type__30', 'tarif_type__40',\n",
       "       'tarif_type__42', 'tarif_type__45', 'tarif_type__8', 'tarif_type__9',\n",
       "       'reading_remarque__207', 'reading_remarque__413', 'reading_remarque__5',\n",
       "       'reading_remarque__6', 'reading_remarque__7', 'reading_remarque__8',\n",
       "       'reading_remarque__9', 'counter_coefficient__1',\n",
       "       'counter_coefficient__10', 'counter_coefficient__11',\n",
       "       'counter_coefficient__2', 'counter_coefficient__20',\n",
       "       'counter_coefficient__3', 'counter_coefficient__30',\n",
       "       'counter_coefficient__33', 'counter_coefficient__4',\n",
       "       'counter_coefficient__40', 'counter_coefficient__5',\n",
       "       'counter_coefficient__50', 'counter_coefficient__6',\n",
       "       'counter_coefficient__8', 'counter_coefficient__9',\n",
       "       'counter_type__GAZ'],\n",
       "      dtype='object')"
      ]
     },
     "execution_count": 12,
     "metadata": {},
     "output_type": "execute_result"
    }
   ],
   "source": [
    "data.columns"
   ]
  },
  {
   "cell_type": "code",
   "execution_count": 13,
   "metadata": {},
   "outputs": [],
   "source": [
    "data = data.drop(['disrict', 'client_catg', 'region', 'tarif_type', 'counter_statue', 'counter_code', 'reading_remarque', 'counter_coefficient','counter_type'], axis=1)"
   ]
  },
  {
   "cell_type": "code",
   "execution_count": 14,
   "metadata": {},
   "outputs": [
    {
     "data": {
      "text/html": [
       "<div>\n",
       "<style scoped>\n",
       "    .dataframe tbody tr th:only-of-type {\n",
       "        vertical-align: middle;\n",
       "    }\n",
       "\n",
       "    .dataframe tbody tr th {\n",
       "        vertical-align: top;\n",
       "    }\n",
       "\n",
       "    .dataframe thead th {\n",
       "        text-align: right;\n",
       "    }\n",
       "</style>\n",
       "<table border=\"1\" class=\"dataframe\">\n",
       "  <thead>\n",
       "    <tr style=\"text-align: right;\">\n",
       "      <th></th>\n",
       "      <th>client_id</th>\n",
       "      <th>creation_date</th>\n",
       "      <th>target</th>\n",
       "      <th>invoice_date</th>\n",
       "      <th>counter_number</th>\n",
       "      <th>consommation_level_1</th>\n",
       "      <th>consommation_level_2</th>\n",
       "      <th>consommation_level_3</th>\n",
       "      <th>consommation_level_4</th>\n",
       "      <th>old_index</th>\n",
       "      <th>...</th>\n",
       "      <th>counter_coefficient__30</th>\n",
       "      <th>counter_coefficient__33</th>\n",
       "      <th>counter_coefficient__4</th>\n",
       "      <th>counter_coefficient__40</th>\n",
       "      <th>counter_coefficient__5</th>\n",
       "      <th>counter_coefficient__50</th>\n",
       "      <th>counter_coefficient__6</th>\n",
       "      <th>counter_coefficient__8</th>\n",
       "      <th>counter_coefficient__9</th>\n",
       "      <th>counter_type__GAZ</th>\n",
       "    </tr>\n",
       "  </thead>\n",
       "  <tbody>\n",
       "    <tr>\n",
       "      <th>0</th>\n",
       "      <td>train_Client_0</td>\n",
       "      <td>1994-12-31</td>\n",
       "      <td>0.0</td>\n",
       "      <td>2014-03-24</td>\n",
       "      <td>1335667</td>\n",
       "      <td>82</td>\n",
       "      <td>0</td>\n",
       "      <td>0</td>\n",
       "      <td>0</td>\n",
       "      <td>14302</td>\n",
       "      <td>...</td>\n",
       "      <td>0</td>\n",
       "      <td>0</td>\n",
       "      <td>0</td>\n",
       "      <td>0</td>\n",
       "      <td>0</td>\n",
       "      <td>0</td>\n",
       "      <td>0</td>\n",
       "      <td>0</td>\n",
       "      <td>0</td>\n",
       "      <td>0</td>\n",
       "    </tr>\n",
       "    <tr>\n",
       "      <th>1</th>\n",
       "      <td>train_Client_0</td>\n",
       "      <td>1994-12-31</td>\n",
       "      <td>0.0</td>\n",
       "      <td>2013-03-29</td>\n",
       "      <td>1335667</td>\n",
       "      <td>1200</td>\n",
       "      <td>184</td>\n",
       "      <td>0</td>\n",
       "      <td>0</td>\n",
       "      <td>12294</td>\n",
       "      <td>...</td>\n",
       "      <td>0</td>\n",
       "      <td>0</td>\n",
       "      <td>0</td>\n",
       "      <td>0</td>\n",
       "      <td>0</td>\n",
       "      <td>0</td>\n",
       "      <td>0</td>\n",
       "      <td>0</td>\n",
       "      <td>0</td>\n",
       "      <td>0</td>\n",
       "    </tr>\n",
       "  </tbody>\n",
       "</table>\n",
       "<p>2 rows × 80 columns</p>\n",
       "</div>"
      ],
      "text/plain": [
       "        client_id creation_date  target invoice_date counter_number  \\\n",
       "0  train_Client_0    1994-12-31     0.0   2014-03-24        1335667   \n",
       "1  train_Client_0    1994-12-31     0.0   2013-03-29        1335667   \n",
       "\n",
       "   consommation_level_1  consommation_level_2  consommation_level_3  \\\n",
       "0                    82                     0                     0   \n",
       "1                  1200                   184                     0   \n",
       "\n",
       "   consommation_level_4  old_index  ...  counter_coefficient__30  \\\n",
       "0                     0      14302  ...                        0   \n",
       "1                     0      12294  ...                        0   \n",
       "\n",
       "   counter_coefficient__33  counter_coefficient__4  counter_coefficient__40  \\\n",
       "0                        0                       0                        0   \n",
       "1                        0                       0                        0   \n",
       "\n",
       "   counter_coefficient__5  counter_coefficient__50  counter_coefficient__6  \\\n",
       "0                       0                        0                       0   \n",
       "1                       0                        0                       0   \n",
       "\n",
       "   counter_coefficient__8  counter_coefficient__9  counter_type__GAZ  \n",
       "0                       0                       0                  0  \n",
       "1                       0                       0                  0  \n",
       "\n",
       "[2 rows x 80 columns]"
      ]
     },
     "execution_count": 14,
     "metadata": {},
     "output_type": "execute_result"
    }
   ],
   "source": [
    "data.head(2)"
   ]
  },
  {
   "cell_type": "code",
   "execution_count": null,
   "metadata": {},
   "outputs": [],
   "source": []
  },
  {
   "attachments": {},
   "cell_type": "markdown",
   "metadata": {},
   "source": [
    "# Split the data"
   ]
  },
  {
   "cell_type": "code",
   "execution_count": 15,
   "metadata": {},
   "outputs": [],
   "source": [
    "# Before we go on let's split the data into features and target label\n",
    "X = data.drop(['target','client_id', 'creation_date', 'invoice_date','counter_number'], axis=1)\n",
    "y = data['target']# Y\n",
    "\n"
   ]
  },
  {
   "cell_type": "code",
   "execution_count": 16,
   "metadata": {},
   "outputs": [
    {
     "name": "stdout",
     "output_type": "stream",
     "text": [
      "Training set has 3133724 samples.\n",
      "Testing set has 1343025 samples.\n"
     ]
    }
   ],
   "source": [
    "# Import train_test_split\n",
    "from sklearn.model_selection import train_test_split\n",
    "\n",
    "X_train, X_test, y_train, y_test = train_test_split(X, y, stratify=y ,test_size=0.3, random_state=150)\n",
    "# Split the 'features' and 'income' data into training and testing sets\n",
    "\n",
    "# Show the results of the split\n",
    "print (\"Training set has {} samples.\".format(X_train.shape[0]))\n",
    "print (\"Testing set has {} samples.\".format(X_test.shape[0]))"
   ]
  },
  {
   "cell_type": "code",
   "execution_count": 17,
   "metadata": {},
   "outputs": [
    {
     "name": "stdout",
     "output_type": "stream",
     "text": [
      "<class 'pandas.core.frame.DataFrame'>\n",
      "Int64Index: 4476749 entries, 0 to 4476748\n",
      "Data columns (total 80 columns):\n",
      " #   Column                   Dtype         \n",
      "---  ------                   -----         \n",
      " 0   client_id                object        \n",
      " 1   creation_date            datetime64[ns]\n",
      " 2   target                   float64       \n",
      " 3   invoice_date             datetime64[ns]\n",
      " 4   counter_number           object        \n",
      " 5   consommation_level_1     int64         \n",
      " 6   consommation_level_2     int64         \n",
      " 7   consommation_level_3     int64         \n",
      " 8   consommation_level_4     int64         \n",
      " 9   old_index                int64         \n",
      " 10  new_index                int64         \n",
      " 11  months_number            int64         \n",
      " 12  district__62             uint8         \n",
      " 13  district__63             uint8         \n",
      " 14  district__69             uint8         \n",
      " 15  client_catg__12          uint8         \n",
      " 16  client_catg__51          uint8         \n",
      " 17  region__103              uint8         \n",
      " 18  region__104              uint8         \n",
      " 19  region__105              uint8         \n",
      " 20  region__106              uint8         \n",
      " 21  region__107              uint8         \n",
      " 22  region__199              uint8         \n",
      " 23  region__206              uint8         \n",
      " 24  region__301              uint8         \n",
      " 25  region__302              uint8         \n",
      " 26  region__303              uint8         \n",
      " 27  region__304              uint8         \n",
      " 28  region__305              uint8         \n",
      " 29  region__306              uint8         \n",
      " 30  region__307              uint8         \n",
      " 31  region__308              uint8         \n",
      " 32  region__309              uint8         \n",
      " 33  region__310              uint8         \n",
      " 34  region__311              uint8         \n",
      " 35  region__312              uint8         \n",
      " 36  region__313              uint8         \n",
      " 37  region__371              uint8         \n",
      " 38  region__372              uint8         \n",
      " 39  region__379              uint8         \n",
      " 40  region__399              uint8         \n",
      " 41  tarif_type__11           uint8         \n",
      " 42  tarif_type__12           uint8         \n",
      " 43  tarif_type__13           uint8         \n",
      " 44  tarif_type__14           uint8         \n",
      " 45  tarif_type__15           uint8         \n",
      " 46  tarif_type__18           uint8         \n",
      " 47  tarif_type__21           uint8         \n",
      " 48  tarif_type__24           uint8         \n",
      " 49  tarif_type__27           uint8         \n",
      " 50  tarif_type__29           uint8         \n",
      " 51  tarif_type__30           uint8         \n",
      " 52  tarif_type__40           uint8         \n",
      " 53  tarif_type__42           uint8         \n",
      " 54  tarif_type__45           uint8         \n",
      " 55  tarif_type__8            uint8         \n",
      " 56  tarif_type__9            uint8         \n",
      " 57  reading_remarque__207    uint8         \n",
      " 58  reading_remarque__413    uint8         \n",
      " 59  reading_remarque__5      uint8         \n",
      " 60  reading_remarque__6      uint8         \n",
      " 61  reading_remarque__7      uint8         \n",
      " 62  reading_remarque__8      uint8         \n",
      " 63  reading_remarque__9      uint8         \n",
      " 64  counter_coefficient__1   uint8         \n",
      " 65  counter_coefficient__10  uint8         \n",
      " 66  counter_coefficient__11  uint8         \n",
      " 67  counter_coefficient__2   uint8         \n",
      " 68  counter_coefficient__20  uint8         \n",
      " 69  counter_coefficient__3   uint8         \n",
      " 70  counter_coefficient__30  uint8         \n",
      " 71  counter_coefficient__33  uint8         \n",
      " 72  counter_coefficient__4   uint8         \n",
      " 73  counter_coefficient__40  uint8         \n",
      " 74  counter_coefficient__5   uint8         \n",
      " 75  counter_coefficient__50  uint8         \n",
      " 76  counter_coefficient__6   uint8         \n",
      " 77  counter_coefficient__8   uint8         \n",
      " 78  counter_coefficient__9   uint8         \n",
      " 79  counter_type__GAZ        uint8         \n",
      "dtypes: datetime64[ns](2), float64(1), int64(7), object(2), uint8(68)\n",
      "memory usage: 734.3+ MB\n"
     ]
    }
   ],
   "source": [
    "data.info()"
   ]
  },
  {
   "cell_type": "code",
   "execution_count": 18,
   "metadata": {},
   "outputs": [],
   "source": [
    "numerical = ['consommation_level_1', 'consommation_level_2', 'consommation_level_3', 'consommation_level_4', 'old_index', 'new_index', 'months_number' ]"
   ]
  },
  {
   "attachments": {},
   "cell_type": "markdown",
   "metadata": {},
   "source": [
    "disrict                          int64\n",
    "client_id                       object\n",
    "client_catg                      int64\n",
    "region                           int64\n",
    "creation_date           datetime64[ns]\n",
    "target                         float64\n",
    "invoice_date            datetime64[ns]\n",
    "tarif_type                       int64\n",
    "counter_number                   int64\n",
    "counter_statue                  object\n",
    "counter_code                     int64\n",
    "reading_remarque                 int64\n",
    "counter_coefficient              int64\n",
    "consommation_level_1             int64\n",
    "consommation_level_2             int64\n",
    "consommation_level_3             int64\n",
    "consommation_level_4             int64\n",
    "old_index                        int64\n",
    "new_index                        int64\n",
    "months_number                    int64\n",
    "counter_type                    object\n",
    "dtype: object"
   ]
  },
  {
   "cell_type": "code",
   "execution_count": 19,
   "metadata": {},
   "outputs": [
    {
     "data": {
      "text/html": [
       "<div>\n",
       "<style scoped>\n",
       "    .dataframe tbody tr th:only-of-type {\n",
       "        vertical-align: middle;\n",
       "    }\n",
       "\n",
       "    .dataframe tbody tr th {\n",
       "        vertical-align: top;\n",
       "    }\n",
       "\n",
       "    .dataframe thead th {\n",
       "        text-align: right;\n",
       "    }\n",
       "</style>\n",
       "<table border=\"1\" class=\"dataframe\">\n",
       "  <thead>\n",
       "    <tr style=\"text-align: right;\">\n",
       "      <th></th>\n",
       "      <th>consommation_level_1</th>\n",
       "      <th>consommation_level_2</th>\n",
       "      <th>consommation_level_3</th>\n",
       "      <th>consommation_level_4</th>\n",
       "      <th>old_index</th>\n",
       "      <th>new_index</th>\n",
       "      <th>months_number</th>\n",
       "    </tr>\n",
       "  </thead>\n",
       "  <tbody>\n",
       "    <tr>\n",
       "      <th>1063790</th>\n",
       "      <td>0.001657</td>\n",
       "      <td>0.0</td>\n",
       "      <td>0.0</td>\n",
       "      <td>0.0</td>\n",
       "      <td>0.006708</td>\n",
       "      <td>0.006615</td>\n",
       "      <td>0.000006</td>\n",
       "    </tr>\n",
       "  </tbody>\n",
       "</table>\n",
       "</div>"
      ],
      "text/plain": [
       "         consommation_level_1  consommation_level_2  consommation_level_3  \\\n",
       "1063790              0.001657                   0.0                   0.0   \n",
       "\n",
       "         consommation_level_4  old_index  new_index  months_number  \n",
       "1063790                   0.0   0.006708   0.006615       0.000006  "
      ]
     },
     "execution_count": 19,
     "metadata": {},
     "output_type": "execute_result"
    }
   ],
   "source": [
    "# Import sklearn.preprocessing.StandardScaler\n",
    "from sklearn.preprocessing import MinMaxScaler\n",
    "# Initialize a scaler, then apply it to the features\n",
    "scaler = MinMaxScaler()\n",
    "X_train[numerical] = scaler.fit_transform(X_train[numerical])\n",
    "X_test[numerical] = scaler.transform(X_test[numerical])\n",
    "# Show an example of a record with scaling applied\n",
    "X_train[numerical].sample(1)"
   ]
  },
  {
   "cell_type": "code",
   "execution_count": 20,
   "metadata": {},
   "outputs": [
    {
     "data": {
      "text/html": [
       "<div>\n",
       "<style scoped>\n",
       "    .dataframe tbody tr th:only-of-type {\n",
       "        vertical-align: middle;\n",
       "    }\n",
       "\n",
       "    .dataframe tbody tr th {\n",
       "        vertical-align: top;\n",
       "    }\n",
       "\n",
       "    .dataframe thead th {\n",
       "        text-align: right;\n",
       "    }\n",
       "</style>\n",
       "<table border=\"1\" class=\"dataframe\">\n",
       "  <thead>\n",
       "    <tr style=\"text-align: right;\">\n",
       "      <th></th>\n",
       "      <th>consommation_level_1</th>\n",
       "      <th>consommation_level_2</th>\n",
       "      <th>consommation_level_3</th>\n",
       "      <th>consommation_level_4</th>\n",
       "      <th>old_index</th>\n",
       "      <th>new_index</th>\n",
       "      <th>months_number</th>\n",
       "      <th>district__62</th>\n",
       "      <th>district__63</th>\n",
       "      <th>district__69</th>\n",
       "      <th>...</th>\n",
       "      <th>counter_coefficient__33</th>\n",
       "      <th>counter_coefficient__4</th>\n",
       "      <th>counter_coefficient__40</th>\n",
       "      <th>counter_coefficient__5</th>\n",
       "      <th>counter_coefficient__50</th>\n",
       "      <th>counter_coefficient__6</th>\n",
       "      <th>counter_coefficient__8</th>\n",
       "      <th>counter_coefficient__9</th>\n",
       "      <th>counter_type__GAZ</th>\n",
       "      <th>target</th>\n",
       "    </tr>\n",
       "  </thead>\n",
       "  <tbody>\n",
       "    <tr>\n",
       "      <th>1437963</th>\n",
       "      <td>0.004892</td>\n",
       "      <td>0.0</td>\n",
       "      <td>0.0</td>\n",
       "      <td>0.0</td>\n",
       "      <td>0.000749</td>\n",
       "      <td>0.000946</td>\n",
       "      <td>0.000006</td>\n",
       "      <td>0</td>\n",
       "      <td>0</td>\n",
       "      <td>0</td>\n",
       "      <td>...</td>\n",
       "      <td>0</td>\n",
       "      <td>0</td>\n",
       "      <td>0</td>\n",
       "      <td>0</td>\n",
       "      <td>0</td>\n",
       "      <td>0</td>\n",
       "      <td>0</td>\n",
       "      <td>0</td>\n",
       "      <td>0</td>\n",
       "      <td>0.0</td>\n",
       "    </tr>\n",
       "    <tr>\n",
       "      <th>164646</th>\n",
       "      <td>0.001086</td>\n",
       "      <td>0.0</td>\n",
       "      <td>0.0</td>\n",
       "      <td>0.0</td>\n",
       "      <td>0.000287</td>\n",
       "      <td>0.000328</td>\n",
       "      <td>0.000013</td>\n",
       "      <td>0</td>\n",
       "      <td>0</td>\n",
       "      <td>0</td>\n",
       "      <td>...</td>\n",
       "      <td>0</td>\n",
       "      <td>0</td>\n",
       "      <td>0</td>\n",
       "      <td>0</td>\n",
       "      <td>0</td>\n",
       "      <td>0</td>\n",
       "      <td>0</td>\n",
       "      <td>0</td>\n",
       "      <td>1</td>\n",
       "      <td>0.0</td>\n",
       "    </tr>\n",
       "    <tr>\n",
       "      <th>628500</th>\n",
       "      <td>0.001047</td>\n",
       "      <td>0.0</td>\n",
       "      <td>0.0</td>\n",
       "      <td>0.0</td>\n",
       "      <td>0.000554</td>\n",
       "      <td>0.000586</td>\n",
       "      <td>0.000006</td>\n",
       "      <td>0</td>\n",
       "      <td>0</td>\n",
       "      <td>0</td>\n",
       "      <td>...</td>\n",
       "      <td>0</td>\n",
       "      <td>0</td>\n",
       "      <td>0</td>\n",
       "      <td>0</td>\n",
       "      <td>0</td>\n",
       "      <td>0</td>\n",
       "      <td>0</td>\n",
       "      <td>0</td>\n",
       "      <td>1</td>\n",
       "      <td>0.0</td>\n",
       "    </tr>\n",
       "    <tr>\n",
       "      <th>1282184</th>\n",
       "      <td>0.005217</td>\n",
       "      <td>0.0</td>\n",
       "      <td>0.0</td>\n",
       "      <td>0.0</td>\n",
       "      <td>0.002439</td>\n",
       "      <td>0.002608</td>\n",
       "      <td>0.000006</td>\n",
       "      <td>0</td>\n",
       "      <td>0</td>\n",
       "      <td>1</td>\n",
       "      <td>...</td>\n",
       "      <td>0</td>\n",
       "      <td>0</td>\n",
       "      <td>0</td>\n",
       "      <td>0</td>\n",
       "      <td>0</td>\n",
       "      <td>0</td>\n",
       "      <td>0</td>\n",
       "      <td>0</td>\n",
       "      <td>0</td>\n",
       "      <td>0.0</td>\n",
       "    </tr>\n",
       "    <tr>\n",
       "      <th>681424</th>\n",
       "      <td>0.000143</td>\n",
       "      <td>0.0</td>\n",
       "      <td>0.0</td>\n",
       "      <td>0.0</td>\n",
       "      <td>0.000910</td>\n",
       "      <td>0.000894</td>\n",
       "      <td>0.000013</td>\n",
       "      <td>0</td>\n",
       "      <td>0</td>\n",
       "      <td>0</td>\n",
       "      <td>...</td>\n",
       "      <td>0</td>\n",
       "      <td>0</td>\n",
       "      <td>0</td>\n",
       "      <td>0</td>\n",
       "      <td>0</td>\n",
       "      <td>0</td>\n",
       "      <td>0</td>\n",
       "      <td>0</td>\n",
       "      <td>1</td>\n",
       "      <td>0.0</td>\n",
       "    </tr>\n",
       "  </tbody>\n",
       "</table>\n",
       "<p>5 rows × 76 columns</p>\n",
       "</div>"
      ],
      "text/plain": [
       "         consommation_level_1  consommation_level_2  consommation_level_3  \\\n",
       "1437963              0.004892                   0.0                   0.0   \n",
       "164646               0.001086                   0.0                   0.0   \n",
       "628500               0.001047                   0.0                   0.0   \n",
       "1282184              0.005217                   0.0                   0.0   \n",
       "681424               0.000143                   0.0                   0.0   \n",
       "\n",
       "         consommation_level_4  old_index  new_index  months_number  \\\n",
       "1437963                   0.0   0.000749   0.000946       0.000006   \n",
       "164646                    0.0   0.000287   0.000328       0.000013   \n",
       "628500                    0.0   0.000554   0.000586       0.000006   \n",
       "1282184                   0.0   0.002439   0.002608       0.000006   \n",
       "681424                    0.0   0.000910   0.000894       0.000013   \n",
       "\n",
       "         district__62  district__63  district__69  ...  \\\n",
       "1437963             0             0             0  ...   \n",
       "164646              0             0             0  ...   \n",
       "628500              0             0             0  ...   \n",
       "1282184             0             0             1  ...   \n",
       "681424              0             0             0  ...   \n",
       "\n",
       "         counter_coefficient__33  counter_coefficient__4  \\\n",
       "1437963                        0                       0   \n",
       "164646                         0                       0   \n",
       "628500                         0                       0   \n",
       "1282184                        0                       0   \n",
       "681424                         0                       0   \n",
       "\n",
       "         counter_coefficient__40  counter_coefficient__5  \\\n",
       "1437963                        0                       0   \n",
       "164646                         0                       0   \n",
       "628500                         0                       0   \n",
       "1282184                        0                       0   \n",
       "681424                         0                       0   \n",
       "\n",
       "         counter_coefficient__50  counter_coefficient__6  \\\n",
       "1437963                        0                       0   \n",
       "164646                         0                       0   \n",
       "628500                         0                       0   \n",
       "1282184                        0                       0   \n",
       "681424                         0                       0   \n",
       "\n",
       "         counter_coefficient__8  counter_coefficient__9  counter_type__GAZ  \\\n",
       "1437963                       0                       0                  0   \n",
       "164646                        0                       0                  1   \n",
       "628500                        0                       0                  1   \n",
       "1282184                       0                       0                  0   \n",
       "681424                        0                       0                  1   \n",
       "\n",
       "         target  \n",
       "1437963     0.0  \n",
       "164646      0.0  \n",
       "628500      0.0  \n",
       "1282184     0.0  \n",
       "681424      0.0  \n",
       "\n",
       "[5 rows x 76 columns]"
      ]
     },
     "execution_count": 20,
     "metadata": {},
     "output_type": "execute_result"
    }
   ],
   "source": [
    "train_scaled = pd.concat([X_train, y_train], axis=1)\n",
    "test_scaled = pd.concat([X_test, y_test], axis=1)\n",
    "data_scaled = pd.concat([train_scaled, test_scaled], axis=0)\n",
    "data_scaled.head()\n"
   ]
  },
  {
   "cell_type": "code",
   "execution_count": 21,
   "metadata": {},
   "outputs": [],
   "source": [
    "# Oversample training data\n",
    "data_scaled_sample =data_scaled.sample(frac=0.2, replace=False, random_state=150)\n",
    "X = data_scaled_sample.drop(['target'],axis=1)\n",
    "y = data_scaled_sample.target\n",
    "\n",
    "\n",
    "X_train, X_test, y_train, y_test = train_test_split(X, y, stratify=y ,test_size=0.3, random_state=150)\n",
    "ros = RandomOverSampler(random_state=150)\n",
    "\n",
    "\n",
    "X_train_scaled_ros, y_train_ros = ros.fit_resample(X_train, y_train)\n",
    "data_scaled_ros = pd.concat([X_train_scaled_ros, y_train_ros], axis=1)\n",
    "\n"
   ]
  },
  {
   "cell_type": "code",
   "execution_count": 22,
   "metadata": {},
   "outputs": [
    {
     "name": "stdout",
     "output_type": "stream",
     "text": [
      "Stored 'X_train_scaled_ros' (DataFrame)\n",
      "Stored 'y_train_ros' (Series)\n",
      "Stored 'X_test' (DataFrame)\n",
      "Stored 'y_test' (Series)\n"
     ]
    }
   ],
   "source": [
    "%store X_train_scaled_ros\n",
    "%store y_train_ros\n",
    "%store X_test\n",
    "%store y_test"
   ]
  },
  {
   "cell_type": "code",
   "execution_count": 23,
   "metadata": {},
   "outputs": [
    {
     "data": {
      "text/plain": [
       "(1422529, 76)"
      ]
     },
     "execution_count": 23,
     "metadata": {},
     "output_type": "execute_result"
    }
   ],
   "source": [
    "test = pd.concat([X_test, y_test], axis=1)\n",
    "data_ros = pd.concat([data_scaled_ros, test], axis=0)\n",
    "data_ros.shape"
   ]
  },
  {
   "cell_type": "code",
   "execution_count": 24,
   "metadata": {},
   "outputs": [
    {
     "name": "stdout",
     "output_type": "stream",
     "text": [
      "Stored 'data_ros' (DataFrame)\n"
     ]
    }
   ],
   "source": [
    "%store data_ros"
   ]
  },
  {
   "cell_type": "code",
   "execution_count": 25,
   "metadata": {},
   "outputs": [
    {
     "data": {
      "text/plain": [
       "(1153924, 76)"
      ]
     },
     "execution_count": 25,
     "metadata": {},
     "output_type": "execute_result"
    },
    {
     "data": {
      "image/png": "[encoded data removed]",
      "text/plain": [
       "<Figure size 640x480 with 1 Axes>"
      ]
     },
     "metadata": {},
     "output_type": "display_data"
    }
   ],
   "source": [
    "sns.countplot(x=y_train_ros).set_title(\"Representation of resampled target variable\");\n",
    "data_scaled_ros.shape\n"
   ]
  },
  {
   "cell_type": "code",
   "execution_count": 37,
   "metadata": {},
   "outputs": [
    {
     "name": "stdout",
     "output_type": "stream",
     "text": [
      "Recall:  0.5481134286383876\n",
      "Report:                precision    recall  f1-score   support\n",
      "\n",
      "         0.0       0.94      0.66      0.78    247270\n",
      "         1.0       0.12      0.55      0.20     21335\n",
      "\n",
      "    accuracy                           0.65    268605\n",
      "   macro avg       0.53      0.61      0.49    268605\n",
      "weighted avg       0.88      0.65      0.73    268605\n",
      "\n"
     ]
    },
    {
     "data": {
      "image/png": "[encoded data removed]",
      "text/plain": [
       "<Figure size 640x480 with 2 Axes>"
      ]
     },
     "metadata": {},
     "output_type": "display_data"
    }
   ],
   "source": [
    "# Modelling Decisiontree regression\n",
    "dtree = DecisionTreeClassifier(max_depth=10)\n",
    "dtree.fit(X_train_scaled_ros, y_train_ros)\n",
    "y_pred = dtree.predict(X_test)\n",
    "\n",
    "# Confusion matrix using confusion_matrix from sklearn\n",
    "cfm = confusion_matrix(y_test, y_pred)\n",
    "sns.heatmap(cfm, cmap='YlGnBu', annot=True, fmt='d', linewidths=.5);    \n",
    "print('Recall: ',recall_score(y_test, y_pred))\n",
    "print('Report: ',classification_report(y_test, y_pred))"
   ]
  },
  {
   "cell_type": "code",
   "execution_count": 38,
   "metadata": {},
   "outputs": [
    {
     "name": "stdout",
     "output_type": "stream",
     "text": [
      "Feature: 0, Score: 0.06470\n",
      "Feature: 1, Score: 0.05352\n",
      "Feature: 2, Score: 0.00111\n",
      "Feature: 3, Score: 0.01265\n",
      "Feature: 4, Score: 0.04863\n",
      "Feature: 5, Score: 0.12196\n",
      "Feature: 6, Score: 0.03357\n",
      "Feature: 7, Score: 0.03228\n",
      "Feature: 8, Score: 0.05324\n",
      "Feature: 9, Score: 0.04533\n",
      "Feature: 10, Score: 0.00690\n",
      "Feature: 11, Score: 0.13680\n",
      "Feature: 12, Score: 0.11067\n",
      "Feature: 13, Score: 0.00000\n",
      "Feature: 14, Score: 0.00099\n",
      "Feature: 15, Score: 0.00323\n",
      "Feature: 16, Score: 0.00004\n",
      "Feature: 17, Score: 0.00000\n",
      "Feature: 18, Score: 0.00000\n",
      "Feature: 19, Score: 0.03464\n",
      "Feature: 20, Score: 0.00037\n",
      "Feature: 21, Score: 0.00034\n",
      "Feature: 22, Score: 0.00095\n",
      "Feature: 23, Score: 0.00000\n",
      "Feature: 24, Score: 0.00136\n",
      "Feature: 25, Score: 0.00000\n",
      "Feature: 26, Score: 0.00000\n",
      "Feature: 27, Score: 0.00635\n",
      "Feature: 28, Score: 0.00380\n",
      "Feature: 29, Score: 0.10686\n",
      "Feature: 30, Score: 0.00267\n",
      "Feature: 31, Score: 0.00511\n",
      "Feature: 32, Score: 0.00185\n",
      "Feature: 33, Score: 0.00689\n",
      "Feature: 34, Score: 0.00000\n",
      "Feature: 35, Score: 0.00000\n",
      "Feature: 36, Score: 0.04278\n",
      "Feature: 37, Score: 0.00000\n",
      "Feature: 38, Score: 0.00000\n",
      "Feature: 39, Score: 0.00000\n",
      "Feature: 40, Score: 0.00450\n",
      "Feature: 41, Score: 0.00000\n",
      "Feature: 42, Score: 0.00000\n",
      "Feature: 43, Score: 0.00000\n",
      "Feature: 44, Score: 0.00000\n",
      "Feature: 45, Score: 0.00194\n",
      "Feature: 46, Score: 0.00000\n",
      "Feature: 47, Score: 0.02501\n",
      "Feature: 48, Score: 0.00000\n",
      "Feature: 49, Score: 0.00105\n",
      "Feature: 50, Score: 0.00000\n",
      "Feature: 51, Score: 0.00089\n",
      "Feature: 52, Score: 0.00000\n",
      "Feature: 53, Score: 0.00000\n",
      "Feature: 54, Score: 0.00000\n",
      "Feature: 55, Score: 0.00820\n",
      "Feature: 56, Score: 0.00000\n",
      "Feature: 57, Score: 0.00543\n",
      "Feature: 58, Score: 0.00660\n",
      "Feature: 59, Score: 0.00238\n",
      "Feature: 60, Score: 0.00000\n",
      "Feature: 61, Score: 0.00000\n",
      "Feature: 62, Score: 0.00000\n",
      "Feature: 63, Score: 0.00000\n",
      "Feature: 64, Score: 0.00000\n",
      "Feature: 65, Score: 0.00000\n",
      "Feature: 66, Score: 0.00000\n",
      "Feature: 67, Score: 0.00000\n",
      "Feature: 68, Score: 0.00000\n",
      "Feature: 69, Score: 0.00000\n",
      "Feature: 70, Score: 0.00000\n",
      "Feature: 71, Score: 0.00000\n",
      "Feature: 72, Score: 0.00000\n",
      "Feature: 73, Score: 0.00000\n",
      "Feature: 74, Score: 0.00440\n"
     ]
    },
    {
     "data": {
      "image/png": "[encoded data removed]",
      "text/plain": [
       "<Figure size 640x480 with 1 Axes>"
      ]
     },
     "metadata": {},
     "output_type": "display_data"
    }
   ],
   "source": [
    "from matplotlib import pyplot\n",
    "importance = dtree.feature_importances_\n",
    "# summarize feature importance\n",
    "for i,v in enumerate(importance):\n",
    " print('Feature: %0d, Score: %.5f' % (i,v))\n",
    "# plot feature importance\n",
    "pyplot.bar([x for x in range(len(importance))], importance)\n",
    "pyplot.show()"
   ]
  },
  {
   "cell_type": "code",
   "execution_count": 41,
   "metadata": {},
   "outputs": [
    {
     "name": "stdout",
     "output_type": "stream",
     "text": [
      "<class 'pandas.core.frame.DataFrame'>\n",
      "RangeIndex: 1153924 entries, 0 to 1153923\n",
      "Data columns (total 75 columns):\n",
      " #   Column                   Non-Null Count    Dtype  \n",
      "---  ------                   --------------    -----  \n",
      " 0   consommation_level_1     1153924 non-null  float64\n",
      " 1   consommation_level_2     1153924 non-null  float64\n",
      " 2   consommation_level_3     1153924 non-null  float64\n",
      " 3   consommation_level_4     1153924 non-null  float64\n",
      " 4   old_index                1153924 non-null  float64\n",
      " 5   new_index                1153924 non-null  float64\n",
      " 6   months_number            1153924 non-null  float64\n",
      " 7   district__62             1153924 non-null  uint8  \n",
      " 8   district__63             1153924 non-null  uint8  \n",
      " 9   district__69             1153924 non-null  uint8  \n",
      " 10  client_catg__12          1153924 non-null  uint8  \n",
      " 11  client_catg__51          1153924 non-null  uint8  \n",
      " 12  region__103              1153924 non-null  uint8  \n",
      " 13  region__104              1153924 non-null  uint8  \n",
      " 14  region__105              1153924 non-null  uint8  \n",
      " 15  region__106              1153924 non-null  uint8  \n",
      " 16  region__107              1153924 non-null  uint8  \n",
      " 17  region__199              1153924 non-null  uint8  \n",
      " 18  region__206              1153924 non-null  uint8  \n",
      " 19  region__301              1153924 non-null  uint8  \n",
      " 20  region__302              1153924 non-null  uint8  \n",
      " 21  region__303              1153924 non-null  uint8  \n",
      " 22  region__304              1153924 non-null  uint8  \n",
      " 23  region__305              1153924 non-null  uint8  \n",
      " 24  region__306              1153924 non-null  uint8  \n",
      " 25  region__307              1153924 non-null  uint8  \n",
      " 26  region__308              1153924 non-null  uint8  \n",
      " 27  region__309              1153924 non-null  uint8  \n",
      " 28  region__310              1153924 non-null  uint8  \n",
      " 29  region__311              1153924 non-null  uint8  \n",
      " 30  region__312              1153924 non-null  uint8  \n",
      " 31  region__313              1153924 non-null  uint8  \n",
      " 32  region__371              1153924 non-null  uint8  \n",
      " 33  region__372              1153924 non-null  uint8  \n",
      " 34  region__379              1153924 non-null  uint8  \n",
      " 35  region__399              1153924 non-null  uint8  \n",
      " 36  tarif_type__11           1153924 non-null  uint8  \n",
      " 37  tarif_type__12           1153924 non-null  uint8  \n",
      " 38  tarif_type__13           1153924 non-null  uint8  \n",
      " 39  tarif_type__14           1153924 non-null  uint8  \n",
      " 40  tarif_type__15           1153924 non-null  uint8  \n",
      " 41  tarif_type__18           1153924 non-null  uint8  \n",
      " 42  tarif_type__21           1153924 non-null  uint8  \n",
      " 43  tarif_type__24           1153924 non-null  uint8  \n",
      " 44  tarif_type__27           1153924 non-null  uint8  \n",
      " 45  tarif_type__29           1153924 non-null  uint8  \n",
      " 46  tarif_type__30           1153924 non-null  uint8  \n",
      " 47  tarif_type__40           1153924 non-null  uint8  \n",
      " 48  tarif_type__42           1153924 non-null  uint8  \n",
      " 49  tarif_type__45           1153924 non-null  uint8  \n",
      " 50  tarif_type__8            1153924 non-null  uint8  \n",
      " 51  tarif_type__9            1153924 non-null  uint8  \n",
      " 52  reading_remarque__207    1153924 non-null  uint8  \n",
      " 53  reading_remarque__413    1153924 non-null  uint8  \n",
      " 54  reading_remarque__5      1153924 non-null  uint8  \n",
      " 55  reading_remarque__6      1153924 non-null  uint8  \n",
      " 56  reading_remarque__7      1153924 non-null  uint8  \n",
      " 57  reading_remarque__8      1153924 non-null  uint8  \n",
      " 58  reading_remarque__9      1153924 non-null  uint8  \n",
      " 59  counter_coefficient__1   1153924 non-null  uint8  \n",
      " 60  counter_coefficient__10  1153924 non-null  uint8  \n",
      " 61  counter_coefficient__11  1153924 non-null  uint8  \n",
      " 62  counter_coefficient__2   1153924 non-null  uint8  \n",
      " 63  counter_coefficient__20  1153924 non-null  uint8  \n",
      " 64  counter_coefficient__3   1153924 non-null  uint8  \n",
      " 65  counter_coefficient__30  1153924 non-null  uint8  \n",
      " 66  counter_coefficient__33  1153924 non-null  uint8  \n",
      " 67  counter_coefficient__4   1153924 non-null  uint8  \n",
      " 68  counter_coefficient__40  1153924 non-null  uint8  \n",
      " 69  counter_coefficient__5   1153924 non-null  uint8  \n",
      " 70  counter_coefficient__50  1153924 non-null  uint8  \n",
      " 71  counter_coefficient__6   1153924 non-null  uint8  \n",
      " 72  counter_coefficient__8   1153924 non-null  uint8  \n",
      " 73  counter_coefficient__9   1153924 non-null  uint8  \n",
      " 74  counter_type__GAZ        1153924 non-null  uint8  \n",
      "dtypes: float64(7), uint8(68)\n",
      "memory usage: 136.5 MB\n"
     ]
    }
   ],
   "source": [
    "X_train_scaled_ros.info()"
   ]
  },
  {
   "cell_type": "code",
   "execution_count": 34,
   "metadata": {},
   "outputs": [
    {
     "name": "stdout",
     "output_type": "stream",
     "text": [
      "Recall:  0.5629573524772862\n",
      "Report:                precision    recall  f1-score   support\n",
      "\n",
      "         0.0       0.60      0.67      0.63    576962\n",
      "         1.0       0.63      0.56      0.59    576962\n",
      "\n",
      "    accuracy                           0.61   1153924\n",
      "   macro avg       0.62      0.61      0.61   1153924\n",
      "weighted avg       0.62      0.61      0.61   1153924\n",
      "\n"
     ]
    },
    {
     "data": {
      "image/png": "[encoded data removed]",
      "text/plain": [
       "<Figure size 640x480 with 2 Axes>"
      ]
     },
     "metadata": {},
     "output_type": "display_data"
    }
   ],
   "source": [
    "y_pred_train = dtree.predict(X_train_scaled_ros)\n",
    "\n",
    "# Confusion matrix using confusion_matrix from sklearn\n",
    "cfm = confusion_matrix(y_train_ros, y_pred_train)\n",
    "sns.heatmap(cfm, cmap='YlGnBu', annot=True, fmt='d', linewidths=.5);    \n",
    "print('Recall: ',recall_score(y_train_ros, y_pred_train))\n",
    "print('Report: ',classification_report(y_train_ros, y_pred_train))"
   ]
  },
  {
   "cell_type": "code",
   "execution_count": null,
   "metadata": {},
   "outputs": [],
   "source": [
    "dtree.get_params().keys()\n",
    "DecisionTreeClassifier?"
   ]
  },
  {
   "cell_type": "code",
   "execution_count": 33,
   "metadata": {},
   "outputs": [
    {
     "name": "stdout",
     "output_type": "stream",
     "text": [
      "Fitting 5 folds for each of 40 candidates, totalling 200 fits\n"
     ]
    },
    {
     "ename": "KeyboardInterrupt",
     "evalue": "",
     "output_type": "error",
     "traceback": [
      "\u001b[0;31m---------------------------------------------------------------------------\u001b[0m",
      "\u001b[0;31mKeyboardInterrupt\u001b[0m                         Traceback (most recent call last)",
      "Cell \u001b[0;32mIn[33], line 11\u001b[0m\n\u001b[1;32m      7\u001b[0m \u001b[39m# Instantiate gridsearch and define the metric to optimize \u001b[39;00m\n\u001b[1;32m      8\u001b[0m gs \u001b[39m=\u001b[39m GridSearchCV(DecisionTreeClassifier(), param_grid, scoring\u001b[39m=\u001b[39m\u001b[39m'\u001b[39m\u001b[39mrecall\u001b[39m\u001b[39m'\u001b[39m,\n\u001b[1;32m      9\u001b[0m                   cv\u001b[39m=\u001b[39m\u001b[39m5\u001b[39m, verbose\u001b[39m=\u001b[39m\u001b[39m1\u001b[39m, n_jobs\u001b[39m=\u001b[39m\u001b[39m-\u001b[39m\u001b[39m1\u001b[39m)\n\u001b[0;32m---> 11\u001b[0m gs\u001b[39m.\u001b[39;49mfit(X_train_scaled_ros, y_train_ros)\n",
      "File \u001b[0;32m~/neuefische/ML-Project-FraudDetection/.venv/lib/python3.9/site-packages/sklearn/model_selection/_search.py:891\u001b[0m, in \u001b[0;36mBaseSearchCV.fit\u001b[0;34m(self, X, y, groups, **fit_params)\u001b[0m\n\u001b[1;32m    885\u001b[0m     results \u001b[39m=\u001b[39m \u001b[39mself\u001b[39m\u001b[39m.\u001b[39m_format_results(\n\u001b[1;32m    886\u001b[0m         all_candidate_params, n_splits, all_out, all_more_results\n\u001b[1;32m    887\u001b[0m     )\n\u001b[1;32m    889\u001b[0m     \u001b[39mreturn\u001b[39;00m results\n\u001b[0;32m--> 891\u001b[0m \u001b[39mself\u001b[39;49m\u001b[39m.\u001b[39;49m_run_search(evaluate_candidates)\n\u001b[1;32m    893\u001b[0m \u001b[39m# multimetric is determined here because in the case of a callable\u001b[39;00m\n\u001b[1;32m    894\u001b[0m \u001b[39m# self.scoring the return type is only known after calling\u001b[39;00m\n\u001b[1;32m    895\u001b[0m first_test_score \u001b[39m=\u001b[39m all_out[\u001b[39m0\u001b[39m][\u001b[39m\"\u001b[39m\u001b[39mtest_scores\u001b[39m\u001b[39m\"\u001b[39m]\n",
      "File \u001b[0;32m~/neuefische/ML-Project-FraudDetection/.venv/lib/python3.9/site-packages/sklearn/model_selection/_search.py:1392\u001b[0m, in \u001b[0;36mGridSearchCV._run_search\u001b[0;34m(self, evaluate_candidates)\u001b[0m\n\u001b[1;32m   1390\u001b[0m \u001b[39mdef\u001b[39;00m \u001b[39m_run_search\u001b[39m(\u001b[39mself\u001b[39m, evaluate_candidates):\n\u001b[1;32m   1391\u001b[0m \u001b[39m    \u001b[39m\u001b[39m\"\"\"Search all candidates in param_grid\"\"\"\u001b[39;00m\n\u001b[0;32m-> 1392\u001b[0m     evaluate_candidates(ParameterGrid(\u001b[39mself\u001b[39;49m\u001b[39m.\u001b[39;49mparam_grid))\n",
      "File \u001b[0;32m~/neuefische/ML-Project-FraudDetection/.venv/lib/python3.9/site-packages/sklearn/model_selection/_search.py:838\u001b[0m, in \u001b[0;36mBaseSearchCV.fit.<locals>.evaluate_candidates\u001b[0;34m(candidate_params, cv, more_results)\u001b[0m\n\u001b[1;32m    830\u001b[0m \u001b[39mif\u001b[39;00m \u001b[39mself\u001b[39m\u001b[39m.\u001b[39mverbose \u001b[39m>\u001b[39m \u001b[39m0\u001b[39m:\n\u001b[1;32m    831\u001b[0m     \u001b[39mprint\u001b[39m(\n\u001b[1;32m    832\u001b[0m         \u001b[39m\"\u001b[39m\u001b[39mFitting \u001b[39m\u001b[39m{0}\u001b[39;00m\u001b[39m folds for each of \u001b[39m\u001b[39m{1}\u001b[39;00m\u001b[39m candidates,\u001b[39m\u001b[39m\"\u001b[39m\n\u001b[1;32m    833\u001b[0m         \u001b[39m\"\u001b[39m\u001b[39m totalling \u001b[39m\u001b[39m{2}\u001b[39;00m\u001b[39m fits\u001b[39m\u001b[39m\"\u001b[39m\u001b[39m.\u001b[39mformat(\n\u001b[1;32m    834\u001b[0m             n_splits, n_candidates, n_candidates \u001b[39m*\u001b[39m n_splits\n\u001b[1;32m    835\u001b[0m         )\n\u001b[1;32m    836\u001b[0m     )\n\u001b[0;32m--> 838\u001b[0m out \u001b[39m=\u001b[39m parallel(\n\u001b[1;32m    839\u001b[0m     delayed(_fit_and_score)(\n\u001b[1;32m    840\u001b[0m         clone(base_estimator),\n\u001b[1;32m    841\u001b[0m         X,\n\u001b[1;32m    842\u001b[0m         y,\n\u001b[1;32m    843\u001b[0m         train\u001b[39m=\u001b[39;49mtrain,\n\u001b[1;32m    844\u001b[0m         test\u001b[39m=\u001b[39;49mtest,\n\u001b[1;32m    845\u001b[0m         parameters\u001b[39m=\u001b[39;49mparameters,\n\u001b[1;32m    846\u001b[0m         split_progress\u001b[39m=\u001b[39;49m(split_idx, n_splits),\n\u001b[1;32m    847\u001b[0m         candidate_progress\u001b[39m=\u001b[39;49m(cand_idx, n_candidates),\n\u001b[1;32m    848\u001b[0m         \u001b[39m*\u001b[39;49m\u001b[39m*\u001b[39;49mfit_and_score_kwargs,\n\u001b[1;32m    849\u001b[0m     )\n\u001b[1;32m    850\u001b[0m     \u001b[39mfor\u001b[39;49;00m (cand_idx, parameters), (split_idx, (train, test)) \u001b[39min\u001b[39;49;00m product(\n\u001b[1;32m    851\u001b[0m         \u001b[39menumerate\u001b[39;49m(candidate_params), \u001b[39menumerate\u001b[39;49m(cv\u001b[39m.\u001b[39;49msplit(X, y, groups))\n\u001b[1;32m    852\u001b[0m     )\n\u001b[1;32m    853\u001b[0m )\n\u001b[1;32m    855\u001b[0m \u001b[39mif\u001b[39;00m \u001b[39mlen\u001b[39m(out) \u001b[39m<\u001b[39m \u001b[39m1\u001b[39m:\n\u001b[1;32m    856\u001b[0m     \u001b[39mraise\u001b[39;00m \u001b[39mValueError\u001b[39;00m(\n\u001b[1;32m    857\u001b[0m         \u001b[39m\"\u001b[39m\u001b[39mNo fits were performed. \u001b[39m\u001b[39m\"\u001b[39m\n\u001b[1;32m    858\u001b[0m         \u001b[39m\"\u001b[39m\u001b[39mWas the CV iterator empty? \u001b[39m\u001b[39m\"\u001b[39m\n\u001b[1;32m    859\u001b[0m         \u001b[39m\"\u001b[39m\u001b[39mWere there no candidates?\u001b[39m\u001b[39m\"\u001b[39m\n\u001b[1;32m    860\u001b[0m     )\n",
      "File \u001b[0;32m~/neuefische/ML-Project-FraudDetection/.venv/lib/python3.9/site-packages/joblib/parallel.py:1098\u001b[0m, in \u001b[0;36mParallel.__call__\u001b[0;34m(self, iterable)\u001b[0m\n\u001b[1;32m   1095\u001b[0m     \u001b[39mself\u001b[39m\u001b[39m.\u001b[39m_iterating \u001b[39m=\u001b[39m \u001b[39mFalse\u001b[39;00m\n\u001b[1;32m   1097\u001b[0m \u001b[39mwith\u001b[39;00m \u001b[39mself\u001b[39m\u001b[39m.\u001b[39m_backend\u001b[39m.\u001b[39mretrieval_context():\n\u001b[0;32m-> 1098\u001b[0m     \u001b[39mself\u001b[39;49m\u001b[39m.\u001b[39;49mretrieve()\n\u001b[1;32m   1099\u001b[0m \u001b[39m# Make sure that we get a last message telling us we are done\u001b[39;00m\n\u001b[1;32m   1100\u001b[0m elapsed_time \u001b[39m=\u001b[39m time\u001b[39m.\u001b[39mtime() \u001b[39m-\u001b[39m \u001b[39mself\u001b[39m\u001b[39m.\u001b[39m_start_time\n",
      "File \u001b[0;32m~/neuefische/ML-Project-FraudDetection/.venv/lib/python3.9/site-packages/joblib/parallel.py:975\u001b[0m, in \u001b[0;36mParallel.retrieve\u001b[0;34m(self)\u001b[0m\n\u001b[1;32m    973\u001b[0m \u001b[39mtry\u001b[39;00m:\n\u001b[1;32m    974\u001b[0m     \u001b[39mif\u001b[39;00m \u001b[39mgetattr\u001b[39m(\u001b[39mself\u001b[39m\u001b[39m.\u001b[39m_backend, \u001b[39m'\u001b[39m\u001b[39msupports_timeout\u001b[39m\u001b[39m'\u001b[39m, \u001b[39mFalse\u001b[39;00m):\n\u001b[0;32m--> 975\u001b[0m         \u001b[39mself\u001b[39m\u001b[39m.\u001b[39m_output\u001b[39m.\u001b[39mextend(job\u001b[39m.\u001b[39;49mget(timeout\u001b[39m=\u001b[39;49m\u001b[39mself\u001b[39;49m\u001b[39m.\u001b[39;49mtimeout))\n\u001b[1;32m    976\u001b[0m     \u001b[39melse\u001b[39;00m:\n\u001b[1;32m    977\u001b[0m         \u001b[39mself\u001b[39m\u001b[39m.\u001b[39m_output\u001b[39m.\u001b[39mextend(job\u001b[39m.\u001b[39mget())\n",
      "File \u001b[0;32m~/neuefische/ML-Project-FraudDetection/.venv/lib/python3.9/site-packages/joblib/_parallel_backends.py:567\u001b[0m, in \u001b[0;36mLokyBackend.wrap_future_result\u001b[0;34m(future, timeout)\u001b[0m\n\u001b[1;32m    564\u001b[0m \u001b[39m\u001b[39m\u001b[39m\"\"\"Wrapper for Future.result to implement the same behaviour as\u001b[39;00m\n\u001b[1;32m    565\u001b[0m \u001b[39mAsyncResults.get from multiprocessing.\"\"\"\u001b[39;00m\n\u001b[1;32m    566\u001b[0m \u001b[39mtry\u001b[39;00m:\n\u001b[0;32m--> 567\u001b[0m     \u001b[39mreturn\u001b[39;00m future\u001b[39m.\u001b[39;49mresult(timeout\u001b[39m=\u001b[39;49mtimeout)\n\u001b[1;32m    568\u001b[0m \u001b[39mexcept\u001b[39;00m CfTimeoutError \u001b[39mas\u001b[39;00m e:\n\u001b[1;32m    569\u001b[0m     \u001b[39mraise\u001b[39;00m \u001b[39mTimeoutError\u001b[39;00m \u001b[39mfrom\u001b[39;00m \u001b[39me\u001b[39;00m\n",
      "File \u001b[0;32m~/.pyenv/versions/3.9.8/lib/python3.9/concurrent/futures/_base.py:440\u001b[0m, in \u001b[0;36mFuture.result\u001b[0;34m(self, timeout)\u001b[0m\n\u001b[1;32m    437\u001b[0m \u001b[39melif\u001b[39;00m \u001b[39mself\u001b[39m\u001b[39m.\u001b[39m_state \u001b[39m==\u001b[39m FINISHED:\n\u001b[1;32m    438\u001b[0m     \u001b[39mreturn\u001b[39;00m \u001b[39mself\u001b[39m\u001b[39m.\u001b[39m__get_result()\n\u001b[0;32m--> 440\u001b[0m \u001b[39mself\u001b[39;49m\u001b[39m.\u001b[39;49m_condition\u001b[39m.\u001b[39;49mwait(timeout)\n\u001b[1;32m    442\u001b[0m \u001b[39mif\u001b[39;00m \u001b[39mself\u001b[39m\u001b[39m.\u001b[39m_state \u001b[39min\u001b[39;00m [CANCELLED, CANCELLED_AND_NOTIFIED]:\n\u001b[1;32m    443\u001b[0m     \u001b[39mraise\u001b[39;00m CancelledError()\n",
      "File \u001b[0;32m~/.pyenv/versions/3.9.8/lib/python3.9/threading.py:312\u001b[0m, in \u001b[0;36mCondition.wait\u001b[0;34m(self, timeout)\u001b[0m\n\u001b[1;32m    310\u001b[0m \u001b[39mtry\u001b[39;00m:    \u001b[39m# restore state no matter what (e.g., KeyboardInterrupt)\u001b[39;00m\n\u001b[1;32m    311\u001b[0m     \u001b[39mif\u001b[39;00m timeout \u001b[39mis\u001b[39;00m \u001b[39mNone\u001b[39;00m:\n\u001b[0;32m--> 312\u001b[0m         waiter\u001b[39m.\u001b[39;49macquire()\n\u001b[1;32m    313\u001b[0m         gotit \u001b[39m=\u001b[39m \u001b[39mTrue\u001b[39;00m\n\u001b[1;32m    314\u001b[0m     \u001b[39melse\u001b[39;00m:\n",
      "\u001b[0;31mKeyboardInterrupt\u001b[0m: "
     ]
    }
   ],
   "source": [
    "# Defining parameter grid (as dictionary)\n",
    "param_grid = {\"ccp_alpha\" : [0.0, 0.1, 0.5, 1], #this actually defines the model you use\n",
    "              \"max_depth\" : [4,5,6,7 ,10,],\n",
    "              \"max_features\" : [\"sqrt\", \"none\"],\n",
    "             }\n",
    "\n",
    "# Instantiate gridsearch and define the metric to optimize \n",
    "gs = GridSearchCV(DecisionTreeClassifier(), param_grid, scoring='recall',\n",
    "                  cv=5, verbose=1, n_jobs=-1)\n",
    "\n",
    "gs.fit(X_train_scaled_ros, y_train_ros)\n"
   ]
  },
  {
   "cell_type": "code",
   "execution_count": null,
   "metadata": {},
   "outputs": [],
   "source": [
    "# Best score\n",
    "print('Best score:', round(gs.best_score_, 3))\n",
    "\n",
    "# Best parameters\n",
    "print('Best parameters:', gs.best_params_)"
   ]
  },
  {
   "cell_type": "code",
   "execution_count": null,
   "metadata": {},
   "outputs": [],
   "source": [
    "dtree_best = gs.best_estimator_"
   ]
  },
  {
   "cell_type": "code",
   "execution_count": null,
   "metadata": {},
   "outputs": [],
   "source": [
    "dtree_best.fit(X_train_scaled_ros, y_train_ros)\n",
    "y_pred_best = dtree_best.predict(X_test)\n",
    "\n",
    "# Confusion matrix using confusion_matrix from sklearn\n",
    "cfm = metrics.confusion_matrix(y_test, y_pred_best)\n",
    "sns.heatmap(cfm, cmap='YlGnBu', annot=True, fmt='d', linewidths=.5);    \n",
    "print('Recall: ',metrics.recall_score(y_test, y_pred_best))\n",
    "print('Report: ',metrics.classification_report(y_test, y_pred_best))"
   ]
  },
  {
   "cell_type": "code",
   "execution_count": null,
   "metadata": {},
   "outputs": [],
   "source": [
    "y_pred_train = dtree.predict(X_train_scaled_ros)\n",
    "\n",
    "# Confusion matrix using confusion_matrix from sklearn\n",
    "cfm = metrics.confusion_matrix(y_train_ros, y_pred_train)\n",
    "sns.heatmap(cfm, cmap='YlGnBu', annot=True, fmt='d', linewidths=.5);    \n",
    "print('Recall: ',metrics.recall_score(y_train_ros, y_pred_train))\n",
    "print('Report: ',metrics.classification_report(y_train_ros, y_pred_train))"
   ]
  },
  {
   "cell_type": "code",
   "execution_count": null,
   "metadata": {},
   "outputs": [],
   "source": [
    "X_train_scaled_ros.info()"
   ]
  },
  {
   "cell_type": "code",
   "execution_count": null,
   "metadata": {},
   "outputs": [],
   "source": [
    "%store data_scaled"
   ]
  },
  {
   "cell_type": "code",
   "execution_count": null,
   "metadata": {},
   "outputs": [],
   "source": [
    "X_train"
   ]
  },
  {
   "cell_type": "markdown",
   "metadata": {},
   "source": []
  },
  {
   "cell_type": "code",
   "execution_count": null,
   "metadata": {},
   "outputs": [],
   "source": [
    "# Decisiontree Basemodel\n",
    "# import necessary library  \n",
    "from sklearn.tree import plot_tree\n",
    "# import the regressor \n",
    "from sklearn.tree import DecisionTreeClassifier\n",
    "from sklearn import metrics\n",
    "from sklearn.metrics import confusion_matrix, classification_report, accuracy_score, f1_score, recall_score\n"
   ]
  },
  {
   "cell_type": "code",
   "execution_count": 36,
   "metadata": {},
   "outputs": [
    {
     "name": "stdout",
     "output_type": "stream",
     "text": [
      "Recall:  0.1667682212327162\n",
      "Report:                precision    recall  f1-score   support\n",
      "\n",
      "         0.0       0.93      0.92      0.93    247270\n",
      "         1.0       0.16      0.17      0.16     21335\n",
      "\n",
      "    accuracy                           0.86    268605\n",
      "   macro avg       0.54      0.55      0.54    268605\n",
      "weighted avg       0.87      0.86      0.87    268605\n",
      "\n"
     ]
    },
    {
     "data": {
      "image/png": "[encoded data removed]",
      "text/plain": [
       "<Figure size 640x480 with 2 Axes>"
      ]
     },
     "metadata": {},
     "output_type": "display_data"
    }
   ],
   "source": [
    "\n",
    "# Modelling Decisiontree regression\n",
    "dtree = DecisionTreeClassifier()\n",
    "dtree.fit(X_train, y_train)\n",
    "y_pred = dtree.predict(X_test)\n",
    "\n",
    "# Confusion matrix using confusion_matrix from sklearn\n",
    "cfm = confusion_matrix(y_test, y_pred)\n",
    "sns.heatmap(cfm, cmap='YlGnBu', annot=True, fmt='d', linewidths=.5);    \n",
    "print('Recall: ',recall_score(y_test, y_pred))\n",
    "print('Report: ',classification_report(y_test, y_pred))"
   ]
  },
  {
   "cell_type": "code",
   "execution_count": null,
   "metadata": {},
   "outputs": [],
   "source": [
    "y_pred_train = dtree.predict(X_train)\n",
    "\n",
    "# Confusion matrix using confusion_matrix from sklearn\n",
    "cfm = metrics.confusion_matrix(y_train, y_pred_train)\n",
    "sns.heatmap(cfm, cmap='YlGnBu', annot=True, fmt='d', linewidths=.5);    \n",
    "print('Recall: ',metrics.recall_score(y_train, y_pred_train))\n",
    "print('Report: ',metrics.classification_report(y_train, y_pred_train))"
   ]
  },
  {
   "cell_type": "code",
   "execution_count": null,
   "metadata": {},
   "outputs": [],
   "source": [
    "from matplotlib import pyplot\n",
    "importance = dtree.feature_importances_\n",
    "# summarize feature importance\n",
    "for i,v in enumerate(importance):\n",
    " print('Feature: %0d, Score: %.5f' % (i,v))\n",
    "# plot feature importance\n",
    "pyplot.bar([x for x in range(len(importance))], importance)\n",
    "pyplot.show()"
   ]
  },
  {
   "cell_type": "code",
   "execution_count": null,
   "metadata": {},
   "outputs": [],
   "source": [
    "%store X_train\n",
    "%store y_train\n",
    "%store X_test\n",
    "%store y_test\n",
    "\n"
   ]
  },
  {
   "cell_type": "code",
   "execution_count": null,
   "metadata": {},
   "outputs": [],
   "source": [
    "X_train.info()"
   ]
  },
  {
   "cell_type": "code",
   "execution_count": null,
   "metadata": {},
   "outputs": [],
   "source": [
    "data_scaled.head(10)"
   ]
  },
  {
   "cell_type": "code",
   "execution_count": null,
   "metadata": {},
   "outputs": [],
   "source": [
    "invoices.head()"
   ]
  },
  {
   "cell_type": "code",
   "execution_count": null,
   "metadata": {},
   "outputs": [],
   "source": [
    "X = data_scaled[['consommation_level_1', 'old_index', 'new_index']]\n",
    "y = data_scaled.target"
   ]
  },
  {
   "cell_type": "code",
   "execution_count": null,
   "metadata": {},
   "outputs": [],
   "source": [
    "X_train, X_test, y_train, y_test = train_test_split(X, y, stratify=y ,test_size=0.3, random_state=150)\n",
    "# Split the 'features' and 'income' data into training and testing sets\n",
    "\n",
    "# Show the results of the split\n",
    "print (\"Training set has {} samples.\".format(X_train.shape[0]))\n",
    "print (\"Testing set has {} samples.\".format(X_test.shape[0]))"
   ]
  },
  {
   "cell_type": "code",
   "execution_count": null,
   "metadata": {},
   "outputs": [],
   "source": [
    "# Modelling Decisiontree regression\n",
    "dtree = DecisionTreeClassifier()\n",
    "dtree.fit(X_train, y_train)\n",
    "y_pred = dtree.predict(X_test)\n",
    "\n",
    "# Confusion matrix using confusion_matrix from sklearn\n",
    "cfm = metrics.confusion_matrix(y_test, y_pred)\n",
    "sns.heatmap(cfm, cmap='YlGnBu', annot=True, fmt='d', linewidths=.5);    \n",
    "print('Recall: ',metrics.recall_score(y_test, y_pred))\n",
    "print('Report: ',metrics.classification_report(y_test, y_pred))"
   ]
  }
 ],
 "metadata": {
  "kernelspec": {
   "display_name": ".venv",
   "language": "python",
   "name": "python3"
  },
  "language_info": {
   "codemirror_mode": {
    "name": "ipython",
    "version": 3
   },
   "file_extension": ".py",
   "mimetype": "text/x-python",
   "name": "python",
   "nbconvert_exporter": "python",
   "pygments_lexer": "ipython3",
   "version": "3.9.8"
  },
  "orig_nbformat": 4,
  "vscode": {
   "interpreter": {
    "hash": "fae802cab87d08da7abd04f07de0a2a4a52de9c0568ceede68f46ab7f01312d5"
   }
  }
 },
 "nbformat": 4,
 "nbformat_minor": 2
}
