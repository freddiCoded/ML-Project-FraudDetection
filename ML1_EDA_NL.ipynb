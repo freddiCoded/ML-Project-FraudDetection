{
 "cells": [
  {
   "attachments": {},
   "cell_type": "markdown",
   "metadata": {},
   "source": []
  },
  {
   "cell_type": "code",
   "execution_count": 1,
   "metadata": {},
   "outputs": [
    {
     "name": "stderr",
     "output_type": "stream",
     "text": [
      "UsageError: unrecognized arguments: # show the plots on the online copy\n"
     ]
    }
   ],
   "source": [
    "\n",
    "import pandas as pd\n",
    "import matplotlib\n",
    "import matplotlib.pyplot as plt # run pip install plotly if error\n",
    "import seaborn\n",
    "import seaborn as sns\n",
    "import plotly.express as px # if error install in terminal : pip install plotly\n",
    "import warnings\n",
    "warnings.filterwarnings('ignore')\n",
    "\n",
    "%matplotlib inline # show the plots on the online copy"
   ]
  },
  {
   "cell_type": "code",
   "execution_count": 2,
   "metadata": {},
   "outputs": [],
   "source": [
    "clients = pd.read_csv('data/client_train.csv')\n",
    "invoices = pd.read_csv('data/invoice_train.csv')"
   ]
  },
  {
   "cell_type": "code",
   "execution_count": 3,
   "metadata": {},
   "outputs": [
    {
     "data": {
      "text/html": [
       "<div>\n",
       "<style scoped>\n",
       "    .dataframe tbody tr th:only-of-type {\n",
       "        vertical-align: middle;\n",
       "    }\n",
       "\n",
       "    .dataframe tbody tr th {\n",
       "        vertical-align: top;\n",
       "    }\n",
       "\n",
       "    .dataframe thead th {\n",
       "        text-align: right;\n",
       "    }\n",
       "</style>\n",
       "<table border=\"1\" class=\"dataframe\">\n",
       "  <thead>\n",
       "    <tr style=\"text-align: right;\">\n",
       "      <th></th>\n",
       "      <th>disrict</th>\n",
       "      <th>client_id</th>\n",
       "      <th>client_catg</th>\n",
       "      <th>region</th>\n",
       "      <th>creation_date</th>\n",
       "      <th>target</th>\n",
       "      <th>invoice_date</th>\n",
       "      <th>tarif_type</th>\n",
       "      <th>counter_number</th>\n",
       "      <th>counter_statue</th>\n",
       "      <th>...</th>\n",
       "      <th>reading_remarque</th>\n",
       "      <th>counter_coefficient</th>\n",
       "      <th>consommation_level_1</th>\n",
       "      <th>consommation_level_2</th>\n",
       "      <th>consommation_level_3</th>\n",
       "      <th>consommation_level_4</th>\n",
       "      <th>old_index</th>\n",
       "      <th>new_index</th>\n",
       "      <th>months_number</th>\n",
       "      <th>counter_type</th>\n",
       "    </tr>\n",
       "  </thead>\n",
       "  <tbody>\n",
       "    <tr>\n",
       "      <th>0</th>\n",
       "      <td>60</td>\n",
       "      <td>train_Client_0</td>\n",
       "      <td>11</td>\n",
       "      <td>101</td>\n",
       "      <td>31/12/1994</td>\n",
       "      <td>0.0</td>\n",
       "      <td>2014-03-24</td>\n",
       "      <td>11</td>\n",
       "      <td>1335667</td>\n",
       "      <td>0</td>\n",
       "      <td>...</td>\n",
       "      <td>8</td>\n",
       "      <td>1</td>\n",
       "      <td>82</td>\n",
       "      <td>0</td>\n",
       "      <td>0</td>\n",
       "      <td>0</td>\n",
       "      <td>14302</td>\n",
       "      <td>14384</td>\n",
       "      <td>4</td>\n",
       "      <td>ELEC</td>\n",
       "    </tr>\n",
       "    <tr>\n",
       "      <th>1</th>\n",
       "      <td>60</td>\n",
       "      <td>train_Client_0</td>\n",
       "      <td>11</td>\n",
       "      <td>101</td>\n",
       "      <td>31/12/1994</td>\n",
       "      <td>0.0</td>\n",
       "      <td>2013-03-29</td>\n",
       "      <td>11</td>\n",
       "      <td>1335667</td>\n",
       "      <td>0</td>\n",
       "      <td>...</td>\n",
       "      <td>6</td>\n",
       "      <td>1</td>\n",
       "      <td>1200</td>\n",
       "      <td>184</td>\n",
       "      <td>0</td>\n",
       "      <td>0</td>\n",
       "      <td>12294</td>\n",
       "      <td>13678</td>\n",
       "      <td>4</td>\n",
       "      <td>ELEC</td>\n",
       "    </tr>\n",
       "    <tr>\n",
       "      <th>2</th>\n",
       "      <td>60</td>\n",
       "      <td>train_Client_0</td>\n",
       "      <td>11</td>\n",
       "      <td>101</td>\n",
       "      <td>31/12/1994</td>\n",
       "      <td>0.0</td>\n",
       "      <td>2015-03-23</td>\n",
       "      <td>11</td>\n",
       "      <td>1335667</td>\n",
       "      <td>0</td>\n",
       "      <td>...</td>\n",
       "      <td>8</td>\n",
       "      <td>1</td>\n",
       "      <td>123</td>\n",
       "      <td>0</td>\n",
       "      <td>0</td>\n",
       "      <td>0</td>\n",
       "      <td>14624</td>\n",
       "      <td>14747</td>\n",
       "      <td>4</td>\n",
       "      <td>ELEC</td>\n",
       "    </tr>\n",
       "  </tbody>\n",
       "</table>\n",
       "<p>3 rows × 21 columns</p>\n",
       "</div>"
      ],
      "text/plain": [
       "   disrict       client_id  client_catg  region creation_date  target  \\\n",
       "0       60  train_Client_0           11     101    31/12/1994     0.0   \n",
       "1       60  train_Client_0           11     101    31/12/1994     0.0   \n",
       "2       60  train_Client_0           11     101    31/12/1994     0.0   \n",
       "\n",
       "  invoice_date  tarif_type  counter_number counter_statue  ...  \\\n",
       "0   2014-03-24          11         1335667              0  ...   \n",
       "1   2013-03-29          11         1335667              0  ...   \n",
       "2   2015-03-23          11         1335667              0  ...   \n",
       "\n",
       "   reading_remarque  counter_coefficient  consommation_level_1  \\\n",
       "0                 8                    1                    82   \n",
       "1                 6                    1                  1200   \n",
       "2                 8                    1                   123   \n",
       "\n",
       "   consommation_level_2  consommation_level_3  consommation_level_4  \\\n",
       "0                     0                     0                     0   \n",
       "1                   184                     0                     0   \n",
       "2                     0                     0                     0   \n",
       "\n",
       "   old_index  new_index  months_number  counter_type  \n",
       "0      14302      14384              4          ELEC  \n",
       "1      12294      13678              4          ELEC  \n",
       "2      14624      14747              4          ELEC  \n",
       "\n",
       "[3 rows x 21 columns]"
      ]
     },
     "execution_count": 3,
     "metadata": {},
     "output_type": "execute_result"
    }
   ],
   "source": [
    "data = pd.merge(clients, invoices, how='left', on='client_id')\n",
    "data.head(3)"
   ]
  },
  {
   "cell_type": "code",
   "execution_count": 4,
   "metadata": {},
   "outputs": [],
   "source": [
    "# # Here's the code for that\n",
    "# for col in ['disrict','region']:\n",
    "#     region = data.groupby([col])['client_id'].count()\n",
    "#     plt.bar(x=region.index, height=region.values)\n",
    "#     plt.title(col+' distribution')\n",
    "#     plt.show()\n",
    "# # This will output 2 graphs showing the district and the region distribution respectively.\n",
    "# # Note the For loop"
   ]
  },
  {
   "cell_type": "code",
   "execution_count": 5,
   "metadata": {},
   "outputs": [
    {
     "name": "stdout",
     "output_type": "stream",
     "text": [
      "<class 'pandas.core.frame.DataFrame'>\n",
      "Int64Index: 4476749 entries, 0 to 4476748\n",
      "Data columns (total 21 columns):\n",
      " #   Column                Dtype  \n",
      "---  ------                -----  \n",
      " 0   disrict               int64  \n",
      " 1   client_id             object \n",
      " 2   client_catg           int64  \n",
      " 3   region                int64  \n",
      " 4   creation_date         object \n",
      " 5   target                float64\n",
      " 6   invoice_date          object \n",
      " 7   tarif_type            int64  \n",
      " 8   counter_number        int64  \n",
      " 9   counter_statue        object \n",
      " 10  counter_code          int64  \n",
      " 11  reading_remarque      int64  \n",
      " 12  counter_coefficient   int64  \n",
      " 13  consommation_level_1  int64  \n",
      " 14  consommation_level_2  int64  \n",
      " 15  consommation_level_3  int64  \n",
      " 16  consommation_level_4  int64  \n",
      " 17  old_index             int64  \n",
      " 18  new_index             int64  \n",
      " 19  months_number         int64  \n",
      " 20  counter_type          object \n",
      "dtypes: float64(1), int64(15), object(5)\n",
      "memory usage: 751.4+ MB\n"
     ]
    }
   ],
   "source": [
    "data.info()"
   ]
  },
  {
   "attachments": {},
   "cell_type": "markdown",
   "metadata": {},
   "source": [
    "# Main focuss on:\n",
    "\n",
    "7   tarif_type            int64  \n",
    " 8   counter_number        int64  \n",
    " 9   counter_statue        object \n",
    " 10  counter_code          int64  \n",
    " 11  reading_remarque      int64  \n",
    " 12  counter_coefficient   int64 "
   ]
  },
  {
   "cell_type": "code",
   "execution_count": 6,
   "metadata": {},
   "outputs": [],
   "source": [
    "# for col in ['tarif_type']:\n",
    "#     region = data.groupby([col])['client_id'].count()\n",
    "#     plt.bar(x=region.index, height=region.values)\n",
    "#     plt.title(col+' distribution')\n",
    "#     plt.show()"
   ]
  },
  {
   "cell_type": "code",
   "execution_count": 7,
   "metadata": {},
   "outputs": [],
   "source": [
    "# #ploting data\n",
    "# px.scatter(data, x=\"target\", y=\"tarif_type\", color= \"target\")"
   ]
  },
  {
   "cell_type": "code",
   "execution_count": 8,
   "metadata": {},
   "outputs": [],
   "source": [
    "#ploting data\n",
    "#px.scatter(data, x=\"counter_number\", y=\"tarif_type\", color= \"tarif_type\")"
   ]
  },
  {
   "cell_type": "code",
   "execution_count": 9,
   "metadata": {},
   "outputs": [],
   "source": [
    "#sns.pairplot(data['counter_number', 'counter_statue', 'counter_code', 'reading_remarque', 'counter_coefficient', 'target']);"
   ]
  },
  {
   "cell_type": "code",
   "execution_count": 10,
   "metadata": {},
   "outputs": [],
   "source": [
    "# matplotlib.rcParams['figure.figsize'] = (20,6)\n",
    "# sns.heatmap(data.isnull(),yticklabels = False, cbar = False , cmap = 'viridis')\n",
    "# plt.title(\"Missing null values\")"
   ]
  },
  {
   "cell_type": "code",
   "execution_count": 11,
   "metadata": {},
   "outputs": [],
   "source": [
    "#ploting data\n",
    "px.scatter(data, x=\"reading_remarque\", y=\"tarif_type\", color= \"target\")"
   ]
  },
  {
   "cell_type": "code",
   "execution_count": 12,
   "metadata": {},
   "outputs": [],
   "source": [
    "# df_rr= data.loc[(data['reading_remarque'] < 50)]\n",
    "# df_rr.head()\n",
    "# df_rr.shape"
   ]
  },
  {
   "cell_type": "code",
   "execution_count": 13,
   "metadata": {},
   "outputs": [],
   "source": [
    "#ploting data\n",
    "#px.scatter(df_rr, x=\"reading_remarque\", y=\"counter_statue\", color= \"target\")"
   ]
  },
  {
   "cell_type": "code",
   "execution_count": 14,
   "metadata": {},
   "outputs": [],
   "source": [
    "#sns.pairplot(df_rr['counter_statue', 'counter_code', 'reading_remarque', 'counter_coefficient', 'target']);"
   ]
  },
  {
   "cell_type": "code",
   "execution_count": 15,
   "metadata": {},
   "outputs": [],
   "source": [
    "#edit out rank?\n",
    "# fig = px.scatter_matrix(data[['counter_statue','target']])\n",
    "\n",
    "# fig.update_layout(\n",
    "#     title='Fraud Detection in Electricity and Gas',\n",
    "#     width=1000,\n",
    "#     height=800,\n",
    "# )\n",
    "\n",
    "# fig.show()"
   ]
  },
  {
   "cell_type": "code",
   "execution_count": 16,
   "metadata": {},
   "outputs": [],
   "source": [
    "# fig = px.scatter_matrix(data)\n",
    "\n",
    "# fig.update_layout(\n",
    "#     title='Fraud Detection in Electricity and Gas',\n",
    "#     width=1000,\n",
    "#     height=800,\n",
    "# )\n",
    "\n",
    "# fig.show()"
   ]
  },
  {
   "cell_type": "code",
   "execution_count": 17,
   "metadata": {},
   "outputs": [
    {
     "data": {
      "text/plain": [
       "<AxesSubplot:xlabel='counter_statue', ylabel='count'>"
      ]
     },
     "execution_count": 17,
     "metadata": {},
     "output_type": "execute_result"
    },
    {
     "data": {
      "image/png": "[encoded data removed]",
      "text/plain": [
       "<Figure size 640x480 with 1 Axes>"
      ]
     },
     "metadata": {},
     "output_type": "display_data"
    }
   ],
   "source": [
    "sns.countplot(data=data,  hue='target', x='counter_statue')"
   ]
  },
  {
   "cell_type": "code",
   "execution_count": null,
   "metadata": {},
   "outputs": [],
   "source": [
    "sns.countplot(data=df,  hue='target', x='creation_date')\n",
    "plt.xticks(rotation=90)\n",
    "plt.title(\"\")"
   ]
  }
 ],
 "metadata": {
  "kernelspec": {
   "display_name": ".venv",
   "language": "python",
   "name": "python3"
  },
  "language_info": {
   "codemirror_mode": {
    "name": "ipython",
    "version": 3
   },
   "file_extension": ".py",
   "mimetype": "text/x-python",
   "name": "python",
   "nbconvert_exporter": "python",
   "pygments_lexer": "ipython3",
   "version": "3.9.8"
  },
  "orig_nbformat": 4,
  "vscode": {
   "interpreter": {
    "hash": "a206be83cd64a218c6bd5add534c9c7833dc9b46b268d601e6d8dc6291f6350f"
   }
  }
 },
 "nbformat": 4,
 "nbformat_minor": 2
}
